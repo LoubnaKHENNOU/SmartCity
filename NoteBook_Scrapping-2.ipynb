{
  "nbformat": 4,
  "nbformat_minor": 0,
  "metadata": {
    "colab": {
      "name": "NoteBook_Scrapping",
      "provenance": [],
      "collapsed_sections": []
    },
    "kernelspec": {
      "name": "python3",
      "display_name": "Python 3"
    },
    "language_info": {
      "name": "python"
    }
  },
  "cells": [
    {
      "cell_type": "markdown",
      "source": [
        "# Scrapping du site \"https://www.linternaute.com/ville/classement/villes/consommation-eau\""
      ],
      "metadata": {
        "id": "E7TWAYXxTXav"
      }
    },
    {
      "cell_type": "markdown",
      "source": [
        "# Téléchargement des librairies"
      ],
      "metadata": {
        "id": "ztSFeYkX5446"
      }
    },
    {
      "cell_type": "code",
      "source": [
        "import requests\n",
        "from bs4 import BeautifulSoup\n",
        "import pandas as pd\n",
        "import time"
      ],
      "metadata": {
        "id": "atJ1WWzM57PX"
      },
      "execution_count": 2,
      "outputs": []
    },
    {
      "cell_type": "markdown",
      "source": [
        "# Scrapper la liste des villes de la première page"
      ],
      "metadata": {
        "id": "PP9QJe8u71N0"
      }
    },
    {
      "cell_type": "code",
      "source": [
        "url1 = \"https://www.linternaute.com/ville/classement/villes/consommation-eau\"\n",
        "url2 = \"https://www.linternaute.com/voyage/climat/classement/departements/precipitations\""
      ],
      "metadata": {
        "id": "MIFHLpvATjEq"
      },
      "execution_count": 3,
      "outputs": []
    },
    {
      "cell_type": "markdown",
      "source": [
        "1. Parser l'url avec BeautifulSoup :"
      ],
      "metadata": {
        "id": "5_2WuwAJTqQm"
      }
    },
    {
      "cell_type": "code",
      "source": [
        "#url1\n",
        "response = requests.get(url1)\n",
        "soup = BeautifulSoup(response.text, \"html.parser\")\n",
        "type(soup)"
      ],
      "metadata": {
        "colab": {
          "base_uri": "https://localhost:8080/"
        },
        "id": "RSX1otvh6VIc",
        "outputId": "5f8294b5-d67b-4cf8-c3cd-e2baeb009d3a"
      },
      "execution_count": 4,
      "outputs": [
        {
          "output_type": "execute_result",
          "data": {
            "text/plain": [
              "bs4.BeautifulSoup"
            ]
          },
          "metadata": {},
          "execution_count": 4
        }
      ]
    },
    {
      "cell_type": "markdown",
      "source": [
        "2. Récupérer les villes et leurs consommations de la première page du site :"
      ],
      "metadata": {
        "id": "c7-34OXpTz6I"
      }
    },
    {
      "cell_type": "code",
      "source": [
        "##url1\n",
        "response = requests.get(url1)\n",
        "soup = BeautifulSoup(response.text, \"html.parser\")\n",
        "type(soup)\n",
        "\n",
        "#Accéder à la balise où se trouve les villes et leurs consommations\n",
        "container = soup.find('table', class_=\"odTable \").tbody\n",
        "container = container.find_all('tr')\n",
        "\n",
        "#Initialiser deux listes vides pour stocker les éléments scrapés (villes, consommations)\n",
        "ls_conso_per_year = []\n",
        "ls_cities= []\n",
        "\n",
        "#Récupérer les villes et leurs consommations par an\n",
        "for i in range (len(container)):\n",
        "\n",
        "  #Accéder aux balises html spécifiques pour scraper les villes et les consommations\n",
        "  cities = container[i].find_all(\"td\")[1].a.text\n",
        "  conso_per_year = container[i].find_all(\"td\")[2].text\n",
        "\n",
        "  #Rajout dans les listes préalablement initialisées\n",
        "  ls_cities.append(cities)\n",
        "  ls_conso_per_year.append(conso_per_year)\n",
        "\n",
        "#Afficher nos listes\n",
        "print(ls_cities)\n",
        "print(ls_conso_per_year)"
      ],
      "metadata": {
        "colab": {
          "base_uri": "https://localhost:8080/"
        },
        "id": "aM9iu6_p66ds",
        "outputId": "b2a0e78c-0170-4048-9a31-d3dbd4d31709"
      },
      "execution_count": 7,
      "outputs": [
        {
          "output_type": "stream",
          "name": "stdout",
          "text": [
            "['Malzy', 'Neurey-lès-la-Demie', 'Troyes', 'Cricquebœuf', 'Brunstatt-Didenheim', 'Eschentzwiller', 'Habsheim', 'Illzach', 'Lutterbach', 'Morschwiller-le-Bas', 'Mulhouse', 'Pfastatt', 'Reiningue', 'Riedisheim', 'Rixheim', 'Sausheim', 'Zimmersheim', 'Chanterelle', 'Rebreuve-sur-Canche', 'Verneuil-Petit', 'Bannans', 'Bonnevaux', 'Boujailles', 'Bouverans', 'Bulle', 'Courvières', 'Dompierre-les-Tilleuls', 'Frasne', 'La Rivière-Drugeon', 'Vaux-et-Chantegrue', 'Condat', 'Anteuil', 'Gémonville', 'Alleuze', 'Tramont-Émy', 'Servin', 'Maizicourt', 'Perrogney-les-Fontaines', 'Mesnois', 'Gourgançon', 'Herbisse', 'Semoine', 'Villiers-Herbisse', 'Art-sur-Meurthe', 'Dommartemont', 'Essey-lès-Nancy', 'Fléville-devant-Nancy', 'Heillecourt', 'Houdemont', 'Jarville-la-Malgrange']\n",
            "['246 m3/an', '243 m3/an', '243 m3/an', '243 m3/an', '242 m3/an', '242 m3/an', '242 m3/an', '242 m3/an', '242 m3/an', '242 m3/an', '242 m3/an', '242 m3/an', '242 m3/an', '242 m3/an', '242 m3/an', '242 m3/an', '242 m3/an', '241 m3/an', '238 m3/an', '236 m3/an', '234 m3/an', '234 m3/an', '234 m3/an', '234 m3/an', '234 m3/an', '234 m3/an', '234 m3/an', '234 m3/an', '234 m3/an', '234 m3/an', '233 m3/an', '232 m3/an', '232 m3/an', '232 m3/an', '230 m3/an', '229 m3/an', '228 m3/an', '226 m3/an', '222 m3/an', '221 m3/an', '221 m3/an', '221 m3/an', '221 m3/an', '218 m3/an', '218 m3/an', '218 m3/an', '218 m3/an', '218 m3/an', '218 m3/an', '218 m3/an']\n"
          ]
        }
      ]
    },
    {
      "cell_type": "code",
      "source": [
        "##url2\n",
        "response = requests.get(url2)\n",
        "soup = BeautifulSoup(response.text, \"html.parser\")\n",
        "type(soup)\n",
        "\n",
        "#Accéder à la balise où se trouve les départements et les hauteurs de précipitations\n",
        "container = soup.find('table', class_=\"odTable \").tbody\n",
        "container = container.find_all('tr')\n",
        "\n",
        "#Initialiser deux listes vides pour stocker les éléments scrapés (départements et les hauteurs)\n",
        "ls_height = []\n",
        "ls_departement = []\n",
        "\n",
        "#Récupérer les villes et leurs consommations par an\n",
        "for i in range (len(container)):\n",
        "\n",
        "  #Accéder aux balises html spécifiques pour scraper les départements et les hauteurs de précipitations\n",
        "  departement = container[i].find_all(\"td\")[1].a.text\n",
        "  height = container[i].find_all(\"td\")[2].text.replace(u'\\xa0', u'')\n",
        "\n",
        "\n",
        "  #Rajout dans les listes préalablement initialisées\n",
        "  ls_departement.append(departement)\n",
        "  ls_height.append(height)\n",
        "\n",
        "#Afficher nos listes\n",
        "print(ls_departement)\n",
        "print(ls_height)"
      ],
      "metadata": {
        "colab": {
          "base_uri": "https://localhost:8080/"
        },
        "id": "v0bILsd59vai",
        "outputId": "dd5182d4-22a5-4656-8c2d-d5a7ae6b2268"
      },
      "execution_count": 18,
      "outputs": [
        {
          "output_type": "stream",
          "name": "stdout",
          "text": [
            "['Pyrénées-Atlantiques', 'Finistère', 'Hautes-Pyrénées', 'Landes', 'Tarn-et-Garonne', 'Haute-Vienne', 'Ariège', 'Manche', \"Côtes-d'Armor\", 'Cantal', 'Savoie', 'Jura', 'Cher', 'Haute-Marne', 'Doubs', 'Isère', 'Loire-Atlantique', 'Creuse', 'Morbihan', 'Gironde']\n",
            "['1334 mm', '1270 mm', '1149 mm', '1123 mm', '1102 mm', '1046 mm', '1005 mm', '1002 mm', '967 mm', '964 mm', '952 mm', '951 mm', '940 mm', '926 mm', '918 mm', '912 mm', '895 mm', '886 mm', '885 mm', '878 mm']\n"
          ]
        }
      ]
    },
    {
      "cell_type": "markdown",
      "source": [
        "# Scrapper l'intégralité des villes de toutes les pages"
      ],
      "metadata": {
        "id": "tFz8nsXv8BOw"
      }
    },
    {
      "cell_type": "markdown",
      "source": [
        "1. Condition d'arret de notre boucle \"for\" pour récupérer tous les liens des pages :"
      ],
      "metadata": {
        "id": "FWcrKJRkKCSk"
      }
    },
    {
      "cell_type": "code",
      "source": [
        "Next_page = soup.find('div', class_ = \"ccmcss_paginator_next\").find('span').text\n",
        "Next_page"
      ],
      "metadata": {
        "id": "Gll4l_h88AQf",
        "colab": {
          "base_uri": "https://localhost:8080/",
          "height": 37
        },
        "outputId": "7ceb1432-0f93-49fd-a911-1d5c7a4c8f6c"
      },
      "execution_count": 19,
      "outputs": [
        {
          "output_type": "execute_result",
          "data": {
            "text/plain": [
              "'Suivant'"
            ],
            "application/vnd.google.colaboratory.intrinsic+json": {
              "type": "string"
            }
          },
          "metadata": {},
          "execution_count": 19
        }
      ]
    },
    {
      "cell_type": "markdown",
      "source": [
        "2. Script pour récupérer tous les liens des pages du site : "
      ],
      "metadata": {
        "id": "G1ew65CHS6X9"
      }
    },
    {
      "cell_type": "code",
      "source": [
        "def getallpages(url):\n",
        "    links = [url]\n",
        "    while True:\n",
        "        try:\n",
        "            \n",
        "            for elt in links :\n",
        "              #time.sleep(10)\n",
        "              soup = BeautifulSoup(requests.get(elt).text, 'html.parser')\n",
        "              Next_page = soup.find('div', class_ = \"ccmcss_paginator_next\").find('span').text\n",
        "              \n",
        "              if 'Suivant' in Next_page :\n",
        "                #Récupérer l'url de la page suivante\n",
        "                Next_Link = soup.find('div', class_ = \"ccmcss_paginator_next\").a['href']\n",
        "                links.append('https://www.linternaute.com/' + Next_Link) \n",
        "\n",
        "        except AttributeError:\n",
        "            #print(\"That's all the pages we need to scrap\")\n",
        "            break\n",
        "\n",
        "    return(links)"
      ],
      "metadata": {
        "id": "ZBhavaE0679U"
      },
      "execution_count": 20,
      "outputs": []
    },
    {
      "cell_type": "code",
      "source": [
        "#url1\n",
        "getallpages('https://www.linternaute.com/ville/classement/villes/consommation-eau')"
      ],
      "metadata": {
        "colab": {
          "base_uri": "https://localhost:8080/"
        },
        "id": "5MnQQA2UMYjq",
        "outputId": "a80ef45c-04d7-456c-997f-6e4b9ab1ae7f"
      },
      "execution_count": 21,
      "outputs": [
        {
          "output_type": "execute_result",
          "data": {
            "text/plain": [
              "['https://www.linternaute.com/ville/classement/villes/consommation-eau',\n",
              " 'https://www.linternaute.com//ville/classement/villes/consommation-eau?page=2',\n",
              " 'https://www.linternaute.com//ville/classement/villes/consommation-eau?page=3',\n",
              " 'https://www.linternaute.com//ville/classement/villes/consommation-eau?page=4',\n",
              " 'https://www.linternaute.com//ville/classement/villes/consommation-eau?page=5',\n",
              " 'https://www.linternaute.com//ville/classement/villes/consommation-eau?page=6',\n",
              " 'https://www.linternaute.com//ville/classement/villes/consommation-eau?page=7',\n",
              " 'https://www.linternaute.com//ville/classement/villes/consommation-eau?page=8',\n",
              " 'https://www.linternaute.com//ville/classement/villes/consommation-eau?page=9',\n",
              " 'https://www.linternaute.com//ville/classement/villes/consommation-eau?page=10',\n",
              " 'https://www.linternaute.com//ville/classement/villes/consommation-eau?page=11',\n",
              " 'https://www.linternaute.com//ville/classement/villes/consommation-eau?page=12',\n",
              " 'https://www.linternaute.com//ville/classement/villes/consommation-eau?page=13',\n",
              " 'https://www.linternaute.com//ville/classement/villes/consommation-eau?page=14',\n",
              " 'https://www.linternaute.com//ville/classement/villes/consommation-eau?page=15',\n",
              " 'https://www.linternaute.com//ville/classement/villes/consommation-eau?page=16',\n",
              " 'https://www.linternaute.com//ville/classement/villes/consommation-eau?page=17',\n",
              " 'https://www.linternaute.com//ville/classement/villes/consommation-eau?page=18',\n",
              " 'https://www.linternaute.com//ville/classement/villes/consommation-eau?page=19',\n",
              " 'https://www.linternaute.com//ville/classement/villes/consommation-eau?page=20',\n",
              " 'https://www.linternaute.com//ville/classement/villes/consommation-eau?page=21',\n",
              " 'https://www.linternaute.com//ville/classement/villes/consommation-eau?page=22',\n",
              " 'https://www.linternaute.com//ville/classement/villes/consommation-eau?page=23',\n",
              " 'https://www.linternaute.com//ville/classement/villes/consommation-eau?page=24',\n",
              " 'https://www.linternaute.com//ville/classement/villes/consommation-eau?page=25',\n",
              " 'https://www.linternaute.com//ville/classement/villes/consommation-eau?page=26',\n",
              " 'https://www.linternaute.com//ville/classement/villes/consommation-eau?page=27',\n",
              " 'https://www.linternaute.com//ville/classement/villes/consommation-eau?page=28',\n",
              " 'https://www.linternaute.com//ville/classement/villes/consommation-eau?page=29',\n",
              " 'https://www.linternaute.com//ville/classement/villes/consommation-eau?page=30',\n",
              " 'https://www.linternaute.com//ville/classement/villes/consommation-eau?page=31',\n",
              " 'https://www.linternaute.com//ville/classement/villes/consommation-eau?page=32',\n",
              " 'https://www.linternaute.com//ville/classement/villes/consommation-eau?page=33',\n",
              " 'https://www.linternaute.com//ville/classement/villes/consommation-eau?page=34',\n",
              " 'https://www.linternaute.com//ville/classement/villes/consommation-eau?page=35',\n",
              " 'https://www.linternaute.com//ville/classement/villes/consommation-eau?page=36',\n",
              " 'https://www.linternaute.com//ville/classement/villes/consommation-eau?page=37',\n",
              " 'https://www.linternaute.com//ville/classement/villes/consommation-eau?page=38',\n",
              " 'https://www.linternaute.com//ville/classement/villes/consommation-eau?page=39',\n",
              " 'https://www.linternaute.com//ville/classement/villes/consommation-eau?page=40',\n",
              " 'https://www.linternaute.com//ville/classement/villes/consommation-eau?page=41',\n",
              " 'https://www.linternaute.com//ville/classement/villes/consommation-eau?page=42',\n",
              " 'https://www.linternaute.com//ville/classement/villes/consommation-eau?page=43',\n",
              " 'https://www.linternaute.com//ville/classement/villes/consommation-eau?page=44',\n",
              " 'https://www.linternaute.com//ville/classement/villes/consommation-eau?page=45',\n",
              " 'https://www.linternaute.com//ville/classement/villes/consommation-eau?page=46',\n",
              " 'https://www.linternaute.com//ville/classement/villes/consommation-eau?page=47',\n",
              " 'https://www.linternaute.com//ville/classement/villes/consommation-eau?page=48',\n",
              " 'https://www.linternaute.com//ville/classement/villes/consommation-eau?page=49',\n",
              " 'https://www.linternaute.com//ville/classement/villes/consommation-eau?page=50',\n",
              " 'https://www.linternaute.com//ville/classement/villes/consommation-eau?page=51',\n",
              " 'https://www.linternaute.com//ville/classement/villes/consommation-eau?page=52',\n",
              " 'https://www.linternaute.com//ville/classement/villes/consommation-eau?page=53',\n",
              " 'https://www.linternaute.com//ville/classement/villes/consommation-eau?page=54',\n",
              " 'https://www.linternaute.com//ville/classement/villes/consommation-eau?page=55',\n",
              " 'https://www.linternaute.com//ville/classement/villes/consommation-eau?page=56',\n",
              " 'https://www.linternaute.com//ville/classement/villes/consommation-eau?page=57',\n",
              " 'https://www.linternaute.com//ville/classement/villes/consommation-eau?page=58',\n",
              " 'https://www.linternaute.com//ville/classement/villes/consommation-eau?page=59',\n",
              " 'https://www.linternaute.com//ville/classement/villes/consommation-eau?page=60',\n",
              " 'https://www.linternaute.com//ville/classement/villes/consommation-eau?page=61',\n",
              " 'https://www.linternaute.com//ville/classement/villes/consommation-eau?page=62',\n",
              " 'https://www.linternaute.com//ville/classement/villes/consommation-eau?page=63',\n",
              " 'https://www.linternaute.com//ville/classement/villes/consommation-eau?page=64',\n",
              " 'https://www.linternaute.com//ville/classement/villes/consommation-eau?page=65',\n",
              " 'https://www.linternaute.com//ville/classement/villes/consommation-eau?page=66',\n",
              " 'https://www.linternaute.com//ville/classement/villes/consommation-eau?page=67',\n",
              " 'https://www.linternaute.com//ville/classement/villes/consommation-eau?page=68',\n",
              " 'https://www.linternaute.com//ville/classement/villes/consommation-eau?page=69',\n",
              " 'https://www.linternaute.com//ville/classement/villes/consommation-eau?page=70',\n",
              " 'https://www.linternaute.com//ville/classement/villes/consommation-eau?page=71',\n",
              " 'https://www.linternaute.com//ville/classement/villes/consommation-eau?page=72',\n",
              " 'https://www.linternaute.com//ville/classement/villes/consommation-eau?page=73',\n",
              " 'https://www.linternaute.com//ville/classement/villes/consommation-eau?page=74',\n",
              " 'https://www.linternaute.com//ville/classement/villes/consommation-eau?page=75',\n",
              " 'https://www.linternaute.com//ville/classement/villes/consommation-eau?page=76',\n",
              " 'https://www.linternaute.com//ville/classement/villes/consommation-eau?page=77',\n",
              " 'https://www.linternaute.com//ville/classement/villes/consommation-eau?page=78',\n",
              " 'https://www.linternaute.com//ville/classement/villes/consommation-eau?page=79',\n",
              " 'https://www.linternaute.com//ville/classement/villes/consommation-eau?page=80']"
            ]
          },
          "metadata": {},
          "execution_count": 21
        }
      ]
    },
    {
      "cell_type": "code",
      "source": [
        "#url2\n",
        "getallpages(\"https://www.linternaute.com/voyage/climat/classement/departements/precipitations\")"
      ],
      "metadata": {
        "colab": {
          "base_uri": "https://localhost:8080/"
        },
        "id": "UTCtdCoKAqEk",
        "outputId": "838e5afc-a414-40dc-e5e5-9950945e41f8"
      },
      "execution_count": 22,
      "outputs": [
        {
          "output_type": "execute_result",
          "data": {
            "text/plain": [
              "['https://www.linternaute.com/voyage/climat/classement/departements/precipitations',\n",
              " 'https://www.linternaute.com//voyage/climat/classement/departements/precipitations?page=2',\n",
              " 'https://www.linternaute.com//voyage/climat/classement/departements/precipitations?page=3',\n",
              " 'https://www.linternaute.com//voyage/climat/classement/departements/precipitations?page=4',\n",
              " 'https://www.linternaute.com//voyage/climat/classement/departements/precipitations?page=5']"
            ]
          },
          "metadata": {},
          "execution_count": 22
        }
      ]
    },
    {
      "cell_type": "markdown",
      "source": [
        "3. Récupérer toutes les pages du site :"
      ],
      "metadata": {
        "id": "FL6u4YgjTHFR"
      }
    },
    {
      "cell_type": "code",
      "source": [
        "##url1\n",
        "#Initialiser deux listes vides pour stocker les éléments scrapés (villes, consommations)\n",
        "\n",
        "ls_conso_per_year = []\n",
        "ls_cities= []\n",
        "\n",
        "for link in getallpages(url1):\n",
        "    \n",
        "    new_response = requests.get(link)\n",
        "    new_soup = BeautifulSoup(new_response.text, \"html.parser\")\n",
        "\n",
        "    #Accéder à la balise où se trouve les villes et leurs consommations\n",
        "    container = new_soup.find('table', class_=\"odTable \").tbody\n",
        "    container = container.find_all('tr')\n",
        "\n",
        "    #Récupérer les villes et leurs consommations par an\n",
        "    for i in range (len(container)):\n",
        "\n",
        "      #Accéder aux balises html spécifiques pour scraper les villes et les consommations\n",
        "      cities = container[i].find_all(\"td\")[1].a.text\n",
        "      conso_per_year = container[i].find_all(\"td\")[2].text\n",
        "\n",
        "      #Rajout dans les listes préalablement initialisées\n",
        "      ls_cities.append(cities)\n",
        "      ls_conso_per_year.append(conso_per_year)\n",
        "\n",
        "#Afficher nos listes\n",
        "print(ls_cities)\n",
        "print(ls_conso_per_year)"
      ],
      "metadata": {
        "colab": {
          "base_uri": "https://localhost:8080/"
        },
        "id": "HRcbLumyMcmE",
        "outputId": "391e51a7-f6d1-41f7-bc5c-a2f2da328864"
      },
      "execution_count": 38,
      "outputs": [
        {
          "output_type": "stream",
          "name": "stdout",
          "text": [
            "['Malzy', 'Neurey-lès-la-Demie', 'Troyes', 'Cricquebœuf', 'Brunstatt-Didenheim', 'Eschentzwiller', 'Habsheim', 'Illzach', 'Lutterbach', 'Morschwiller-le-Bas', 'Mulhouse', 'Pfastatt', 'Reiningue', 'Riedisheim', 'Rixheim', 'Sausheim', 'Zimmersheim', 'Chanterelle', 'Rebreuve-sur-Canche', 'Verneuil-Petit', 'Bannans', 'Bonnevaux', 'Boujailles', 'Bouverans', 'Bulle', 'Courvières', 'Dompierre-les-Tilleuls', 'Frasne', 'La Rivière-Drugeon', 'Vaux-et-Chantegrue', 'Condat', 'Anteuil', 'Gémonville', 'Alleuze', 'Tramont-Émy', 'Servin', 'Maizicourt', 'Perrogney-les-Fontaines', 'Mesnois', 'Gourgançon', 'Herbisse', 'Semoine', 'Villiers-Herbisse', 'Art-sur-Meurthe', 'Dommartemont', 'Essey-lès-Nancy', 'Fléville-devant-Nancy', 'Heillecourt', 'Houdemont', 'Jarville-la-Malgrange', 'Laneuveville-devant-Nancy', 'Laxou', 'Ludres', 'Malzéville', 'Maxéville', 'Nancy', 'Pulnoy', 'Saint-Max', 'Saulxures-lès-Nancy', 'Seichamps', 'Tomblaine', 'Vandœuvre-lès-Nancy', 'Villers-lès-Nancy', 'Lure', 'Les Chalesmes', 'Chariez', 'Coulevon', 'Frotey-lès-Vesoul', 'Noidans-lès-Vesoul', 'Quincey', 'Vaivre-et-Montoille', 'Sainte-Colombe', 'Averdoingt', 'Bernardswiller', 'Innenheim', 'Krautergersheim', 'Meistratzheim', 'Niedernai', 'Obernai', 'Arçon', 'Buneville', 'Moncheaux-lès-Frévent', 'Monts-en-Ternois', 'Faucigny', 'Marcellaz', 'Peillonnex', 'Écorches', 'Neauphe-sur-Dive', 'Saint-Lambert-sur-Dive', 'Chaussenans', 'Ville-du-Pont', 'Droisy', 'Vire Normandie', 'Doubs', 'Courset', 'Doudeauville', 'Parenty', 'Samer', 'Saint-Flour', 'Belleherbe', 'Belvoir', 'Bretonvillers', 'Chamesey', 'Charmoille', 'Froidevaux', 'La Grange', 'Longevelle-lès-Russey', 'Provenchère', 'Surmont', 'Bezinghem', \"Juvigny Val d'Andaine\", 'La Ferté Macé', 'Méhoudin', \"Rives d'Andaine\", 'Saint-Ouen-le-Brisoult', 'Tessé-Froulay', 'Bécourt', 'Bourthes', 'Ergny', 'Lottinghen', 'Saint-Martin-Choquel', 'Senlecques', 'Vieil-Moutier', 'Wicquinghem', 'Zoteux', 'Herlin-le-Sec', 'Migennes', 'Billy-sur-Ourcq', 'Les Croûtes', 'Graffigny-Chemin', 'Aubry-le-Panthou', 'Camembert', 'Champosoult', 'Coudehard', 'Fresnay-le-Samson', 'Gouffern en Auge', 'Guerquesalles', 'La Fresnaie-Fayel', 'Mont-Ormel', 'Les Fourgs', 'Catenoy', 'Arc-sous-Montenot', 'Bassoles-Aulers', 'Jumencourt', 'Landricourt', 'Prémontré', 'Quincy-Basse', 'Jungholtz', 'Lautenbachzell', 'Linthal', 'Murbach', 'Rimbach-près-Guebwiller', 'Rimbachzell', 'Soultz-Haut-Rhin', 'Cessy', 'Challex', 'Chevry', 'Chézery-Forens', 'Collonges', 'Crozet', 'Divonne-les-Bains', 'Échenevex', 'Farges', 'Ferney-Voltaire', 'Gex', 'Grilly', 'Léaz', 'Lélex', 'Mijoux', 'Ornex', 'Péron', 'Pougny', 'Prévessin-Moëns', 'Saint-Genis-Pouilly', 'Saint-Jean-de-Gonville', 'Sauverny', 'Ségny', 'Sergy', 'Thoiry', 'Versonnex', 'Vesancy', 'Vellerot-lès-Vercel', 'Villers-Chief', 'Villers-la-Combe', 'Boffles', 'Fortel-en-Artois', 'Nœux-lès-Auxi', 'Vacquerie-le-Boucq', \"Villers-l'Hôpital\", 'Pauvres', 'Dommarie-Eulmont', 'La Cluse-et-Mijoux', 'Ventavon', 'Bouhans-lès-Montbozon', 'Cognières', 'Thieffrans', 'Les Planches-près-Arbois', 'Artassenx', 'Bascons', 'Bordères-et-Lamensans', 'Castandet', \"Cazères-sur-l'Adour\", \"Grenade-sur-l'Adour\", 'Larrivière-Saint-Savin', 'Le Vignau', 'Lussagnet', 'Maurrin', 'Saint-Maurice-sur-Adour', 'Orvilliers-Saint-Julien', 'Renneval', 'Bonneville-et-Saint-Avit-de-Fumadières', 'Fougueyrolles', 'Lamothe-Montravel', 'Le Fleix', 'Monfaucon', 'Montazeau', 'Montcaret', 'Nastringues', 'Port-Sainte-Foy-et-Ponchapt', 'Saint-Antoine-de-Breuilh', 'Saint-Méard-de-Gurçon', 'Saint-Michel-de-Montaigne', 'Saint-Seurin-de-Prats', 'Saint-Vivien', 'Vélines', 'Ancerviller', 'Barbas', 'Mignéville', 'Montigny', 'Montreux', 'Neuviller-lès-Badonviller', 'Nonhigny', 'Saint-Maurice-aux-Forges', 'Sainte-Pôle', 'Vuillecin', 'La Chapelle-Saint-Luc', 'Les Deux-Villes', 'Tremblois-lès-Carignan', 'Balnot-la-Grange', 'Maisons-lès-Chaource', 'Arc-sous-Cicon', 'Quinquempoix', 'Douzy', 'Euilly-et-Lombut', 'Mouzon', 'Saint-Antoine', 'Maisnil', 'Neuville-au-Cornet', 'Flixecourt', 'Ville-le-Marclet', 'Morteau', 'Remoray-Boujeons', 'Saint-Étienne-Vallée-Française', 'Loisy', 'Barville', 'Belforêt-en-Perche', 'Bellavilliers', 'Contilly', 'Marollette', 'Montgaudry', 'Pervenchères', 'Saint-Jouin-de-Blavou', 'Saint-Julien-sur-Sarthe', 'Saint-Quentin-de-Blavou', 'Suré', 'Vidai', 'Noël-Cerneux', 'Wissembourg', 'Montigny-sur-Vence', 'Saint-Bresson', 'Girac', 'Lédignan', 'Parignargues', 'Malbuisson', 'Kingersheim', 'Chaumont', 'Aubeterre', 'Mesnil-la-Comtesse', 'Montsuzain', 'Voué', 'Nogent-sur-Seine', 'Saint-Bomer', 'Beaumont-les-Autels', 'Béthonvilliers', 'Coudray-au-Perche', 'Nangis', 'Champrond-en-Perchet', 'Vesoul', 'Foufflin-Ricametz', 'Ternas', 'Menetou-Râtel', 'Blargies', 'Formerie', 'Montvalezan', 'Marcillac-Saint-Quentin', 'Proissans', 'Saint-Crépin-et-Carlucet', 'Saint-Geniès', 'Saint-Vincent-le-Paluel', 'Sainte-Nathalène', 'Saint-Félix-de-Reillac-et-Mortemart', 'Beuvezin', 'Moulins', 'Yzeure', 'Croix-en-Ternois', 'Siracourt', 'Pralognan-la-Vanoise', 'Valmeinier', 'Saint-Broing', 'Saint-Loup-Nantouard', 'Sauvigney-lès-Gray', 'Velesmes-Échevanne', 'Villefrancon', 'Les Noës-près-Troyes', 'Murat', 'Boncourt-sur-Meuse', 'Bailleul-aux-Cornailles', 'Bergholtz', 'Bergholtzzell', 'Buhl', 'Guebwiller', 'Hartmannswiller', 'Issenheim', 'Lautenbach', 'Orschwihr', 'Wuenheim', 'Camon', 'Adam-lès-Passavant', 'Adam-lès-Vercel', 'Aïssey', 'Aubonne', 'Avoudrey', 'Bartherans', 'Belmont', 'Bouclans', 'Bremondans', 'Bretigney-Notre-Dame', 'Cessey', 'Champlive', 'Charnay', 'Châtillon-sur-Lison', 'Chaux-lès-Passavant', 'Chevigney-lès-Vercel', 'Cléron', 'Consolation-Maisonnettes', 'Côtebrune', 'Courcelles', 'Courtetain-et-Salans', 'Dammartin-les-Templiers', 'Domprel', 'Durnes', 'Échevannes', 'Épenouse', 'Épeugney', 'Étalans', 'Étray', 'Eysson', 'Fallerans', 'Flangebouche', 'Germéfontaine', 'Glamondans', 'Gonsans', 'Goux-sous-Landet', 'Grandfontaine-sur-Creuse', 'Guyans-Durnes', 'Guyans-Vennes', \"L'Hôpital-du-Grosbois\", 'Lavans-Vuillafans', 'Laviron', 'Les Premiers Sapins', 'Lods', 'Longechaux', 'Longemaison', 'Magny-Châtelard', 'Malbrans', 'Mérey-sous-Montrond', 'Montivernage', 'Montrond-le-Château', 'Naisey-les-Granges', 'Orchamps-Vennes', 'Ornans', 'Orsans', 'Osse', 'Palantine', 'Passavant', 'Passonfontaine', 'Pierrefontaine-les-Varans', 'Rouhe', 'Rurey', 'Saint-Gorgon-Main', 'Saint-Juan', 'Saules', 'Silley-Bléfond', 'Tarcenay-Foucherans', 'Trépot', 'Valdahon', 'Vennes', 'Vercel-Villedieu-le-Camp', 'Vernierfontaine', 'Villers-sous-Montrond', 'Voires', 'Hautbos', 'Aubaine', 'Chaudenay-la-Ville', 'Chaudenay-le-Château', 'Colombier', 'Crugey', 'Thorey-sur-Ouche', 'Belle Vie en Auge', 'Castillon-en-Auge', 'Le Mesnil-Simon', \"Livarot-Pays-d'Auge\", 'Méry-Bissières-en-Auge', \"Mézidon Vallée d'Auge\", 'Notre-Dame-de-Livaye', 'Saint-Pierre-en-Auge', 'Creutzwald', 'Nouart', 'Saint-Clément', 'Le Vigan', 'Chênex', 'Chevrier', 'Dingy-en-Vuache', 'Jonzier-Épagny', 'Neydens', 'Présilly', 'Savigny', 'Valleiry', 'Vers', 'Viry', 'Vulbens', 'Bagnères-de-Bigorre', 'Champigneul-sur-Vence', 'Saint-Pierre-sur-Vence', 'Yvernaumont', 'Fournets-Luisans', 'Fuans', 'Les Combes', 'Attainville', 'Baillet-en-France', 'Bouffémont', 'Maffliers', 'Moisselles', 'Montsoult', 'Nerville-la-Forêt', 'Saint-Martin-du-Tertre', 'Autruche', 'Bar-lès-Buzancy', 'Barby', 'Briquenay', 'Buzancy', 'Fossé', 'Harricourt', 'Annoix', 'Arçay', 'Berry-Bouy', 'Bourges', 'La Chapelle-Saint-Ursin', 'Le Subdray', 'Lissay-Lochy', 'Marmagne', 'Morthomiers', 'Plaimpied-Givaudins', 'Saint-Doulchard', 'Saint-Germain-du-Puy', 'Saint-Just', 'Saint-Michel-de-Volangis', 'Trouy', 'Vorly', 'La Ferté-sur-Chiers', 'Avant-lès-Ramerupt', 'Mesnil-Lettre', 'Ottrott', 'Bétignicourt', 'Blignicourt', 'Braux', 'Lassicourt', 'Perthes-lès-Brienne', \"Rosnay-l'Hôpital\", 'Saint-Christophe-Dodinicourt', 'Yèvres-le-Petit', 'Chaource', 'Chesley', 'Coussegrey', 'Cussangy', 'La Loge-Pomblin', 'Lagesse', 'Les Granges', 'Les Loges-Margueron', 'Metz-Robert', 'Prusy', 'Turgy', 'Vallières', 'Vanlay', 'Reugney', 'Barberey-Saint-Sulpice', 'Mézières-en-Drouais', 'Cussac', 'Les Ternes', 'Neuvéglise-sur-Truyère', 'Tanavelle', 'Villedieu', 'Ambricourt', 'Avondance', 'Azincourt', 'Canlers', 'Crépy', 'Érin', 'Maisoncelle', 'Planques', 'Ruisseauville', 'Teneur', 'Tilly-Capelle', 'Tramecourt', 'Omps', 'Marquay', 'Ostreville', 'Courrensan', 'La Neuville-Bosmont', 'Vault-de-Lugny', 'Sarran', 'La Proiselière-et-Langle', 'Les Fessey', 'Coursan-en-Othe', 'Racines', 'La Voivre', 'Is-sur-Tille', 'Dampierre-sur-Salon', 'Bréviandes', 'Rosières-près-Troyes', 'Saint-Julien-les-Villas', 'Cunèges', 'Gageac-et-Rouillac', 'Lamonzie-Saint-Martin', 'Monestier', 'Razac-de-Saussignac', 'Saint-Laurent-des-Vignes', 'Saussignac', 'Berlise', 'Montloué', 'Noircourt', 'Marennes', 'Navenne', 'Laveissenet', 'Saint-Parres-aux-Tertres', 'Villechétif', 'Crégy-lès-Meaux', 'Nohant-en-Goût', 'Culoz', 'La Prétière', 'La Louptière-Thénard', 'Raymond', 'Saint-André-les-Vergers', 'Saint-Bonnet-de-Chirac', 'Gresse-en-Vercors', 'Longeau-Percey', 'Preures', 'Houtaud', 'Genevrey', 'Antin', 'Bégole', 'Bernadets-Debat', 'Bernadets-Dessus', 'Bonnefont', 'Bouilh-Devant', 'Bugard', 'Burg', 'Caharet', 'Castéra-Lanusse', 'Castex', 'Estampes', 'Estampures', 'Fontrailles', 'Fréchède', 'Guizerix', 'Lalanne-Trie', 'Lamarque-Rustaing', 'Lapeyre', 'Larroque', 'Libaros', 'Lubret-Saint-Luc', 'Luby-Betmont', 'Lustar', 'Mazerolles', 'Montastruc', 'Moumoulous', 'Mun', 'Orieux', 'Osmets', 'Peyret-Saint-André', 'Peyriguère', 'Puntous', 'Puydarrieux', 'Sadournin', 'Sentous', 'Sère-Rustaing', 'Tournous-Darré', 'Trie-sur-Baïse', 'Trouley-Labarthe', 'Vidou', 'Villembits', 'Roannes-Saint-Mary', 'Bléquin', 'Ledinghem', 'Vaudringhem', 'Loray', 'Autreville-sur-la-Renne', 'Aouste', 'La Férée', 'Liart', 'Maranwez', 'Marlemont', 'Clermont-de-Beauregard', 'Saint-Félix-de-Villadeix', 'Saint-Georges-de-Montclard', 'Saint-Martin-des-Combes', 'Blangerval-Blangermont', 'Guinecourt', 'Linzeux', 'Œuf-en-Ternois', 'Saint-Léger-du-Malzieu', 'Villers-devant-Mouzon', 'Nogent-le-Rotrou', 'Marcolès', 'Alençon', 'Cerisé', 'Chenay', 'Colombiers', 'Condé-sur-Sarthe', 'Cuissai', 'Damigny', 'Écouves', 'La Ferrière-Bochard', 'Lonrai', 'Mieuxcé', 'Pacé', 'Saint-Céneri-le-Gérei', 'Saint-Denis-sur-Sarthon', 'Saint-Germain-du-Corbéis', 'Saint-Nicolas-des-Bois', 'Valframbert', 'Thénac', 'Laguiole', 'Longuevillette', 'Foëcy', 'Loigny-la-Bataille', 'Écoivres', 'Flers', 'Framecourt', 'Hautecloque', 'Herlincourt', 'Nuncq-Hautecôte', 'Séricourt', 'Sibiville', 'La Creuse', 'La Vallée-Mulâtre', 'Molain', 'Ribeauville', 'Saint-Martin-Rivière', 'Vénérolles', 'Wassigny', 'Ablaincourt-Pressoir', 'Arvillers', 'Assevillers', 'Aubercourt', 'Barleux', 'Bayonvillers', 'Beaucourt-en-Santerre', 'Beaufort-en-Santerre', 'Belloy-en-Santerre', 'Berny-en-Santerre', 'Béthencourt-sur-Somme', 'Billancourt', 'Bouchoir', 'Breuil', 'Cachy', 'Caix', 'Cayeux-en-Santerre', 'Chaulnes', 'Chilly', 'Chuignes', 'Démuin', 'Dompierre-Becquincourt', 'Épénancourt', 'Estrées-Deniécourt', 'Éterpigny', 'Étinehem-Méricourt', 'Fay', 'Flaucourt', 'Folies', 'Fontaine-lès-Cappy', 'Foucaucourt-en-Santerre', 'Fouquescourt', 'Framerville-Rainecourt', 'Fresnes-Mazancourt', 'Fresnoy-en-Chaussée', 'Frise', 'Gentelles', 'Guillaucourt', 'Hallu', 'Hangest-en-Santerre', 'Harbonnières', 'Herbécourt', 'Herleville', 'Hypercourt', 'Ignaucourt', 'Lamotte-Warfusée', 'Languevoisin-Quiquery', 'Le Hamel', 'Le Plessier-Rozainvillers', 'Le Quesnel', 'Licourt', 'Lihons', 'Marcelcave', 'Marché-Allouarde', 'Marchélepot-Misery', 'Maucourt', 'Méharicourt', 'Mesnil-Saint-Nicaise', 'Mézières-en-Santerre', 'Morchain', 'Moreuil', 'Morisel', 'Nesle', 'Pargny', 'Potte', 'Proyart', 'Punchy', 'Puzeaux', 'Rethonvillers', 'Rosières-en-Santerre', 'Rouvroy-en-Santerre', 'Rouy-le-Grand', 'Rouy-le-Petit', 'Soyécourt', 'Vauvillers', 'Vermandovillers', 'Villers-aux-Érables', 'Villers-Bretonneux', 'Villers-Carbonnel', 'Vrély', 'Warvillers', \"Wiencourt-l'Équipée\", 'Aulnay', 'Balignicourt', 'Brillecourt', 'Chaudrey', 'Coclois', 'Dampierre', 'Dommartin-le-Coq', 'Donnement', 'Dosnon', 'Grandville', 'Isle-Aubigny', 'Jasseines', 'Le Chêne', 'Lhuître', 'Morembert', 'Nogent-sur-Aube', 'Ortillon', 'Ramerupt', 'Saint-Léger-sous-Margerie', 'Saint-Nabord-sur-Aube', 'Torcy-le-Grand', 'Torcy-le-Petit', 'Trouans', 'Vaucogne', 'Vaupoisson', 'Vinets', 'Compans', 'Moussy-le-Neuf', 'Saint-Mard', 'Saint-Mesmes', 'Thieux', 'Villeneuve-sous-Dammartin', 'Saint-Crépin-aux-Bois', 'Apremont', 'Lacourt-Saint-Pierre', 'Montauban', 'Montbeton', 'Framont', 'Gabrias', 'Arpajon-sur-Cère', 'Aurillac', 'Ayrens', 'Carlat', 'Crandelles', 'Giou-de-Mamou', 'Jussac', 'Labrousse', 'Lacapelle-Viescamp', 'Laroquevieille', 'Lascelle', 'Mandailles-Saint-Julien', 'Marmanhac', 'Naucelles', 'Reilhac', 'Saint-Cirgues-de-Jordanne', 'Saint-Paul-des-Landes', 'Saint-Simon', 'Sansac-de-Marmiesse', 'Teissières-de-Cornet', 'Velzic', 'Vézac', 'Vezels-Roussy', 'Yolet', 'Ytrac', 'Lagorce', 'Montboudif', 'Anthé', 'Cazideroque', 'Courbiac', \"Tournon-d'Agenais\", 'Bourcq', 'Chardeny', 'Contreuve', 'Coulommes-et-Marqueny', 'Grivy-Loisy', 'Mars-sous-Bourcq', 'Quilly', 'Sainte-Marie', 'Sugny', 'Tourcelles-Chaumont', 'Lagamas', 'Merxheim', 'Boncourt', 'Beaumotte-Aubertans', 'Blarians', 'Germondans', 'La Barre', 'Ensisheim', \"Mont-d'Origny\", 'Origny-Sainte-Benoite', 'Parpeville', 'Pleine-Selve', 'Renansart', 'Ribemont', 'Surfontaine', 'Thenelles', 'Villers-le-Sec', \"La Bastide-d'Engras\", 'Gennes-Ivergny', 'Le Ponchel', 'Vaulx', 'Bennwihr', 'Crèvecœur-en-Brie', 'La Houssaye-en-Brie', 'Les Chapelles-Bourbon', 'Marles-en-Brie', 'Bergicourt', 'Blangy-sous-Poix', 'Caulières', 'Élencourt', 'Éplessier', 'Équennes-Éramecourt', 'Famechon', 'Guizancourt', 'Hescamps', 'Lachapelle', 'Lignières-Châtelain', 'Meigneux', 'Méréaucourt', 'Poix-de-Picardie', 'Sainte-Segrée', 'Saulchoy-sous-Poix', 'Thieulloy-la-Ville', 'Condat-sur-Ganaveix', 'Albepierre-Bredons', 'Vallerois-Lorioz', 'Vellefaux', 'Mescoules', 'Monbazillac', 'Pomport', 'Ribagnac', 'Rouffignac-de-Sigoulès', 'Sadillac', 'Sigoulès-et-Flaugeac', 'Singleyrac', 'Arbusigny', 'Arthaz-Pont-Notre-Dame', 'Boëge', 'Bogève', 'Burdignin', 'Fillinges', 'Habère-Lullin', 'Habère-Poche', 'La Chapelle-Rambaud', 'La Muraz', 'La Tour', 'Mégevette', 'Monnetier-Mornex', 'Nangy', 'Onnion', 'Pers-Jussy', 'Reignier-Ésery', 'Saint-André-de-Boëge', 'Saint-Jean-de-Tholome', 'Saint-Jeoire', 'Saxel', 'Scientrier', 'Villard', 'Ville-en-Sallaz', 'Viuz-en-Sallaz', 'Autheuil-en-Valois', 'Creney-près-Troyes', 'Pont-Sainte-Marie', 'Menneville', 'Bassy', 'Bazoches-sur-le-Betz', 'Brannay', 'Chéroy', 'Courtoin', 'Dollot', 'Domats', 'Fouchères', 'Jouy', 'La Belliole', 'Le Bignon-Mirabeau', 'Lixy', 'Montacher-Villegardin', 'Saint-Agnan', 'Saint-Valérien', 'Savigny-sur-Clairis', 'Subligny', 'Vallery', 'Vernoy', 'Villebougis', 'Villeneuve-la-Dondagre', 'Villeroy', 'Villethierry', 'La Rochelle', 'Colroy-la-Roche', 'Saint-Avit-Sénieur', 'Saint-Georges', 'Moulins-en-Tonnerrois', 'Sambourg', 'Vireaux', 'Gommersdorf', 'Traubach-le-Bas', 'Traubach-le-Haut', 'Wolfersdorf', 'Brey-et-Maison-du-Bois', 'Masevaux-Niederbruck', 'Ammerschwihr', 'Châtillon', 'Avezé', 'Courcival', 'Dehault', 'Jauzé', 'La Chapelle-du-Bois', 'Nogent-le-Bernard', 'Préval', 'Rouperroux-le-Coquet', 'Saint-Aignan', 'Saint-Cosme-en-Vairais', 'Souvigné-sur-Même', 'Terrehault', 'Favières', 'Neufmoutiers-en-Brie', 'Villeneuve-le-Comte', 'Villeneuve-Saint-Denis', 'Feuges', 'Chaponnay', 'Scionzier', 'Chorges', 'Blauzac', 'Soulaines-Dhuys', 'Accolans', 'Bretigney', 'Étrappe', 'Faimbe', 'Gémonval', 'Geney', 'Grammont', 'Marvelise', 'Onans', 'Lavau', 'Houvin-Houvigneul', 'Havelu', 'La Rouquette', 'Laramière', 'Martiel', 'Savignac', 'Toulonjac', 'Vailhourles', 'Sansac-Veinazès', 'Beauvilliers', 'Arracourt', 'Athienville', 'Bathelémont', 'Bauzemont', 'Bezange-la-Grande', 'Bures', 'Coincourt', 'Hénaménil', 'Juvrecourt', 'Ley', 'Mouacourt', 'Moyenvic', 'Ommeray', 'Parroy', 'Serres', 'Valhey', 'Vic-sur-Seille', 'Xanrey', 'Xures', 'Ambeyrac', \"Balaguier-d'Olt\", 'Capdenac-Gare', 'Causse-et-Diège', 'Foissac', 'La Capelle-Balaguier', 'Montsalès', 'Naussac', 'Ols-et-Rinhodes', 'Peyrusse-le-Roc', 'Sainte-Croix', 'Salles-Courbatiès', 'Salvagnac-Cajarc', 'Saujac', 'Villeneuve', 'Comps', 'Eymet', 'Fonroque', \"Razac-d'Eymet\", 'Saint-Aubin-de-Cadelech', \"Saint-Capraise-d'Eymet\", 'Saint-Julien-Innocence-Eulalie', 'Serres-et-Montguyard', 'Agmé', 'Armillac', 'Beaugas', 'Birac-sur-Trec', 'Boudy-de-Beauregard', 'Brugnac', 'Cancon', 'Casseneuil', 'Castelmoron-sur-Lot', 'Castelnaud-de-Gratecambe', 'Clairac', 'Coulx', 'Fauguerolles', 'Fauillet', 'Fongrave', 'Gavaudun', 'Gontaud-de-Nogaret', 'Grateloup-Saint-Gayrand', 'Hautesvignes', 'La Sauvetat-sur-Lède', 'Labretonie', 'Lacaussade', 'Laparade', 'Laperche', 'Laussou', 'Lédat', 'Longueville', 'Lougratte', 'Monbahus', 'Monclar', 'Monflanquin', 'Monségur', 'Montagnac-sur-Lède', 'Montastruc', 'Montignac-de-Lauzun', 'Montignac-Toupinerie', 'Monviel', 'Moulinet', 'Nicole', 'Pailloles', 'Paulhiac', 'Pinel-Hauterive', 'Saint-Aubin', \"Saint-Barthélemy-d'Agenais\", 'Saint-Étienne-de-Fougères', 'Saint-Eutrope-de-Born', 'Saint-Maurice-de-Lestapel', 'Saint-Pastour', 'Sainte-Livrade-sur-Lot', 'Salles', 'Savignac-sur-Leyze', 'Ségalas', 'Taillebourg', 'Tombebœuf', 'Tonneins', 'Tourtrès', 'Varès', \"Verteuil-d'Agenais\", 'Villebramar', 'Landry', 'Milly-la-Forêt', 'Avot', 'Mercey-sur-Saône', 'Arrembécourt', 'Bailly-le-Franc', 'Chavanges', 'Courcelles-sur-Voire', 'Joncreuil', 'Lentilles', 'Montmorency-Beaufort', 'Pars-lès-Chavanges', 'Rances', 'Villeret', 'Fons-sur-Lussan', 'Lussan', 'Vallérargues', 'Sainte-Maure', 'Uzès', 'Messon', 'Urvillers', 'Courtaoult', 'Lompnas', 'Beaurainville', 'Campagne-lès-Hesdin', 'Lespinoy', 'Loison-sur-Créquoise', 'Marenla', 'Maresquel-Ecquemicourt', 'Offin', 'Oye-et-Pallet', 'Béalencourt', 'Vézelise', 'Crépy-en-Valois', 'Prunet', 'Villenauxe-la-Grande', 'Saint-Maximin', 'Bonnières', 'Archignac', 'Borrèze', 'Jayac', 'La Cassagne', 'La Dornac', 'La Feuillade', 'Les Coteaux Périgourdins', 'Nadaillac', 'Paulin', 'Salignac-Eyvigues', 'Terrasson-Lavilledieu', 'Luttenbach-près-Munster', 'Montureux-et-Prantigny', 'Douchy-lès-Ayette', 'Nanteuil-lès-Meaux', 'Fourques', 'Charbonnières', 'Les Autels-Villevillon', 'Arceau', 'Bretigny', 'Brognon', 'Clénay', 'Épagny', 'Flacey', 'Marsannay-le-Bois', 'Norges-la-Ville', 'Saint-Julien', 'Savigny-le-Sec', 'Saint-Florentin', 'Prémierfait', 'Alix', 'Anse', \"Belmont-d'Azergues\", 'Bully', 'Charnay', 'Chasselay', 'Châtillon', \"Chazay-d'Azergues\", \"Civrieux-d'Azergues\", 'Dommartin', 'Éveux', \"Fleurieux-sur-l'Arbresle\", 'Lachassagne', 'Lentilly', 'Les Chères', 'Lozanne', \"Marcilly-d'Azergues\", 'Marcy', 'Morancé', 'Pommiers', 'Saint-Germain-Nuelles', 'Saint-Jean-des-Vignes', 'Abergement-le-Grand', 'Abergement-le-Petit', 'Arbois', 'Aumont', 'Bersaillin', 'Brainans', 'Buvilly', 'Grozon', 'La Ferté', 'Mathenay', 'Molamboz', 'Montholier', 'Ounans', 'Poligny', 'Pupillin', 'Saint-Cyr-Montmalin', 'Tourmont', 'Vadans', \"Villeneuve-d'Aval\", 'Villerserine', 'Villette-lès-Arbois', 'Croisette', 'Héricourt', 'Saint-Vit', 'Argelliers', 'Lantages', 'Montarnaud', 'Pargues', 'Praslin', 'Saint-Paul-et-Valmalle', 'Vougrey', 'Châteney', 'Caumont', 'Chériennes', \"Fontaine-l'Étalon\", 'Guigny', 'Regnauville', 'Vacqueriette-Erquières', 'Monceau-le-Neuf-et-Faucouzy', 'Apt', 'Auribeau', 'Buoux', 'Caseneuve', 'Castellet-en-Luberon', 'Céreste', 'Gignac', \"Lagarde-d'Apt\", 'Rustrel', 'Saignon', 'Saint-Martin-de-Castillon', 'Sivergues', 'Viens', 'Vigneul-sous-Montmédy', 'Guéret', 'Dommartin', 'Formiguères', 'Kœur-la-Grande', 'Vaux-Andigny', 'Abondant', 'Flaux', 'Anquetierville', 'Arelaune-en-Seine', 'Bernières', 'Beuzeville-la-Grenier', 'Beuzevillette', 'Bolbec', 'Bolleville', 'Grand-Camp', 'Gruchet-le-Valasse', 'Heurteauville', 'La Frénaye', 'La Trinité-du-Mont', 'Lanquetot', 'Lillebonne', 'Lintot', 'Louvetot', 'Maulévrier-Sainte-Gertrude', 'Mélamare', 'Mirville', 'Nointot', 'Norville', 'Notre-Dame-de-Bliquetuit', \"Parc-d'Anxtot\", 'Petiville', 'Port-Jérôme-sur-Seine', 'Raffetot', 'Rives-en-Seine', 'Rouville', 'Saint-Antoine-la-Forêt', 'Saint-Arnoult', 'Saint-Aubin-de-Crétot', 'Saint-Eustache-la-Forêt', 'Saint-Gilles-de-Crétot', 'Saint-Jean-de-Folleville', 'Saint-Jean-de-la-Neuville', \"Saint-Maurice-d'Ételan\", 'Saint-Nicolas-de-la-Haie', 'Saint-Nicolas-de-la-Taille', 'Tancarville', 'Trouville', 'Vatteville-la-Rue', 'Saussay', 'Auxon', 'Avreuil', 'Montigny-les-Monts', 'Oppenans', 'Stenay', 'Arpenans', 'Le Val-de-Gouhenans', 'Les Aynans', 'Magny-Vernois', 'Vouhenans', 'Vy-lès-Lure', 'Saint-Germain-le-Gaillard', 'Valuéjols', 'Capvern', 'Rochejean', 'Algolsheim', 'Artzenheim', 'Baltzenheim', 'Biesheim', 'Dessenheim', 'Durrenentzen', 'Geiswasser', 'Heiteren', 'Kunheim', 'Neuf-Brisach', 'Obersaasheim', 'Urschenheim', 'Vogelgrun', 'Volgelsheim', 'Weckolsheim', 'Widensolen', 'Wolfgantzen', 'Chaulhac', \"Avenay-Val-d'Or\", 'Aÿ-Champagne', 'Champillon', 'Dizy', 'Fontaine-sur-Ay', 'Germaine', 'Hautvillers', 'Mutigny', 'Saint-Imoges', 'Val de Livre', 'Blâmont', 'Trilport', 'Blyes', 'Leynhac', 'Mesnil-Saint-Loup', 'Besnans', 'Montbozon', 'Thiénans', 'Chassey-lès-Montbozon', 'Brioude', 'Noidans-le-Ferroux', 'Clairvaux-les-Lacs', 'Baccarat', 'Marchamp', 'Villeloup', 'Jougne', 'Saint-Amandin', 'La Besace', 'Audun-le-Tiche', 'Nanteuil-la-Fosse', 'Combres-sous-les-Côtes', \"Clermont-l'Hérault\", 'Nébian', 'Villeneuvette', 'Audeux', 'Avrigney-Virey', 'Bard-lès-Pesmes', 'Bay', 'Beaumotte-lès-Pin', 'Berthelange', 'Bonboillon', 'Bresilley', 'Brussey', 'Burgille', 'Chambornay-lès-Pin', 'Champagney', 'Champvans-les-Moulins', 'Chancey', 'Chaumercenne', 'Chemaudin et Vaux', 'Chenevrey-et-Morogne', \"Chevigney-sur-l'Ognon\", 'Corcelles-Ferrières', 'Corcondray', 'Courchapon', 'Courcuire', 'Cugney', 'Cult', 'Dampierre', 'Dannemarie-sur-Crète', 'Émagny', 'Étrabonne', 'Ferrières-les-Bois', 'Franey', 'Franois', 'Gézier-et-Fontenelay', 'Hugier', 'Jallerange', 'Lantenne-Vertière', 'Lavernay', 'Le Moutherot', 'Louvatange', 'Malans', 'Marnay', 'Mazerolles-le-Salin', 'Mercey-le-Grand', 'Moncley', 'Montagney', 'Motey-Besuche', 'Noironte', 'Pagney', 'Pelousey', 'Pin', 'Pirey', 'Placey', 'Pouilley-Français', 'Pouilley-les-Vignes', 'Recologne', 'Romain', 'Rouffange', 'Ruffey-le-Château', 'Sauvagney', 'Serre-les-Sapins', 'Sornay', 'Taxenne', 'Tromarey', 'Valay', 'Venère', 'Villers-Buzon', 'Vitreux', 'Vregille', 'Betschdorf', 'Hoffen', 'Keffenach', 'Kutzenhausen', 'Memmelshoffen', 'Merkwiller-Pechelbronn', 'Retschwiller', 'Schœnenbourg', 'Soultz-sous-Forêts', 'Surbourg', 'Agnac', 'Allemans-du-Dropt', 'Bourgougnague', 'Bournel', 'Cahuzac', 'Castillonnès', 'Cavarc', 'Dévillac', 'Doudrac', 'Douzains', 'Ferrensac', 'La Sauvetat-du-Dropt', 'Lalandusse', 'Lauzun', 'Lavergne', 'Mazières-Naresse', 'Miramont-de-Guyenne', 'Montauriol', 'Montaut', 'Moustier', 'Parranquet', 'Peyrière', 'Puysserampion', 'Rayet', 'Rives', 'Roumagne', 'Saint-Colomb-de-Lauzun', 'Saint-Étienne-de-Villeréal', 'Saint-Martin-de-Villeréal', 'Saint-Pardoux-Isaac', 'Saint-Quentin-du-Dropt', 'Sérignac-Péboudou', 'Seyches', 'Tourliac', 'Villeréal', 'Héloup', 'Saint-Paterne - Le Chevain', 'Appoigny', 'Augy', 'Auxerre', 'Belloy', 'Bleigny-le-Carreau', 'Branches', 'Champs-sur-Yonne', 'Charbuy', 'Chevannes', 'Coulanges-la-Vineuse', 'Escolives-Sainte-Camille', 'Gurgy', \"Gy-l'Évêque\", 'Irancy', 'Jussy', 'Lataule', 'Lindry', 'Monéteau', 'Montigny-la-Resle', 'Perrigny', 'Quenne', 'Saint-Bris-le-Vineux', 'Saint-Georges-sur-Baulche', 'Vallan', 'Venoy', 'Villefargeau', 'Villeneuve-Saint-Salves', 'Vincelles', 'Vincelottes', 'Boissières', 'Calvisson', 'Clarensac', 'Congénies', 'Langlade', 'Nages-et-Solorgues', 'Saint-Côme-et-Maruéjols', 'Saint-Dionisy', 'Airion', 'Angivillers', 'Avrechy', 'Cuignières', 'Erquinvillers', 'Lamécourt', 'Lieuvillers', 'Noroy', 'Rémécourt', 'Saint-Aubin-sous-Erquery', \"Saint-Remy-en-l'Eau\", 'Valescourt', 'Chavanne', 'Le Vernoy', 'Trémoins', 'Verlans', 'Villers-sur-Saulnot', 'Voillans', 'Charmoille', 'Montigny-lès-Vesoul', 'Pusey', 'Pusy-et-Épenoux', 'Marchezais', 'Puymiclan', 'Torvilliers', 'Flin', 'Tavaux-et-Pontséricourt', 'Byans-sur-Doubs', 'Roset-Fluans', 'Villars-Saint-Georges', 'Argenteuil-sur-Armançon', 'Pacy-sur-Armançon', 'Saint-Étienne-aux-Clos', 'Mailley-et-Chazelot', 'Gommecourt', 'La Chaussée-Tirancourt', 'Picquigny', 'Magny', 'Montreux-Jeune', 'Romagny', 'Valdieu-Lutran', 'Sens-Beaujeu', 'Ainay-le-Vieil', 'Charenton-du-Cher', 'Coust', 'Saint-Pierre-les-Étieux', 'Sainte-Marie-de-Cuines', 'Ambialet', 'Aussac', 'Bellegarde-Marsal', 'Briatexte', 'Brousse', 'Cabanès', 'Cambon', 'Carlus', 'Cunac', 'Dénat', 'Fauch', 'Fénols', 'Florentin', 'Fréjairolles', 'Graulhet', 'Laboulbène', 'Laboutarie', 'Lacrouzette', 'Lamillarié', 'Lautrec', 'Le Sequestre', 'Lombers', 'Missècle', 'Mont-Roc', 'Montdragon', 'Montfa', 'Montpinier', 'Montredon-Labessonnié', 'Moulayrès', 'Mouzieys-Teulet', 'Orban', 'Peyregoux', 'Poulan-Pouzols', 'Puygouzon', 'Réalmont', 'Roquecourbe', 'Rouffiac', 'Saint-André', 'Saint-Gauzens', 'Saint-Genest-de-Contest', 'Saint-Germier', 'Saint-Jean-de-Vals', 'Saint-Julien-du-Puy', 'Saliès', 'Sieurac', 'Teillet', 'Terre-de-Bancalié', 'Terssac', 'Vénès', \"Villefranche-d'Albigeois\", 'Neuvy-en-Beauce', 'Nozay', 'Saint-Étienne-sous-Barbuise', 'Saint-Remy-sous-Barbuise', 'Pouzilhac', 'Réclainville', 'Alaincourt', 'Ambiévillers', 'Anchenoncourt-et-Chazel', 'Anjeux', 'Betoncourt-Saint-Pancras', 'Dampierre-lès-Conflans', 'Fontenois-la-Ville', 'Girefontaine', 'Hurecourt', 'Jasney', 'La Basse-Vaivre', 'La Pisseure', 'Mailleroncourt-Saint-Pancras', 'Melincourt', 'Montdoré', 'Plainemont', 'Polaincourt-et-Clairefontaine', 'Pont-du-Bois', 'Rehainviller', 'Saint-Rémy-en-Comté', 'Saponcourt', 'Selles', 'Vauvillers', 'Vosbles-Valfin', 'Sousceyrac-en-Quercy', 'Épineuil-le-Fleuriel', 'Saint-Vitte', 'Buxières-sur-Arce', 'Ville-sur-Arce', 'Baignes', 'Boursières', 'Clans', 'Mont-le-Vernois', 'Raze', 'Rosey', 'Velle-le-Châtel', 'Poggio-di-Venaco', 'Louville-la-Chenard', 'Soultzmatt', 'Bossancourt', 'Éclance', 'Fresnay', 'Fuligny', 'Jessains', 'Lévigny', 'Trannes', 'Vernonvilliers', 'Jonquières-Saint-Vincent', 'Cademène', 'Glanes', 'Ancizan', 'Chesnois-Auboncourt', 'Vaux-Montreuil', 'Wignicourt', 'Cleebourg', 'Hunspach', 'Ingolsheim', 'Oberhoffen-lès-Wissembourg', 'Riedseltz', 'Steinseltz', 'Mondigny', 'Bouy-Luxembourg', 'Longsols', 'Onjon', 'Dosches', 'Géraudot', 'Mesnil-Sellières', 'Rouilly-Sacey', 'Buchères', 'Isle-Aumont', 'Moussey', 'Bréançon', 'Chars', 'Cormeilles-en-Vexin', 'Frémécourt', 'Haravilliers', 'Le Bellay-en-Vexin', 'Le Heaulme', 'Marines', 'Moussy', 'Neuilly-en-Vexin', 'Santeuil', 'Vallabrix', 'Azy-le-Vif', 'Chantenay-Saint-Imbert', 'Dornes', 'Neuville-lès-Decize', 'Saint-Germain-Chassenay', 'Saint-Parize-en-Viry', 'Toury-Lurcy', 'Toury-sur-Jour', 'Tresnay', 'Mancenans', 'Servigney', 'Campsegret', 'Eyraud-Crempse-Maurens', 'Ginestet', 'Lunas', 'Queyssac', 'Chavignon', 'Champs-sur-Tarentaine-Marchal', 'Lanobre', 'Trémouille', 'Francalmont', 'Hautevelle', 'Luzinay', 'Oytier-Saint-Oblas', 'Saint-Just-Chaleyssin', 'Septème', 'Belley', 'Assenay', 'Bouranton', 'Briel-sur-Barse', 'Chappes', 'Chauffour-lès-Bailly', 'Clérey', 'Cormost', 'Courtenot', 'Courteranges', 'Fouchères', 'Fresnoy-le-Château', 'La Vendue-Mignot', 'Laubressel', 'Les Bordes-Aumont', 'Lirey', 'Longeville-sur-Mogne', 'Lusigny-sur-Barse', 'Marolles-lès-Bailly', 'Maupas', 'Mesnil-Saint-Père', 'Montaulin', 'Montceaux-lès-Vaudes', 'Montiéramey', 'Montreuil-sur-Barse', 'Roncenay', 'Rumilly-lès-Vaudes', 'Ruvigny', 'Saint-Jean-de-Bonneval', 'Saint-Parres-lès-Vaudes', 'Saint-Thibault', 'Thennelières', 'Vaudes', 'Verrières', 'Villemereuil', 'Villemoyenne', 'Villy-en-Trodes', 'Villy-le-Bois', 'Villy-le-Maréchal', 'Souancé-au-Perche', 'Fontvannes', 'Baissey', 'Le Pouget', 'Dampvalley-Saint-Pancras', 'Boncourt', 'Gilles', 'Guainville', \"La Chaussée-d'Ivry\", 'Le Mesnil-Simon', 'Mondreville', 'Oulins', 'Rouvres', 'Pailly', 'Senoncourt', 'Colombey-les-Belles', 'Fontanès', 'Marchastel', 'Saint-Gratien', 'Marcenat', 'Antheny', 'Auvillers-les-Forges', 'Cernion', 'Champlin', 'Chilly', 'Estrebay', 'Étalle', 'Éteignières', 'Flaignes-Havys', 'Girondelle', 'Laval-Morency', 'Logny-Bogny', 'Maubert-Fontaine', 'Neuville-lez-Beaulieu', 'Prez', 'Regniowez', 'Remoulins', 'Saint-Bonnet-du-Gard', 'Pfaffenheim', 'Lesges', 'Retzwiller', 'Maignelay-Montigny', 'Collias', 'La Noue', 'Les Essarts-lès-Sézanne', 'Lembras', 'Saint-Marcel', 'Jussy-Champagne', 'Andelarre', 'Andelarrot', 'Colombier', 'Comberjon', 'Échenoz-la-Méline', 'Montcey', 'Villeparois', 'Matton-et-Clémency', 'Osnes', 'Pure', 'Cherisy', 'Autheux', 'Berneuil', 'Boisbergues', 'Bonneville', 'Fieffes-Montrelet', 'Fienvillers', 'Fransu', 'Gorges', 'Heuzecourt', 'Lanches-Saint-Hilaire', 'Le Meillard', 'Montigny-les-Jongleurs', 'Ribeaucourt', 'Saint-Acheul', 'Bourg-des-Maisons', 'Champagne-et-Fontaine', 'Chapdeuil', 'Cherval', 'Gout-Rossignol', 'La Chapelle-Grésignac', 'La Chapelle-Montabourlet', 'Nanteuil-Auriac-de-Bourzac', 'Saint-Martial-Viveyrol', 'Vendoire', 'Verteillac', 'Montrodat', 'Le Thieulin', 'Manre', 'Champseru', 'Corre', 'Demangevelle', 'Ranzevelle', 'Vougécourt', 'Aigremont', 'Cannes-et-Clairan', 'Cassagnoles', 'Domessargues', 'Maruéjols-lès-Gardon', 'Mauressargues', 'Montagnac', 'Moulézan', 'Puechredon', 'Saint-Bénézet', 'Saint-Théodorit', 'Savignargues', 'Bayon', 'Virecourt', 'Bergueneuse', 'Équirre', 'Fontaine-lès-Boulans', 'Heuchin', 'Lisbourg', 'Prédefin', 'Bouzy', 'Brassy', 'Châtillon-la-Palud', 'Courcelles-sous-Thoix', 'Sentelie', 'Thoix', 'Allondrelle-la-Malmaison', 'Colonne', 'Mailleroncourt-Charette', 'Trancrainville', 'Brignais', 'Brindas', 'Chaponost', 'Chevinay', 'Courzieu', 'Grézieu-la-Varenne', 'Messimy', 'Pollionnay', 'Sainte-Consorce', 'Soucieu-en-Jarrest', 'Thurins', 'Vaugneray', 'Yzeron', 'Berzème', 'Darbres', 'Freyssenet', 'Lanas', 'Lavilledieu', 'Lussas', 'Mirabel', 'Rochecolombe', 'Saint-Andéol-de-Berg', 'Saint-Germain', 'Saint-Gineys-en-Coiron', 'Saint-Jean-le-Centenier', 'Saint-Laurent-sous-Coiron', \"Saint-Maurice-d'Ardèche\", \"Saint-Maurice-d'Ibie\", 'Saint-Pons', 'Villeneuve-de-Berg', 'Vogüé', 'Châtillon-le-Duc', 'Chevroz', \"Cussey-sur-l'Ognon\", 'Devecey', 'École-Valentin', 'Geneuille', 'Les Auxons', 'Miserey-Salines', 'Tallenay', 'Crézancy-en-Sancerre', 'Crésantignes', 'Allemant', 'Cazes-Mondenard', \"L'Honor-de-Cos\", 'Labarthe', 'Lafrançaise', 'Lamothe-Capdeville', 'Molières', 'Montastruc', 'Piquecos', 'Puycornet', 'Vazerac', 'Bréziers', 'Labatut-Rivière', 'Marvejols', 'Malpas', 'Bazoches-les-Hautes', 'Villeneuve-sur-Lot', 'Gouy-en-Ternois', 'Germainville', 'Raedersheim', 'Albi', 'Coucy-le-Château-Auffrique', 'Creysse', 'Lamonzie-Montastruc', 'Mouleydier', 'Saint-Sauveur', 'Acheux-en-Vimeu', 'Béhen', 'Biencourt', 'Bouillancourt-en-Séry', 'Cerisy-Buleux', 'Chépy', 'Doudelainville', 'Framicourt', 'Frettemeule', 'Grébault-Mesnil', 'Huchenneville', 'Huppy', 'Le Translay', 'Maisnières', 'Mareuil-Caubert', 'Martainneville', 'Miannay', 'Moyenneville', 'Ramburelles', 'Saint-Maxent', 'Tilloy-Floriville', 'Vismes', 'Macey', 'Montgueux', 'Brantôme en Périgord', 'Bassuet', 'Bréménil', 'Adinfer', 'Agnez-lès-Duisans', 'Agnières', 'Ambrines', 'Ayette', 'Bailleulmont', 'Bailleulval', 'Barly', 'Beaudricourt', 'Beaufort-Blavincourt', 'Berlencourt-le-Cauroy', 'Béthonsart', 'Blairville', 'Bouret-sur-Canche', \"Camblain-l'Abbé\", 'Canettemont', 'Capelle-Fermont', 'Chelers', 'Denier', 'Duisans', 'Estrée-Wamin', 'Fosseux', 'Frévillers', 'Frévin-Capelle', 'Givenchy-le-Noble', 'Gouves', 'Gouy-en-Artois', 'Grand-Rullecourt', 'Habarcq', 'Haute-Avesnes', 'Hauteville', 'Hendecourt-lès-Ransart', 'Hermaville', 'Ivergny', 'Izel-lès-Hameau', 'Lattre-Saint-Quentin', 'Liencourt', 'Lignereuil', 'Magnicourt-sur-Canche', 'Maizières', 'Manin', 'Mingoval', 'Monchiet', 'Monchy-au-Bois', 'Montenescourt', 'Noyelle-Vion', 'Noyellette', 'Penin', 'Rebreuviette', 'Sars-le-Bois', 'Sombrin', 'Sus-Saint-Léger', 'Tilloy-lès-Hermaville', 'Tincques', 'Villers-Brûlin', 'Villers-Châtel', 'Villers-Sir-Simon', 'Wanquetin', 'Warluzel', 'Penchard', 'Maizières-la-Grande-Paroisse', 'Ligny-Saint-Flochel', 'Chevregny', 'Bislée', 'Han-sur-Meuse', 'Kœur-la-Petite', 'Amage', 'Audigny', 'Flavigny-le-Grand-et-Beaurain', 'Monceau-sur-Oise', 'Proisy', 'Puisieux-et-Clanlieu', 'Romery', 'Wiège-Faty', 'Terminiers', 'Blandin', 'Certines', 'Cessieu', 'Chassignieu', 'Châtenay', 'Chélieu', 'Doissin', 'Dompierre-sur-Veyle', 'Druillat', 'Journans', 'La Chapelle-de-la-Tour', 'La Tour-du-Pin', 'La Tranclière', 'Le Passage', 'Lent', 'Montagnat', 'Montagnieu', 'Montrevel', \"Pont-d'Ain\", 'Rochetoirin', 'Saint-Clair-de-la-Tour', 'Saint-Didier-de-la-Tour', 'Saint-Jean-de-Soudain', 'Saint-Martin-du-Mont', 'Saint-Nizier-le-Désert', 'Saint-Ondras', 'Saint-Paul-de-Varax', 'Saint-Victor-de-Cessieu', 'Sainte-Blandine', 'Tossiat', 'Val-de-Virieu', 'Valencogne', 'Varambon', 'Possesse', 'Villemer', 'Nampty', 'Bostens', 'Lucbardez-et-Bargues', 'Mont-de-Marsan', 'Saint-Avit', 'Saint-Pierre-du-Mont', 'Auriac-sur-Dropt', 'Baleyssagues', 'Beaupuy', 'Cambes', 'Castelnau-sur-Gupie', 'Caubon-Saint-Sauveur', 'Duras', 'Escassefort', 'Esclottes', 'Lachapelle', 'Lagupie', 'Lévignac-de-Guyenne', 'Loubès-Bernac', 'Marmande', 'Mauvezin-sur-Gupie', 'Monteton', 'Pardaillan', 'Saint-Astier', 'Saint-Avit', 'Saint-Géraud', 'Saint-Jean-de-Duras', 'Saint-Martin-Petit', 'Saint-Pardoux-du-Breuil', 'Saint-Pierre-sur-Dropt', 'Saint-Sernin', 'Sainte-Bazeille', 'Sainte-Colombe-de-Duras', 'Savignac-de-Duras', 'Soumensac', 'Villeneuve-de-Duras', 'Virazeil', 'Abriès-Ristolas', 'Catillon-Fumechon', 'Le Quesnoy-en-Artois', 'Corbarieu', 'Pompignan', 'Argences en Aubrac', 'Cantoin', 'Escatalens', 'Anthien', 'Bardou', 'Boisse', 'Bouniagues', 'Cervon', 'Chaumot', 'Chitry-les-Mines', 'Colombier', 'Conne-de-Labarde', 'Corbigny', 'Cours-de-Pile', 'Epiry', 'Faurilles', 'Faux', 'Issigeac', 'La Collancelle', 'Marigny-sur-Yonne', 'Monmadalès', 'Monmarvès', 'Monsaguel', 'Montaut', 'Mouron-sur-Yonne', 'Pazy', 'Plaisance', 'Saint-Agne', 'Saint-Aubin-de-Lanquais', 'Saint-Cernin-de-Labarde', 'Saint-Germain-et-Mons', \"Saint-Léon-d'Issigeac\", 'Saint-Nexans', 'Saint-Perdoux', 'Sainte-Radegonde', 'Sardy-lès-Épiry', 'Verdon', 'Orrouer', 'Sorel-Moussel', 'Bergerac', 'Coulaures', 'Mayac', 'Négrondes', \"Saint-Vincent-sur-l'Isle\", \"Sarliac-sur-l'Isle\", 'Savignac-les-Églises', 'Sorges et Ligueux en Périgord', 'Antrenas', 'Boudou', 'Bourg-de-Visa', 'Brassac', 'Castelsagrat', 'Clermont-Soubiran', 'Durfort-Lacapelette', 'Espalais', 'Gasques', 'Golfech', 'Goudourville', 'Grayssas', 'Lamagistère', 'Malause', 'Moissac', 'Montbarla', 'Montesquieu', 'Montjoi', 'Perville', 'Pommevic', 'Saint-Amans-de-Pellagal', 'Saint-Clair', 'Saint-Nazaire-de-Valentane', \"Saint-Paul-d'Espis\", 'Saint-Vincent-Lespinasse', 'Valence', 'Assencières', 'Charmont-sous-Barbuise', 'Luyères', 'Échemines', 'Rouffignac-Saint-Cernin-de-Reilhac', 'Agnetz', 'Ansacq', 'Breuil-le-Sec', 'Breuil-le-Vert', 'Cambronne-lès-Clermont', 'Clermont', 'Erquery', 'Étouy', 'Fitz-James', 'Hannappes', 'Neuilly-sous-Clermont', 'Nointel', 'Staffelfelden', 'Les Alliés', 'Buire-le-Sec', 'Maintenay', 'Bourguignon-lès-Conflans', 'Cubry-lès-Faverney', 'Menoux', 'Saint-Victor-de-Malcap', 'Belhomert-Guéhouville', 'Saint-Maurice-Saint-Germain', 'Merlaut', 'Chavonne', 'Cys-la-Commune', 'Ossey-les-Trois-Maisons', 'Ostel', 'Presles-et-Boves', 'Saint-Mard', 'Soupir', 'Villeblevin', 'Barenton-Cel', 'Villard', 'Saint-Germain', 'Saint-Pouange', 'Prugny', 'Valleroy', 'La Lanterne-et-les-Armonts', 'Aubas', 'Auriac-du-Périgord', 'Azerat', 'Beauregard-de-Terrasson', 'Châtres', 'Condat-sur-Vézère', 'La Bachellerie', 'La Chapelle-Saint-Jean', 'Le Lardin-Saint-Lazare', 'Les Farges', 'Peyrignac', 'Saint-Rabier', 'Villac', 'Nailhac', 'Denonville', 'Parcoul-Chenaud', 'Saint Aulaye-Puymangou', 'Bellenglise', 'Fontaine-Uterte', 'Lehaucourt', 'Levergies', 'Magny-la-Fosse', 'Ramicourt', 'Sequehart', \"Badefols-d'Ans\", 'Boisseuilh', 'Cherveix-Cubas', 'Chourgnac', 'Gabillou', \"Granges-d'Ans\", 'Hautefort', 'Saint-Raphaël', 'Sainte-Orse', 'Teillots', 'Temple-Laguyon', 'Tourtoirac', 'Poinville', 'Sourans', 'Chessy-les-Prés', 'Davrey', 'Fontaine-Simon', 'Sommeval', 'Albaret-Sainte-Marie', 'Vitrac', 'Villebrumier', 'Les Grangettes', 'Trentels', 'Levesville-la-Chenard', 'Cambligneul', 'Carsac-de-Gurson', 'Échourgnac', 'Eygurande-et-Gardedeuil', 'Le Pavillon-Sainte-Julie', 'Le Pizou', 'Ménesplet', 'Minzac', 'Montpeyroux', 'Montpon-Ménestérol', 'Moulin-Neuf', 'Saint-Barthélemy-de-Bellegarde', 'Saint-Géraud-de-Corps', \"Saint-Martial-d'Artenset\", 'Saint-Martin-de-Gurson', 'Saint-Rémy', 'Saint-Sauveur-Lalande', 'Servanches', 'Villefranche-de-Lonchat', 'Sainte-Julie', 'Combas', 'Bouteilles-Saint-Sébastien', 'Lusignac', 'Saint-Paul-Lizonne', 'Dierrey-Saint-Julien', 'Dierrey-Saint-Pierre', 'Bourg-du-Bost', 'Chassaignes', 'Petit-Bersac', 'Saint-Vincent-Jalmoutiers', 'Vanxains', 'Beaurevoir', 'Fontenay-de-Bossery', 'Gumery', 'Attichy', 'Vaunac', 'Brienne-la-Vieille', 'Brienne-le-Château', 'Chaumesnil', 'Crespy-le-Neuf', 'Dienville', 'Épagne', 'Juzanvigny', 'La Chaise', 'La Rothière', 'Morvilliers', 'Petit-Mesnil', 'Saint-Léger-sous-Brienne', 'Fontette', 'Saint-Usage', 'Verpillières-sur-Ource', 'Merlieux-et-Fouquerolles', 'Rivière-les-Fosses', 'Lasson', 'Sury-en-Vaux', 'Verdigny', 'Adelans-et-le-Val-de-Bithaine', 'Ailloncourt', 'Citers', 'Dambenoît-lès-Colombe', 'Franchevelle', 'Lantenot', 'Linexert', 'Quers', 'Moussac', 'Avant-lès-Marcilly', 'Bouy-sur-Orvin', 'Charmoy', 'Fay-lès-Marcilly', 'Oberbronn', 'Soligny-les-Étangs', 'Mergey', 'Saint-Benoît-sur-Seine', 'Villacerf', 'Baugy', 'Aries-Espénan', 'Bonrepos', 'Caubous', 'Cizos', 'Clarens', 'Galez', 'Gaussan', 'Laran', 'Lassales', 'Monléon-Magnoac', 'Monlong', 'Organ', 'Pinas', 'Réjaumont', 'Tajan', 'Uglas', \"Berd'huis\", 'Bretoncelles', 'Perche en Nocé', 'Saint-Cyr-la-Rosière', 'Saint-Germain-des-Grois', 'Saint-Hilaire-sur-Erre', 'Saint-Pierre-la-Bruyère', 'Val-au-Perche', 'Verrières', 'Beaudéduit', 'Briot', 'Cempuis', 'Chonville-Malaumont', 'Choqueuse-les-Bénards', 'Conteville', 'Daméraucourt', 'Dargies', 'Feuquières', 'Fontaine-Lavaganne', 'Gaudechart', 'Grandvilliers', 'Grez', 'Halloy', 'Lavacquerie', 'Laverrière', 'Le Hamel', 'Le Mesnil-Conteville', 'Saint-Maur', 'Sommereux', 'Thérines', 'Thieuloy-Saint-Antoine', 'Vailly', 'Aubigny-en-Artois', 'Aix', 'Couffy-sur-Sarsonne', 'Courteix', 'Eygurande', 'Feyt', 'Lamazière-Haute', 'Laroche-près-Feyt', 'Lignareix', 'Merlines', 'Monestier-Merlines', 'Saint-Pardoux-le-Neuf', 'Bacouel-sur-Selle', \"Chavannes-sur-l'Étang\", 'Elbach', 'Viévigne', 'Saulty', 'Pierrefonds', 'Arpheuilles', 'Meillant', 'Myans', 'Verdalle', 'Nolay', 'Rogéville', 'Aumâtre', 'Machault', 'Aigueperse', 'Azolette', 'Deux-Grosnes', 'Propières', 'Saint-Clément-de-Vers', 'Saint-Igny-de-Vers', 'Gannes', 'La Chapelle-Saint-Géraud', 'Saint-Lyé', 'Abbévillers', 'Blamont', 'Dannemarie', 'Écurcey', 'Glay', 'Meslières', 'Pierrefontaine-lès-Blamont', 'Roches-lès-Blamont', 'Thulay', 'Villars-lès-Blamont', 'Arthès', \"Lescure-d'Albigeois\", 'Saint-Juéry', 'Saint-Martin-de-Ribérac', 'Saint-Sulpice-de-Roumagnac', 'Siorac-de-Ribérac', 'Corbenay', 'Faux-Villecerf', 'Prunay-Belleville', 'Villadin', 'Lachapelle', 'Allain', 'Bagneux', 'Bicqueley', 'Blénod-lès-Toul', 'Bulligny', 'Charmes-la-Côte', 'Choloy-Ménillot', 'Crépey', 'Crézilles', 'Domgermain', 'Gye', 'Mont-le-Vignoble', 'Moutrot', 'Ochey', 'Pierre-la-Treiche', 'Massignieu-de-Rives', 'Parves et Nattages', 'Héricourt', 'Amance', 'Argançon', 'Beurey', 'Champ-sur-Barse', 'Couvignon', 'Dolancourt', 'Fralignes', 'Fravaux', 'La Loge-aux-Chèvres', 'La Villeneuve-au-Chêne', 'Magnant', 'Magny-Fouchard', 'Maison-des-Champs', 'Meurville', 'Montmartin-le-Haut', 'Poligny', 'Puits-et-Nuisement', 'Spoy', 'Thieffrain', 'Vauchonvilliers', 'Vendeuvre-sur-Barse', 'Châtelneuf', 'Crotenay', 'Saint-Valery-sur-Somme', 'Coivrel', 'Alban', 'Fruges', 'Hézecques', 'Lugy', 'Matringhem', 'Mencas', 'Radinghem', 'Senlis', 'Verchin', 'Vincly', 'Meynes', 'Brévillers', 'Grouches-Luchuel', 'Le Souich', 'Lucheux', 'Chauchigny', 'Rilly-Sainte-Syre', 'Savières', 'Beugny', 'Cuffies', 'Pasly', 'Pommiers', 'Nasbinals', 'Durfort-et-Saint-Martin-de-Sossenac', 'Mirvaux', 'Molliens-au-Bois', 'Pierregot', 'Rubempré', 'Le Malzieu-Ville', 'Champagnac-de-Belair', 'Condat-sur-Trincou', 'La Chapelle-Faucher', 'La Chapelle-Montmoreau', 'Lempzours', 'Milhac-de-Nontron', 'Quinsac', \"Saint-Front-d'Alemps\", 'Saint-Jean-de-Côle', 'Saint-Martin-de-Fressengeas', 'Saint-Pancrace', 'Saint-Pardoux-la-Rivière', 'Saint-Pierre-de-Côle', 'Saint-Romain-et-Saint-Clément', 'Saint-Saud-Lacoussière', 'Villars', 'Simencourt', 'Artemare', 'Fays-la-Chapelle', 'Jeugny', 'Machy', 'Ribérac', 'Bréchamps', 'Croisilles', 'Faverolles', 'Les Pinthières', 'Saint-Laurent-la-Gâtine', 'Saint-Lucien', 'Senantes', 'Saint-Marcel', 'Les Gras', 'Grévillers', 'Bouzais', 'Colombiers', 'Drevant', 'La Groutte', 'Saint-Georges-de-Poisieux', 'Steinbrunn-le-Bas', 'Barisey-au-Plain', 'Aigues-Vives', 'Dreuilhe', 'Esclagne', \"Laroque-d'Olmes\", 'Léran', 'Régat', 'Tabre', 'Reyniès', 'Montagny-en-Vexin', 'Montjavoult', 'Bazicourt', 'Chevrières', 'Houdancourt', 'Les Ageux', 'Saint-Martin-Longueau', 'Bougnon', 'Agnicourt-et-Séchelles', \"Corgnac-sur-l'Isle\", 'Saint-Jory-las-Bloux', 'Gourlizon', 'Peumerit', 'Plogastel-Saint-Germain', 'Ymonville', 'Allemans', 'Bertric-Burée', 'Celles', 'Comberanche-et-Épeluche', 'Coutures', 'Villetoureix', 'Hucqueliers', 'Saint-Michel-Loubéjou', 'Beussent', 'Enquin-sur-Baillons', 'Allibaudières', 'Ormes', 'Auradou', 'Bailleau-le-Pin', 'Dausse', \"Grand'Combe-Châteleu\", 'Massoulès', \"Penne-d'Agenais\", 'Saint-Lupien', 'Saint-Sylvestre-sur-Lot', 'Trémons', 'Valeilles', 'Chaux-des-Crotenay', 'Aujargues', 'Junas', 'Souvignargues', 'Villevieille', 'Saulnot', 'Forest-Saint-Julien', 'Hazebrouck', 'Crosses', 'Saint-Jean-le-Vieux', 'Yssingeaux', 'Le Mériot', 'Connezac', 'Hautefaye', 'La Rochebeaucourt-et-Argentine', 'Laines-aux-Bois', 'Mareuil en Périgord', 'Rudeau-Ladosse', 'Saint-Félix-de-Bourdeilles', 'Sainte-Croix-de-Mareuil', 'Abreschviller', 'Fontaine-les-Grès', 'Voyenne', 'Havrincourt', 'Serville', 'Broué', 'Asnans-Beauvoisin', 'Balaiseaux', 'Beauvernois', 'Biefmorin', 'Bois-de-Gand', 'Bretenières', 'Chaînée-des-Coupis', 'Champrougier', 'Chaumergy', 'Chaussin', 'Chemenot', 'Chêne-Bernard', 'Chêne-Sec', 'Commenailles', 'Foulenay', 'Francheville', 'Gatey', 'La Chassagne', 'La Chaux-en-Bresse', 'Le Chateley', 'Le Deschaux', 'Le Villey', 'Les Deux-Fays', 'Les Essards-Taignevaux', 'Les Hays', 'Neublans-Abergement', 'Neuvilley', 'Oussières', 'Petit-Noir', 'Pleure', 'Rye', 'Saint-Baraing', 'Séligney', 'Sergenaux', 'Sergenon', 'Tassenières', 'Villers-les-Bois', 'Villers-Robert', 'Foncine-le-Haut', 'Ougney-Douvot', 'Saint-Quentin-la-Poterie', 'Albas', 'Anglars-Juillac', 'Bélaye', 'Cambayrac', 'Carnac-Rouffiac', 'Cassagnes', 'Castelfranc', 'Cazals', 'Crancey', 'Duravel', 'Floressas', 'Frayssinet-le-Gélat', 'Gindou', 'Goujounac', 'Grézels', 'Labastide-du-Vert', 'Lagardelle', 'Les Arques', 'Les Junies', 'Lherm', 'Luzech', 'Marminiac', 'Marnay-sur-Seine', 'Montcabrier', 'Montcléra', 'Montgesty', 'Pescadoires', 'Pomarède', 'Pont-sur-Seine', 'Pontcirq', 'Prayssac', \"Puy-l'Évêque\", 'Saint-Caprais', 'Saint-Hilaire-sous-Romilly', 'Saint-Médard', \"Saint-Vincent-Rive-d'Olt\", 'Sauzet', 'Trescault', 'Le Thuel', 'Ainvelle', 'Boullarre', 'Briaucourt', 'Étavigny', 'Puéchabon', 'Affringues', 'Alquines', 'Audrehem', 'Avroult', 'Bayenghem-lès-Seninghem', 'Bellinghem', 'Bonningues-lès-Ardres', 'Bouvelinghem', 'Campagne-lès-Boulonnais', 'Clerques', 'Cléty', 'Coulomby', 'Delettes', 'Dohem', 'Elnes', 'Escœuilles', 'Esquerdes', 'Fauquembergues', 'Haut-Loquin', 'Journy', 'Lumbres', 'Merck-Saint-Liévin', 'Nielles-lès-Bléquin', 'Ouve-Wirquin', 'Pihem', 'Quesques', 'Rebergues', 'Remilly-Wirquin', 'Renty', \"Saint-Martin-d'Hardinghem\", 'Seninghem', 'Setques', 'Surques', 'Thiembronne', \"Wavrans-sur-l'Aa\", 'Wismes', 'Wisques', 'Donzac', 'Dunes', 'Saint-Cirice', 'Saint-Loup', 'Sistels', 'Alvimare', 'Cléville', 'Foucart', 'Hattenville', 'Terres-de-Caux', 'Trémauville', 'Yébleron', 'Coulonces', 'Villedieu-lès-Bailleul', 'Soccia', 'Saint-Broingt-les-Fosses', 'Looze', 'Blaincourt-sur-Aube', 'Brévonnes', 'Chalette-sur-Voire', 'Lesmont', 'Magnicourt', 'Mathaux', 'Molins-sur-Aube', 'Pel-et-Der', 'Piney', 'Pougy', 'Précy-Notre-Dame', 'Précy-Saint-Martin', 'Radonvilliers', \"Val-d'Auzon\", 'Verricourt', 'Chaumont', 'Ancinnes', 'Arçonnay', 'Assé-le-Boisne', 'Bérus', 'Béthon', 'Champfleur', 'Chérisay', 'Fressac', 'Fyé', 'Gesnes-le-Gandelin', 'Moulins-le-Carbonnel', 'Oisseau-le-Petit', 'Saint-Léonard-des-Bois', 'Saint-Ouen-de-Mimbré', 'Saint-Victeur', 'Villeneuve-en-Perseigne', 'Avord', 'Vallabrègues', 'Cadéac', 'Villemade', 'Oze', 'Berneuil-sur-Aisne', 'Bitry', 'Chelles', 'Couloisy', 'Courtieux', 'Croutoy', 'Cuise-la-Motte', 'Hautefontaine', 'Jaulzy', 'Saint-Étienne-Roilaye', 'Saint-Pierre-lès-Bitry', 'Trosly-Breuil', 'Bercenay-le-Hayer', 'Bourdenay', 'Trancault', 'Bellicourt', 'Vierzon', 'Bargny', 'Chevresis-Monceau', 'Cuvergnon', 'Glénat', 'La Ferté-Chevresis', 'Mesbrecourt-Richecourt', 'Montigny-sur-Crécy', 'Pagny-sur-Moselle', 'Saint-Vaast-de-Longmont', 'Verberie', 'Le Rozier', 'Maixe', 'Contre', 'Velennes', 'Aisonville-et-Bernoville', 'Saint-Michel', 'Séez', 'Savy-Berlette', 'Beaufort-Orbagna', 'Cesancey', 'Gevingey', 'Maynal', 'Mœurs-Verdey', 'Rotalier', 'Sainte-Agnès', 'Savigny-en-Revermont', 'Trenal', 'Val-Sonnette', 'Ladinhac', 'Saint-Martin-Valmeroux', 'Aizy-Jouy', 'Payns', 'Droupt-Saint-Basle', 'Droupt-Sainte-Marie', 'Mesgrigny', 'Saint-Mesmin', 'Vallant-Saint-Georges', 'Estissac', 'Origny-le-Sec', 'Crévic', 'Aumerval', 'Bailleul-lès-Pernes', 'Ferfay', 'Soing-Cubry-Charentenay', 'Les Villages Vovéens', 'Amblans-et-Velotte', 'Andornay', 'Faymont', 'Genevreuille', 'Lomont', 'Lyoffans', 'Magny-Danigon', 'Malbouhans', 'Moffans-et-Vacheresse', 'Billy-Chevannes', 'Bona', 'Cizely', 'Jailly', 'La Fermeté', 'Limon', 'Montigny-aux-Amognes', 'Rouy', \"Saint-Benin-d'Azy\", 'Saint-Benin-des-Bois', 'Saint-Firmin', 'Saint-Franchy', 'Saint-Jean-aux-Amognes', \"Saint-Martin-d'Heuille\", 'Saint-Saulge', 'Saint-Sulpice', 'Sainte-Marie', 'Saxi-Bourdon', 'Urzy', \"Vaux d'Amognes\", 'Bucey-en-Othe', 'Bué', 'Roupy', 'Bruère-Allichamps', 'Farges-Allichamps', 'La Celle', 'Éguilly-sous-Bois', 'Vitry-le-Croisé', 'Longwy-sur-le-Doubs', 'Saint-Léger-près-Troyes', 'Traves', 'Hyémondans', 'Ramecourt', 'Hénu', 'Vinneuf', 'Boulages', 'Charny-le-Bachot', 'Étrelles-sur-Aube', 'Longueville-sur-Aube', 'Chantérac', 'Douchapt', 'Ervy-le-Châtel', 'Mensignac', 'Montagrier', 'Saint-Aquilin', 'Saint-Méard-de-Drône', 'Saint-Pardoux-de-Drône', 'Saint-Victor', 'Segonzac', 'Tocane-Saint-Apre', 'Coisevaux', 'Aubigny-sur-Nère', 'Bois-lès-Pargny', 'Châtillon-lès-Sons', 'Clarafond-Arcine', 'Pargny-les-Bois', 'Sons-et-Ronchères', 'Azy', 'Étréchy', 'Saint-Just-en-Chaussée', 'Belloy-sur-Somme', 'Arromanches-les-Bains', 'Asnelles', 'Banville', 'Bazenville', 'Carcagny', 'Colombiers-sur-Seulles', 'Crépon', 'Creully sur Seulles', 'Esquay-sur-Seulles', 'Graye-sur-Mer', 'Le Manoir', 'Meuvaines', 'Ponts sur Seulles', 'Reviers', 'Ryes', 'Saint-Côme-de-Fresné', 'Sainte-Croix-sur-Mer', 'Tracy-sur-Mer', 'Vaux-sur-Seulles', 'Ver-sur-Mer', 'Vienne-en-Bessin', 'Saint-Barthélemy', 'Jonquières', 'Vendeuil', 'Saint-Ambroix', 'Vesseaux', 'Marigny-le-Châtel', 'Saint-Flavy', 'Braye', 'Clamecy', 'Vuillery', \"L'Échelle\", 'Courcelles-Epayelles', 'Crèvecœur-le-Petit', 'Domfront', 'Dompierre', 'Ferrières', 'Godenvillers', 'Le Frestoy-Vaux', 'Le Ployron', 'Royaucourt', 'Tricot', 'Les Septvallons', 'Osselle-Routelle', 'Frévent', 'Les Châtelliers-Notre-Dame', 'Nonvilliers-Grandhoux', 'Blanzy-lès-Fismes', 'Serval', 'Froideterre', 'Frotey-lès-Lure', 'La Côte', 'La Neuvelle-lès-Lure', 'Magny-Jobert', 'Palante', 'Roye', 'Saint-Germain', 'Noé-les-Mallets', 'Magnoncourt', 'Gournay-sur-Aronde', 'Bourguignons', 'Allogny', 'Allouis', 'Courceroy', 'La Motte-Tilly', 'Saint-Laurent', 'Vignoux-sur-Barangeon', 'Vouzeron', 'Marchéville', 'Rahon', 'Leyme', 'La Rivière-de-Corps', 'Chichery', 'Prémont', \"Clermont-d'Excideuil\", 'Dussac', 'Eyzerac', 'Nantheuil', 'Nanthiat', 'Saint-Germain-des-Prés', \"Saint-Pantaly-d'Excideuil\", 'Saint-Paul-la-Roche', \"Saint-Sulpice-d'Excideuil\", 'Sarrazac', 'Soultzbach-les-Bains', 'Huanne-Montmartin', 'Souastre', 'Bourgs sur Colagne', 'Antignac', 'Auzers', 'Bassignac', 'Champagnac', 'La Monselie', 'Le Monteil', 'Madic', 'Menet', 'Saint-Pierre', 'Sauvat', 'Trizac', 'Vebret', 'Veyrières', 'Ydes', 'Sergines', 'Monceaux-sur-Dordogne', 'Crux-la-Ville', 'Durance', 'Bessan', 'Castelnau-de-Guers', 'Florensac', 'Lézignan-la-Cèbe', 'Pézenas', 'Pomérols', 'Saint-Thibéry', 'Bias', 'Saulxures-lès-Vannes', 'Barbuise', 'La Villeneuve-au-Châtelot', 'Périgny-la-Rose', 'Lafat', 'Nourard-le-Franc', 'Marolles-sous-Lignières', 'Audruicq', 'Couin', 'Famechon', 'Muncq-Nieurlet', 'Nielles-lès-Ardres', 'Nortkerque', 'Pas-en-Artois', 'Polincove', 'Recques-sur-Hem', 'Ruminghem', 'Saint-Folquin', 'Saint-Omer-Capelle', 'Sainte-Marie-Kerque', 'Sarton', 'Thièvres', 'Zutkerque', 'Neuvy-Sautour', 'Beauval', 'Saint-Pierre-le-Vieux', 'Prez-sous-Lafauche', 'Monts-de-Randon', 'Champigny', 'Abergement-la-Ronce', 'Annoire', 'Aumur', 'Champdivers', 'Chemin', 'Damparis', 'Gevry', 'Molay', 'Peseux', 'Saint-Aubin', 'Saint-Loup', 'Tavaux', 'Broquiès', 'Pargny-sur-Saulx', 'Saint-Martin-de-Nigelles', 'Villiers-le-Morhier', 'Bouilly', 'Souligny', 'Villery', 'Algajola', 'Saint-Bonnet-de-Condat', 'Aubusson', 'Allery', 'Hallencourt', 'Sorel-en-Vimeu', 'Champlitte', 'Méry-sur-Seine', 'Lhuis', 'Wasserbourg', 'Bellancourt', 'Vauchelles-les-Quesnoy', 'Conty', 'Saint-Izaire', 'Saint-Médard-de-Presque', 'Aubigny-en-Plaine', 'Brazey-en-Plaine', 'Montot', 'Trouhans', 'Talissieu', 'Montreuil', 'Brinay', 'Aisey-et-Richecourt', 'Betaucourt', 'Bourbévelle', 'Cendrecourt', 'Magny-lès-Jussey', 'Montcourt', 'Ormoy', 'Villars-le-Pautel', 'Bazoches-sur-Hoëne', 'Boëcé', 'Buré', 'Champeaux-sur-Sarthe', 'La Mesnière', 'Saint-Aubin-de-Courteraie', 'Saint-Germain-de-Martigny', 'Saint-Ouen-de-Sécherouvre', 'Aniane', 'Brunvillers-la-Motte', 'Fontans', 'Plainval', 'Sains-Morainvillers', 'Épothémont', 'Hampigny', 'Maizières-lès-Brienne', 'Vallentigny', 'Fournès', 'Bessans', 'Balazuc', 'Banne', 'Beaulieu', 'Berrias-et-Casteljau', 'Chandolas', 'Chassiers', 'Chauzon', 'Chazeaux', 'Fabras', 'Faugères', 'Grospierres', 'Joannas', 'Labeaume', 'Labégude', 'Lachapelle-sous-Aubenas', \"Lalevade-d'Ardèche\", 'Largentière', 'Laurac-en-Vivarais', 'Les Assions', 'Malbosc', 'Meyras', 'Montréal', 'Pont-de-Labeaume', 'Pradons', 'Prunet', 'Ribes', 'Rocher', 'Rocles', 'Rosières', 'Ruoms', 'Saint-Alban-Auriolles', 'Saint-Andéol-de-Vals', 'Saint-André-de-Cruzières', 'Saint-Julien-du-Serre', 'Saint-Pierre-de-Colombier', 'Saint-Privat', 'Sampzon', 'Sanilhac', 'Tauriers', 'Ucel', 'Uzer', 'Vals-les-Bains', 'Vernon', 'Vinezac', 'Fayl-Billot', 'Fédry', 'Anlhiac', 'Excideuil', \"Preyssac-d'Excideuil\", \"Saint-Martial-d'Albarède\", \"Saint-Médard-d'Excideuil\", 'Ménévillers', 'Montgérain', 'Saint-Martin-aux-Bois', 'Bengy-sur-Craon', 'Blet', 'Chalivoy-Milon', 'Charly', 'Chassy', 'Cogny', 'Cornusse', 'Couy', 'Croisy', 'Flavigny', 'Ignol', \"Jouet-sur-l'Aubois\", 'Lantan', 'Le Chautay', 'Lugny-Bourbonnais', 'Menetou-Couture', 'Mornay-Berry', 'Nérondes', 'Osmery', 'Ourouer-les-Bourdelins', 'Saint-Hilaire-de-Gondilly', 'Sévry', 'Tendron', 'Torteron', 'Villequiers', 'Montmaur', 'Maurs', 'Poilly-sur-Serein', 'Guise', 'Moyenneville', 'Wacquemoulin', 'Barenton-Bugny', 'Guiler-sur-Goyen', 'Landudec', 'Arrentières', 'Engente', 'Anet', 'Ouarville', 'La Neuville-Roy', 'Montiers', 'Chamberet', 'Enchenberg', 'Saint-Christophe', 'Bourbonne-les-Bains', 'Bajus', 'Beugin', 'La Comté', 'La Thieuloye', 'Magnicourt-en-Comte', 'Monchy-Breton', 'Almayrac', 'Blaye-les-Mines', 'Cagnac-les-Mines', 'Carmaux', 'Combefa', 'Labastide-Gabausse', 'Le Garric', 'Le Ségur', 'Mirandol-Bourgnounac', 'Monestiés', 'Moularès', 'Pampelonne', 'Rosières', 'Saint-Benoît-de-Carmaux', 'Sainte-Gemme', 'Salles', 'Taïx', 'Tanus', 'Trévien', 'Virac', 'Fontenay-près-Chablis', 'La Chapelle-Vaupelteigne', 'Lignorelles', 'Ligny-le-Châtel', 'Maligny', 'Méré', 'Pontigny', 'Rouvray', 'Varennes', 'Venouse', 'Villy', 'Massaguel', 'Bû', 'Chemilly-sur-Serein', 'Romilly-sur-Seine', 'Rémalard en Perche', 'Sablons sur Huisne', 'Sainte-Feyre', 'Fougerolles-Saint-Valbert', 'Amont-et-Effreney', 'Rott', 'Besmé', 'Blérancourt', 'Bourguignon-sous-Coucy', 'Camelin', 'Crécy-au-Mont', 'Guny', 'Pont-Saint-Mard', 'Saint-Aubin', 'Saint-Paul-aux-Bois', 'Selens', 'Trosly-Loire', 'Pouzols', 'Oncy-sur-École', 'Bours', 'Marest', 'Pressy', 'Sachin', 'Sains-lès-Pernes', 'Autet', 'Remilly-les-Pothées', 'Wavignies', 'Savy', 'Salinelles', 'Auroux', 'Héry', 'Buxeuil', 'Courteron', 'Gyé-sur-Seine', 'Neuville-sur-Seine', 'Barret-sur-Méouge', 'Charonville', 'Itancourt', 'Arbin', 'Aizelles', 'Berrieux', 'Goudelancourt-lès-Berrieux', 'Saint-Erme-Outre-et-Ramecourt', 'Sondernach', 'Bretenoux', 'Juvanzé', 'Unienville', 'Candas', 'Ailly-sur-Somme', 'Breilly', 'Berles-Monchel', 'Dizy-le-Gros', 'Vauchassis', 'Chaudon', 'Coulombs', 'Lormaye', 'Néron', 'Nogent-le-Roi', 'Cheny', 'Léglantiers', 'Ravenel', 'Droizy', 'Auchy-lès-Hesdin', 'Fresnoy', 'Grigny', 'Le Parcq', 'Rollancourt', 'Boutigny-Prouais', 'La Chapelle-Forainvilliers', 'Le Boullay-Mivoye', 'Ouerre', 'Villemeux-sur-Eure', 'Sancy-les-Cheminots', 'Mélisey', 'Grèzes', 'Saint-Laurent-de-Muret', 'Pierre-Châtel', 'Noyers', 'Vèze', 'Petitmont', 'La Perche', 'Saint-Guilhem-le-Désert', 'Cauville', 'Clécy', 'Combray', 'Condé-en-Normandie', 'Cossesseville', 'Donnay', 'La Pommeraye', 'La Villette', 'Le Bô', 'Le Hom', 'Le Vey', 'Meslay', 'Périgny', 'Pontécoulant', 'Saint-Denis-de-Méré', 'Saint-Lambert', 'Saint-Omer', 'Saint-Rémy', 'Terres de Druance', 'Orquevaux', 'Argillières', 'Courtesoult-et-Gatey', 'Fouvent-Saint-Andoche', 'Pierrecourt', 'Chaudes-Aigues', 'Bertrichamps', \"Bel-Air-Val-d'Ance\", 'Saint-Martin-de-Queyrières', 'Beugneux', 'Remilly-Aillicourt', 'Chamoy', 'Saint-Phal', 'Monoblet', \"La Bastide-sur-l'Hers\", 'Le Peyrat', 'Ormoy', 'Villécloye', 'Aube', 'Beaufai', 'Saint-Evroult-Notre-Dame-du-Bois', 'Saint-Hilaire-sur-Risle', 'Saint-Pierre-des-Loges', 'Sainte-Gauburge-Sainte-Colombe', 'Villiers-sur-Suize', 'Monthou-sur-Cher', 'Noyers-sur-Cher', 'Pontlevoy', 'Saint-Romain-sur-Cher', 'Thésée', 'Auvillars-sur-Saône', 'Bagnot', 'Bonnencontre', 'Bousselange', 'Broin', 'Chamblanc', 'Champey', 'Charrey-sur-Saône', 'Chivres', 'Esbarres', 'Franxault', 'Glanon', 'Grosbois-lès-Tichey', 'Jallanges', 'Labergement-lès-Seurre', 'Labruyère', 'Lanthes', 'Lechâtelet', 'Magny-lès-Aubigny', 'Montagny-lès-Seurre', 'Montmain', 'Pagny-la-Ville', 'Pagny-le-Château', 'Pouilly-sur-Saône', 'Seurre', 'Tichey', 'Trugny', 'Cruscades', 'Rennes-les-Bains', 'Gamaches', 'Pierrefiche', 'Cressonsacq', 'Grandvillers-aux-Bois', 'Pronleroy', 'Rouvillers', 'Allamps', 'Ferreux-Quincey', 'La Fosse-Corduan', 'Saint-Aubin', 'Saint-Loup-de-Buffigny', 'Saint-Martin-de-Bossenay', 'Montperreux', 'Saint-Beaulize', 'Froideconche', 'Cressin-Rochefort', 'Velleminfroy', 'Lappion', 'Pradines', 'Allemant', 'Broussy-le-Petit', 'Linthelles', 'Linthes', 'Mondement-Montgivroux', 'Oyes', 'Péas', 'Reuves', 'Saint-Loup', 'Colonfay', 'Espartignac', 'Breurey-lès-Faverney', 'Avallon', 'La Bâtie-Neuve', 'Pavant', 'Dun-sur-Auron', 'Mehun-sur-Yèvre', 'La Chambre', 'Notre-Dame-du-Cruet', 'Saint-Avre', 'Saint-Martin-sur-la-Chambre', 'Crécy-en-Ponthieu', 'Avon-la-Pèze', 'Rigny-la-Nonneuse', 'Varilhes', 'Marcilly-le-Hayer', 'Harcy', 'Le Châtelet-sur-Sormonne', 'Rimogne', 'Dhuizel', 'Naillat', 'Barlieu', 'Concressault', 'Oizon', 'Liffol-le-Petit', 'Vellexon-Queutrey-et-Vaudey', 'Charmoy', 'Bréau-Mars', 'Néry', 'Saint-Léger-de-Peyre', 'Sénezergues', 'Courchaton', 'Valiergues', 'Polisot', 'Polisy', 'Pierrefitte-Nestalas', 'Chanac', 'Brennes', 'Planay', 'Uzelle', 'Échenoz-le-Sec', 'Le Magnoray', 'Angoisse', 'Génis', 'Lanouaille', 'Payzac', 'Saint-Cyr-les-Champagnes', 'Saint-Mesmin', 'Sainte-Trie', 'Salagnac', 'Sarlande', 'Savignac-Lédrier', 'Quevauvillers', 'Michery', 'Fontaine-lès-Luxeuil', 'Le Plessier-sur-Saint-Just', 'Lavoncourt', 'Mont-Saint-Léger', 'Recologne', 'Renaucourt', 'Theuley', 'Tincey-et-Pontrebeau', 'Brion', \"Saint-Côme-d'Olt\", 'Brie', 'Saint-Maime', 'Bessy', 'Champigny-sur-Aube', \"Plancy-l'Abbaye\", 'Pouan-les-Vallées', 'Rhèges', 'Viâpres-le-Petit', 'Villette-sur-Aube', 'Lortet', 'La Saulsotte', 'Montpothier', 'Cernay', 'Chirac-Bellevue', 'Latronche', 'Liginiac', 'Neuvic', 'Roche-le-Peyroux', 'Saint-Étienne-la-Geneste', 'Saint-Hilaire-Luc', 'Saint-Pantaléon-de-Lapleau', 'Sainte-Marie-Lapanouze', 'Sérandon', 'Saint-Gal', 'Intréville', \"La Guerche-sur-l'Aubois\", 'Saint-Blaise-la-Roche', 'Herbeuval', 'Le Malzieu-Forain', 'Boismont', 'Cahon', 'Dunières', 'Franleu', 'Fressenneville', 'Mons-Boubert', 'Nibas', 'Ochancourt', 'Quesnoy-le-Montant', 'Saigneville', 'Valines', 'Darnets', 'Hermies', 'Chaourse', 'Lislet', 'Montcornet', 'Sainte-Geneviève', 'Vincy-Reuil-et-Magny', 'Chaserey', 'Étourvy', 'Trichey', 'Villiers-le-Bois', 'Saint-Alban-sur-Limagnole', 'Montigny-le-Chartif', 'Villars-Santenoge', 'Valravillon', 'Affieux', 'Longueil-Annel', 'Thourotte', 'Broyes', 'Lachy', 'Faucogney-et-la-Mer', 'Joigny-sur-Meuse', 'Castanet-le-Haut', 'Graissessac', 'La Tour-sur-Orb', 'Le Pradal', 'Rosis', 'Saint-Étienne-Estréchoux', 'Saint-Geniès-de-Varensal', 'Saint-Gervais-sur-Mare', 'Ranrupt', 'Folembray', 'Weinbourg', 'Rimaucourt', 'Le Buisson', 'Bagneux-la-Fosse', 'Bragelogne-Beauvoir', 'Quesnoy-sur-Airaines', 'Herbeuville', 'Azerailles', 'Saulxerotte', 'Chitry', 'Esquennoy', 'Brinon-sur-Sauldre', 'Clémont', 'Pollieu', 'Veaugues', 'Floringhem', 'Pernes', 'Montaignac-Saint-Hippolyte', \"Rosiers-d'Égletons\", 'Tournai-sur-Dive', 'La Vespière-Friardel', 'Orbec', 'Saint-Germain-la-Campagne', 'Bligny-sur-Ouche', 'Villevallier', 'Artalens-Souin', 'Sagnat', 'Badonviller', 'Arsonval', 'Jaucourt', 'Savoyeux', 'Homécourt', 'Jœuf', 'Moineville', 'Moutiers', 'Valleroy', 'Arzenc-de-Randon', 'Tramont-Lassus', 'Sainte-Preuve', 'Laroche-Saint-Cydroine', 'Bourg', 'Arconville', 'La Vaivre', 'Thiaville-sur-Meurthe', 'Barembach', 'Saint-Sauveur', 'Cerbois', 'Chéry', 'Lury-sur-Arnon', 'Saint-Jean-Lagineste', 'Cornant', 'Égriselles-le-Bocage', 'Palhers', 'Bayonville-sur-Mad', 'Fiefs', 'Fontaine-lès-Hermans', 'Lières', 'Nédon', 'Nédonchel', 'Saulxures', 'Sailly-lez-Cambrai', 'Bussière-Dunoise', 'Glénic', 'La Brionne', 'La Chapelle-Taillefert', 'Saint-Christophe', 'Saint-Éloi', 'Saint-Léger-le-Guérétois', 'Saint-Sulpice-le-Guérétois', 'Saint-Vaury', 'Saint-Victor-en-Marche', 'Allanche', 'Éragny-sur-Epte', 'Frazé', 'Mottereau', 'Sury', 'Château-Bernard', 'Mesves-sur-Loire', 'Pouilly-sur-Loire', 'Bucy-lès-Pierrepont', 'Barre', 'Frémonville', 'Le Plessis-Brion', 'Vuillafans', 'Saint-Urcize', 'Poupry', 'Gagnières', 'Lizine', 'Mignavillers', 'Gélannes', 'Pars-lès-Romilly', 'Saint-Crépin', 'Giffaumont-Champaubert', 'Javernant', 'Autoire', 'Bienvillers-au-Bois', 'Athis-Val de Rouvre', 'Bellou-en-Houlme', 'Briouze', 'Craménil', 'Durcet', 'Faverolles', 'La Lande-de-Lougé', 'La Lande-Saint-Siméon', 'Le Grais', 'Le Ménil-de-Briouze', 'Les Isles-Bardel', 'Les Yveteaux', 'Lignou', 'Lonlay-le-Tesson', 'Lougé-sur-Maire', 'Ménil-Gondouin', 'Ménil-Hermei', 'Ménil-Hubert-sur-Orne', 'Ménil-Vin', 'Montreuil-au-Houlme', 'Pointel', 'Putanges-le-Lac', 'Saint-André-de-Briouze', 'Saint-Hilaire-de-Briouze', 'Saint-Philbert-sur-Orne', 'Sainte-Honorine-la-Chardonne', 'Sainte-Honorine-la-Guillaume', 'Sainte-Opportune', 'Breuchotte', \"L'Abergement-de-Varey\", 'Cour-Maugis sur Huisne', 'Maisons-lès-Soulaines', 'Maussac', 'La Cresse', 'La Roque-Sainte-Marguerite', 'Lanuéjols', 'Meyrueis', 'Millau', 'Peyreleau', 'Revens', 'Saint-André-de-Vézines', 'Trèves', 'Veyreau', 'Aix-Villemaur-Pâlis', 'Virey-sous-Bar', 'Gagnac-sur-Cère', 'Abbenans', 'Arthonnay', 'Channes', 'Leuglay', 'Voulaines-les-Templiers', 'Serverette', 'Baon', 'Fontenay-près-Vézelay', 'Menades', 'Pierre-Perthuis', 'Plomion', 'Alligny-Cosne', 'Arquian', 'Bitry', 'Bouhy', 'Ciez', 'Dampierre-sous-Bouhy', 'Saint-Amand-en-Puisaye', 'Saint-Loup', 'Saint-Vérain', 'Saint-Fréjoux', 'Soulatgé', 'La Machine', 'La Châtre', 'Desvres', 'Champsevraine', 'Bertignolles', 'Chacenay', 'Chervey', 'Chârost', 'Cahan', 'Orges', 'Corrano', 'Saint-Barthélemy-Grozon', 'Alzon', 'Péret-Bel-Air', 'Courlon-sur-Yonne', 'Moissac-Vallée-Française', 'Valgorge', 'Boulzicourt', 'Labaroche', 'Sumène', 'Banassac-Canilhac', 'Recoules-de-Fumas', 'Nans-sous-Sainte-Anne', 'Vailly-sur-Sauldre', 'Laveissière', 'Chatel-Chéhéry', 'Gijounet', 'Grand-Verly', 'Vadencourt', 'Savines-le-Lac', 'Besse', 'Le Mesnil-Villement', \"Pont-d'Ouilly\", 'Saint-Chamant', 'Saint-Cirgues-de-Malbert', 'Saint-Martin-Cantalès', 'Saint-Projet-de-Salers', 'Le Monastier-sur-Gazeille', 'Berles-au-Bois', 'Saint-Amans-Valtoret', 'Peyremale', 'Lafauche', 'Pont-la-Ville', 'Ansignan', 'Campoussy', 'Caramany', 'Caudiès-de-Fenouillèdes', 'Feilluns', 'Fenouillet', 'Fosse', 'Lansac', 'Le Vivier', 'Lesquerde', 'Maury', 'Pézilla-de-Conflent', 'Planèzes', 'Prats-de-Sournia', 'Prugnanes', 'Rabouillet', 'Rasiguères', 'Saint-Arnac', 'Saint-Martin-de-Fenouillet', 'Saint-Paul-de-Fenouillet', 'Trilla', 'Vira', 'Fontiers-Cabardès', 'Bayel', 'Riventosa', 'Boncé', 'Glonville', 'Laval-de-Cère', 'Saint-Merd-les-Oussines', 'Bonvillaret', 'Épierre', 'Montgilbert', 'Montsapey', \"Saint-Alban-d'Hurtières\", \"Saint-Georges-d'Hurtières\", 'Saint-Pierre-de-Belleville', \"Val-d'Arc\", 'Villeneuve-au-Chemin', 'Vosnon', 'Annoux', 'Censy', 'Châtel-Gérard', 'Grimault', 'Jouancy', 'Pasilly', 'Sarry', 'Bordezac', 'Oppy', 'Bellefosse', 'Champignol-lez-Mondeville', 'Massangis', 'Brusque', 'Montagny', 'Combressol', 'Landreville', 'Loches-sur-Ource', 'Haut-du-Them-Château-Lambert', 'Servance-Miellin', 'Cambron', 'Saint-Hilaire-de-Lavit', 'Blismes', 'Chaumard', 'Dommartin', 'Dun-sur-Grandry', 'Gâcogne', 'Mhère', 'Montigny-en-Morvan', 'Montreuillon', 'Saint-Hilaire-en-Morvan', 'Saint-Péreuse', 'Vauclaix', 'Bassurels', 'Mandagout', 'Saint-Julien-des-Points', 'Saint-Michel-de-Maurienne', 'Chaudeyrac', 'Luz-Saint-Sauveur', 'Les Salces', 'Méry-ès-Bois', 'Montselgues', 'Boisset', 'Désaignes', 'Arboras', \"Saint-Laurent-les-Bains-Laval-d'Aurelle\", 'Ventalon en Cévennes', 'Robiac-Rochessadoule', 'Plaines-Saint-Lange', 'Essoyes', 'Cambounès', 'Latouille-Lentillac', 'Montpezat-sous-Bauzon', 'Champagny-en-Vanoise', 'Cassuéjouls', 'Les Laubies', 'Thonne-les-Près', 'Chirols', 'Sainte-Croix-Vallée-Française', 'Barnas', 'Lamontélarié', 'Saint-Yrieix-le-Déjalat', 'Saint-Andéol', 'Sermizelles', 'Saint-Cirgues-de-Prades', \"Châteauneuf-d'Oze\", 'Omont', 'Fourneaux', 'Le Pompidou', 'Miolles', 'Gabriac', 'Lamazière-Basse', 'Teyssieu', 'Fontenay-sous-Fouronnes', 'Saint-Ferriol', 'Saint-Privat-de-Vallongue', \"Val-d'Aigoual\", 'Pont de Montvert - Sud Mont Lozère', 'Dainville-Bertheléville', 'Trucy-sur-Yonne', 'Casalta', 'Salice', 'Peyroules', 'Saint-Martial', 'Saint-Symphorien-de-Mahun', 'Valjouze', 'Argentenay', 'Gourdon-Murat', 'Vialas', 'Molezon']\n",
            "['246m3/an', '243m3/an', '243m3/an', '243m3/an', '242m3/an', '242m3/an', '242m3/an', '242m3/an', '242m3/an', '242m3/an', '242m3/an', '242m3/an', '242m3/an', '242m3/an', '242m3/an', '242m3/an', '242m3/an', '241m3/an', '238m3/an', '236m3/an', '234m3/an', '234m3/an', '234m3/an', '234m3/an', '234m3/an', '234m3/an', '234m3/an', '234m3/an', '234m3/an', '234m3/an', '233m3/an', '232m3/an', '232m3/an', '232m3/an', '230m3/an', '229m3/an', '228m3/an', '226m3/an', '222m3/an', '221m3/an', '221m3/an', '221m3/an', '221m3/an', '218m3/an', '218m3/an', '218m3/an', '218m3/an', '218m3/an', '218m3/an', '218m3/an', '218m3/an', '218m3/an', '218m3/an', '218m3/an', '218m3/an', '218m3/an', '218m3/an', '218m3/an', '218m3/an', '218m3/an', '218m3/an', '218m3/an', '218m3/an', '218m3/an', '214m3/an', '213m3/an', '213m3/an', '213m3/an', '213m3/an', '213m3/an', '213m3/an', '210m3/an', '208m3/an', '207m3/an', '207m3/an', '207m3/an', '207m3/an', '207m3/an', '207m3/an', '207m3/an', '207m3/an', '207m3/an', '207m3/an', '202m3/an', '202m3/an', '202m3/an', '202m3/an', '202m3/an', '202m3/an', '202m3/an', '201m3/an', '199m3/an', '199m3/an', '198m3/an', '197m3/an', '197m3/an', '197m3/an', '197m3/an', '196m3/an', '196m3/an', '196m3/an', '196m3/an', '196m3/an', '196m3/an', '196m3/an', '196m3/an', '196m3/an', '196m3/an', '196m3/an', '196m3/an', '195m3/an', '195m3/an', '195m3/an', '195m3/an', '195m3/an', '195m3/an', '194m3/an', '194m3/an', '194m3/an', '194m3/an', '194m3/an', '194m3/an', '194m3/an', '194m3/an', '194m3/an', '194m3/an', '193m3/an', '191m3/an', '191m3/an', '189m3/an', '189m3/an', '189m3/an', '189m3/an', '189m3/an', '189m3/an', '189m3/an', '189m3/an', '189m3/an', '189m3/an', '189m3/an', '189m3/an', '188m3/an', '187m3/an', '187m3/an', '187m3/an', '187m3/an', '187m3/an', '186m3/an', '186m3/an', '186m3/an', '186m3/an', '186m3/an', '186m3/an', '186m3/an', '185m3/an', '185m3/an', '185m3/an', '185m3/an', '185m3/an', '185m3/an', '185m3/an', '185m3/an', '185m3/an', '185m3/an', '185m3/an', '185m3/an', '185m3/an', '185m3/an', '185m3/an', '185m3/an', '185m3/an', '185m3/an', '185m3/an', '185m3/an', '185m3/an', '185m3/an', '185m3/an', '185m3/an', '185m3/an', '185m3/an', '185m3/an', '184m3/an', '184m3/an', '184m3/an', '184m3/an', '184m3/an', '184m3/an', '184m3/an', '184m3/an', '183m3/an', '183m3/an', '182m3/an', '181m3/an', '181m3/an', '181m3/an', '181m3/an', '179m3/an', '179m3/an', '179m3/an', '179m3/an', '179m3/an', '179m3/an', '179m3/an', '179m3/an', '179m3/an', '179m3/an', '179m3/an', '179m3/an', '179m3/an', '178m3/an', '177m3/an', '177m3/an', '177m3/an', '177m3/an', '177m3/an', '177m3/an', '177m3/an', '177m3/an', '177m3/an', '177m3/an', '177m3/an', '177m3/an', '177m3/an', '177m3/an', '177m3/an', '177m3/an', '177m3/an', '177m3/an', '177m3/an', '177m3/an', '177m3/an', '177m3/an', '177m3/an', '177m3/an', '176m3/an', '175m3/an', '174m3/an', '174m3/an', '173m3/an', '173m3/an', '173m3/an', '173m3/an', '172m3/an', '172m3/an', '172m3/an', '171m3/an', '171m3/an', '171m3/an', '171m3/an', '171m3/an', '170m3/an', '170m3/an', '170m3/an', '170m3/an', '169m3/an', '169m3/an', '169m3/an', '169m3/an', '169m3/an', '169m3/an', '169m3/an', '169m3/an', '169m3/an', '169m3/an', '169m3/an', '169m3/an', '169m3/an', '168m3/an', '167m3/an', '167m3/an', '167m3/an', '166m3/an', '166m3/an', '166m3/an', '166m3/an', '166m3/an', '165m3/an', '165m3/an', '165m3/an', '165m3/an', '165m3/an', '165m3/an', '165m3/an', '165m3/an', '165m3/an', '165m3/an', '164m3/an', '163m3/an', '163m3/an', '163m3/an', '162m3/an', '162m3/an', '162m3/an', '162m3/an', '162m3/an', '162m3/an', '162m3/an', '162m3/an', '162m3/an', '162m3/an', '161m3/an', '161m3/an', '161m3/an', '161m3/an', '161m3/an', '161m3/an', '160m3/an', '160m3/an', '160m3/an', '160m3/an', '160m3/an', '160m3/an', '160m3/an', '159m3/an', '159m3/an', '159m3/an', '159m3/an', '159m3/an', '159m3/an', '159m3/an', '159m3/an', '159m3/an', '159m3/an', '159m3/an', '159m3/an', '159m3/an', '159m3/an', '159m3/an', '159m3/an', '159m3/an', '159m3/an', '159m3/an', '159m3/an', '159m3/an', '159m3/an', '159m3/an', '159m3/an', '159m3/an', '159m3/an', '159m3/an', '159m3/an', '159m3/an', '159m3/an', '159m3/an', '159m3/an', '159m3/an', '159m3/an', '159m3/an', '159m3/an', '159m3/an', '159m3/an', '159m3/an', '159m3/an', '159m3/an', '159m3/an', '159m3/an', '159m3/an', '159m3/an', '159m3/an', '159m3/an', '159m3/an', '159m3/an', '159m3/an', '159m3/an', '159m3/an', '159m3/an', '159m3/an', '159m3/an', '159m3/an', '159m3/an', '159m3/an', '159m3/an', '159m3/an', '159m3/an', '159m3/an', '159m3/an', '159m3/an', '159m3/an', '159m3/an', '159m3/an', '159m3/an', '159m3/an', '159m3/an', '159m3/an', '159m3/an', '159m3/an', '159m3/an', '159m3/an', '159m3/an', '159m3/an', '159m3/an', '159m3/an', '159m3/an', '159m3/an', '159m3/an', '159m3/an', '159m3/an', '159m3/an', '159m3/an', '159m3/an', '159m3/an', '158m3/an', '158m3/an', '158m3/an', '158m3/an', '158m3/an', '158m3/an', '158m3/an', '158m3/an', '158m3/an', '158m3/an', '158m3/an', '158m3/an', '158m3/an', '158m3/an', '158m3/an', '158m3/an', '158m3/an', '157m3/an', '157m3/an', '157m3/an', '157m3/an', '157m3/an', '157m3/an', '157m3/an', '157m3/an', '157m3/an', '157m3/an', '157m3/an', '157m3/an', '157m3/an', '157m3/an', '156m3/an', '156m3/an', '156m3/an', '156m3/an', '156m3/an', '156m3/an', '156m3/an', '156m3/an', '156m3/an', '156m3/an', '156m3/an', '156m3/an', '156m3/an', '156m3/an', '155m3/an', '155m3/an', '155m3/an', '155m3/an', '155m3/an', '155m3/an', '155m3/an', '155m3/an', '155m3/an', '155m3/an', '155m3/an', '155m3/an', '155m3/an', '155m3/an', '155m3/an', '155m3/an', '155m3/an', '155m3/an', '155m3/an', '155m3/an', '155m3/an', '155m3/an', '155m3/an', '155m3/an', '154m3/an', '154m3/an', '154m3/an', '154m3/an', '154m3/an', '154m3/an', '154m3/an', '154m3/an', '154m3/an', '154m3/an', '154m3/an', '154m3/an', '154m3/an', '154m3/an', '154m3/an', '154m3/an', '154m3/an', '154m3/an', '154m3/an', '154m3/an', '154m3/an', '154m3/an', '154m3/an', '154m3/an', '154m3/an', '154m3/an', '153m3/an', '153m3/an', '153m3/an', '153m3/an', '153m3/an', '153m3/an', '153m3/an', '153m3/an', '153m3/an', '153m3/an', '153m3/an', '153m3/an', '153m3/an', '153m3/an', '153m3/an', '153m3/an', '153m3/an', '153m3/an', '152m3/an', '152m3/an', '152m3/an', '152m3/an', '152m3/an', '151m3/an', '151m3/an', '151m3/an', '151m3/an', '151m3/an', '151m3/an', '151m3/an', '151m3/an', '151m3/an', '150m3/an', '150m3/an', '150m3/an', '150m3/an', '150m3/an', '150m3/an', '150m3/an', '150m3/an', '150m3/an', '150m3/an', '150m3/an', '150m3/an', '150m3/an', '150m3/an', '149m3/an', '149m3/an', '149m3/an', '149m3/an', '149m3/an', '149m3/an', '149m3/an', '149m3/an', '149m3/an', '148m3/an', '148m3/an', '148m3/an', '148m3/an', '148m3/an', '148m3/an', '148m3/an', '148m3/an', '147m3/an', '147m3/an', '147m3/an', '147m3/an', '147m3/an', '147m3/an', '147m3/an', '147m3/an', '147m3/an', '147m3/an', '147m3/an', '147m3/an', '147m3/an', '147m3/an', '147m3/an', '147m3/an', '147m3/an', '147m3/an', '147m3/an', '147m3/an', '147m3/an', '147m3/an', '147m3/an', '147m3/an', '147m3/an', '147m3/an', '147m3/an', '147m3/an', '147m3/an', '147m3/an', '147m3/an', '147m3/an', '147m3/an', '147m3/an', '147m3/an', '147m3/an', '147m3/an', '147m3/an', '147m3/an', '147m3/an', '147m3/an', '147m3/an', '147m3/an', '147m3/an', '147m3/an', '147m3/an', '147m3/an', '146m3/an', '146m3/an', '146m3/an', '146m3/an', '146m3/an', '146m3/an', '145m3/an', '145m3/an', '145m3/an', '145m3/an', '145m3/an', '145m3/an', '145m3/an', '145m3/an', '145m3/an', '145m3/an', '144m3/an', '144m3/an', '143m3/an', '143m3/an', '143m3/an', '143m3/an', '143m3/an', '143m3/an', '143m3/an', '143m3/an', '143m3/an', '143m3/an', '143m3/an', '143m3/an', '143m3/an', '143m3/an', '143m3/an', '143m3/an', '143m3/an', '143m3/an', '142m3/an', '142m3/an', '142m3/an', '142m3/an', '142m3/an', '142m3/an', '142m3/an', '142m3/an', '142m3/an', '142m3/an', '142m3/an', '142m3/an', '141m3/an', '141m3/an', '141m3/an', '141m3/an', '141m3/an', '141m3/an', '141m3/an', '141m3/an', '141m3/an', '141m3/an', '141m3/an', '141m3/an', '141m3/an', '141m3/an', '141m3/an', '141m3/an', '141m3/an', '141m3/an', '141m3/an', '141m3/an', '141m3/an', '141m3/an', '141m3/an', '141m3/an', '141m3/an', '141m3/an', '141m3/an', '141m3/an', '141m3/an', '141m3/an', '141m3/an', '141m3/an', '141m3/an', '141m3/an', '141m3/an', '141m3/an', '141m3/an', '141m3/an', '141m3/an', '141m3/an', '141m3/an', '141m3/an', '141m3/an', '141m3/an', '141m3/an', '141m3/an', '141m3/an', '141m3/an', '141m3/an', '141m3/an', '141m3/an', '141m3/an', '141m3/an', '141m3/an', '141m3/an', '141m3/an', '141m3/an', '141m3/an', '141m3/an', '141m3/an', '141m3/an', '141m3/an', '141m3/an', '141m3/an', '141m3/an', '141m3/an', '141m3/an', '141m3/an', '141m3/an', '141m3/an', '141m3/an', '141m3/an', '141m3/an', '141m3/an', '141m3/an', '141m3/an', '141m3/an', '141m3/an', '141m3/an', '141m3/an', '141m3/an', '141m3/an', '141m3/an', '141m3/an', '141m3/an', '141m3/an', '141m3/an', '141m3/an', '141m3/an', '141m3/an', '141m3/an', '141m3/an', '141m3/an', '141m3/an', '141m3/an', '141m3/an', '141m3/an', '141m3/an', '141m3/an', '141m3/an', '141m3/an', '141m3/an', '141m3/an', '141m3/an', '141m3/an', '141m3/an', '141m3/an', '141m3/an', '141m3/an', '141m3/an', '141m3/an', '141m3/an', '141m3/an', '141m3/an', '141m3/an', '141m3/an', '141m3/an', '141m3/an', '141m3/an', '141m3/an', '141m3/an', '140m3/an', '140m3/an', '140m3/an', '140m3/an', '140m3/an', '139m3/an', '139m3/an', '139m3/an', '139m3/an', '139m3/an', '139m3/an', '139m3/an', '139m3/an', '139m3/an', '139m3/an', '139m3/an', '139m3/an', '139m3/an', '139m3/an', '139m3/an', '139m3/an', '139m3/an', '139m3/an', '139m3/an', '139m3/an', '139m3/an', '139m3/an', '139m3/an', '139m3/an', '139m3/an', '139m3/an', '139m3/an', '139m3/an', '139m3/an', '139m3/an', '139m3/an', '139m3/an', '139m3/an', '139m3/an', '139m3/an', '139m3/an', '139m3/an', '139m3/an', '139m3/an', '139m3/an', '139m3/an', '139m3/an', '139m3/an', '138m3/an', '138m3/an', '138m3/an', '137m3/an', '137m3/an', '137m3/an', '137m3/an', '137m3/an', '137m3/an', '137m3/an', '137m3/an', '137m3/an', '137m3/an', '137m3/an', '137m3/an', '137m3/an', '137m3/an', '137m3/an', '137m3/an', '137m3/an', '137m3/an', '137m3/an', '137m3/an', '137m3/an', '137m3/an', '137m3/an', '137m3/an', '137m3/an', '137m3/an', '137m3/an', '137m3/an', '137m3/an', '137m3/an', '137m3/an', '137m3/an', '137m3/an', '137m3/an', '137m3/an', '137m3/an', '137m3/an', '137m3/an', '137m3/an', '137m3/an', '136m3/an', '136m3/an', '136m3/an', '136m3/an', '136m3/an', '136m3/an', '136m3/an', '136m3/an', '136m3/an', '136m3/an', '136m3/an', '136m3/an', '136m3/an', '136m3/an', '136m3/an', '136m3/an', '136m3/an', '136m3/an', '136m3/an', '136m3/an', '136m3/an', '136m3/an', '136m3/an', '136m3/an', '136m3/an', '136m3/an', '136m3/an', '136m3/an', '136m3/an', '136m3/an', '136m3/an', '136m3/an', '136m3/an', '136m3/an', '136m3/an', '136m3/an', '136m3/an', '135m3/an', '135m3/an', '135m3/an', '135m3/an', '135m3/an', '135m3/an', '135m3/an', '135m3/an', '135m3/an', '135m3/an', '135m3/an', '135m3/an', '135m3/an', '135m3/an', '135m3/an', '135m3/an', '135m3/an', '135m3/an', '135m3/an', '135m3/an', '135m3/an', '135m3/an', '135m3/an', '135m3/an', '135m3/an', '135m3/an', '135m3/an', '135m3/an', '134m3/an', '134m3/an', '134m3/an', '134m3/an', '134m3/an', '134m3/an', '134m3/an', '134m3/an', '134m3/an', '134m3/an', '134m3/an', '134m3/an', '134m3/an', '133m3/an', '133m3/an', '133m3/an', '133m3/an', '133m3/an', '133m3/an', '133m3/an', '133m3/an', '133m3/an', '133m3/an', '133m3/an', '133m3/an', '133m3/an', '133m3/an', '133m3/an', '133m3/an', '133m3/an', '133m3/an', '133m3/an', '133m3/an', '133m3/an', '132m3/an', '132m3/an', '132m3/an', '132m3/an', '132m3/an', '132m3/an', '132m3/an', '132m3/an', '132m3/an', '132m3/an', '132m3/an', '132m3/an', '132m3/an', '131m3/an', '131m3/an', '131m3/an', '131m3/an', '131m3/an', '131m3/an', '131m3/an', '131m3/an', '131m3/an', '131m3/an', '131m3/an', '131m3/an', '131m3/an', '131m3/an', '131m3/an', '131m3/an', '131m3/an', '131m3/an', '131m3/an', '131m3/an', '131m3/an', '131m3/an', '131m3/an', '131m3/an', '131m3/an', '131m3/an', '131m3/an', '131m3/an', '131m3/an', '131m3/an', '131m3/an', '131m3/an', '131m3/an', '131m3/an', '131m3/an', '131m3/an', '131m3/an', '131m3/an', '131m3/an', '131m3/an', '131m3/an', '131m3/an', '131m3/an', '131m3/an', '131m3/an', '131m3/an', '131m3/an', '131m3/an', '131m3/an', '131m3/an', '131m3/an', '131m3/an', '131m3/an', '131m3/an', '131m3/an', '131m3/an', '131m3/an', '131m3/an', '131m3/an', '131m3/an', '131m3/an', '131m3/an', '131m3/an', '131m3/an', '131m3/an', '131m3/an', '131m3/an', '131m3/an', '131m3/an', '131m3/an', '131m3/an', '131m3/an', '131m3/an', '131m3/an', '131m3/an', '131m3/an', '131m3/an', '131m3/an', '131m3/an', '131m3/an', '131m3/an', '131m3/an', '131m3/an', '131m3/an', '131m3/an', '131m3/an', '131m3/an', '131m3/an', '131m3/an', '131m3/an', '131m3/an', '131m3/an', '131m3/an', '131m3/an', '131m3/an', '131m3/an', '131m3/an', '131m3/an', '131m3/an', '131m3/an', '131m3/an', '131m3/an', '131m3/an', '131m3/an', '131m3/an', '131m3/an', '131m3/an', '131m3/an', '131m3/an', '131m3/an', '131m3/an', '130m3/an', '130m3/an', '130m3/an', '130m3/an', '130m3/an', '130m3/an', '130m3/an', '130m3/an', '130m3/an', '130m3/an', '130m3/an', '130m3/an', '130m3/an', '129m3/an', '129m3/an', '129m3/an', '129m3/an', '129m3/an', '129m3/an', '129m3/an', '129m3/an', '129m3/an', '128m3/an', '128m3/an', '128m3/an', '128m3/an', '128m3/an', '128m3/an', '128m3/an', '128m3/an', '128m3/an', '128m3/an', '128m3/an', '127m3/an', '127m3/an', '127m3/an', '127m3/an', '127m3/an', '127m3/an', '127m3/an', '127m3/an', '127m3/an', '127m3/an', '127m3/an', '127m3/an', '127m3/an', '127m3/an', '127m3/an', '127m3/an', '126m3/an', '126m3/an', '126m3/an', '126m3/an', '126m3/an', '126m3/an', '126m3/an', '126m3/an', '126m3/an', '126m3/an', '126m3/an', '126m3/an', '126m3/an', '126m3/an', '126m3/an', '126m3/an', '126m3/an', '126m3/an', '126m3/an', '126m3/an', '126m3/an', '126m3/an', '126m3/an', '126m3/an', '126m3/an', '126m3/an', '126m3/an', '126m3/an', '126m3/an', '126m3/an', '126m3/an', '126m3/an', '126m3/an', '126m3/an', '126m3/an', '126m3/an', '126m3/an', '126m3/an', '126m3/an', '126m3/an', '126m3/an', '126m3/an', '126m3/an', '126m3/an', '126m3/an', '126m3/an', '126m3/an', '126m3/an', '126m3/an', '126m3/an', '126m3/an', '126m3/an', '126m3/an', '126m3/an', '126m3/an', '126m3/an', '126m3/an', '126m3/an', '126m3/an', '126m3/an', '126m3/an', '125m3/an', '125m3/an', '125m3/an', '125m3/an', '125m3/an', '125m3/an', '125m3/an', '125m3/an', '125m3/an', '125m3/an', '125m3/an', '125m3/an', '125m3/an', '125m3/an', '125m3/an', '125m3/an', '125m3/an', '125m3/an', '125m3/an', '125m3/an', '125m3/an', '125m3/an', '125m3/an', '125m3/an', '125m3/an', '125m3/an', '125m3/an', '125m3/an', '125m3/an', '125m3/an', '125m3/an', '125m3/an', '125m3/an', '125m3/an', '125m3/an', '125m3/an', '124m3/an', '124m3/an', '124m3/an', '124m3/an', '124m3/an', '124m3/an', '124m3/an', '124m3/an', '124m3/an', '124m3/an', '124m3/an', '124m3/an', '124m3/an', '124m3/an', '124m3/an', '124m3/an', '124m3/an', '124m3/an', '124m3/an', '124m3/an', '124m3/an', '124m3/an', '124m3/an', '124m3/an', '124m3/an', '124m3/an', '124m3/an', '124m3/an', '124m3/an', '124m3/an', '124m3/an', '124m3/an', '124m3/an', '124m3/an', '124m3/an', '124m3/an', '124m3/an', '124m3/an', '124m3/an', '124m3/an', '124m3/an', '124m3/an', '124m3/an', '124m3/an', '124m3/an', '124m3/an', '124m3/an', '124m3/an', '124m3/an', '124m3/an', '124m3/an', '124m3/an', '124m3/an', '124m3/an', '124m3/an', '124m3/an', '123m3/an', '123m3/an', '123m3/an', '123m3/an', '123m3/an', '123m3/an', '123m3/an', '123m3/an', '123m3/an', '123m3/an', '123m3/an', '123m3/an', '123m3/an', '123m3/an', '123m3/an', '123m3/an', '123m3/an', '123m3/an', '123m3/an', '123m3/an', '123m3/an', '123m3/an', '123m3/an', '123m3/an', '123m3/an', '123m3/an', '123m3/an', '123m3/an', '123m3/an', '123m3/an', '123m3/an', '123m3/an', '123m3/an', '123m3/an', '123m3/an', '122m3/an', '122m3/an', '122m3/an', '122m3/an', '122m3/an', '122m3/an', '122m3/an', '122m3/an', '122m3/an', '122m3/an', '122m3/an', '122m3/an', '122m3/an', '122m3/an', '122m3/an', '121m3/an', '121m3/an', '121m3/an', '121m3/an', '121m3/an', '121m3/an', '121m3/an', '121m3/an', '121m3/an', '121m3/an', '121m3/an', '121m3/an', '121m3/an', '121m3/an', '121m3/an', '121m3/an', '121m3/an', '121m3/an', '121m3/an', '121m3/an', '121m3/an', '121m3/an', '121m3/an', '121m3/an', '121m3/an', '121m3/an', '121m3/an', '121m3/an', '121m3/an', '121m3/an', '121m3/an', '121m3/an', '121m3/an', '121m3/an', '121m3/an', '121m3/an', '121m3/an', '121m3/an', '121m3/an', '121m3/an', '121m3/an', '121m3/an', '121m3/an', '121m3/an', '121m3/an', '121m3/an', '121m3/an', '121m3/an', '121m3/an', '121m3/an', '121m3/an', '121m3/an', '121m3/an', '121m3/an', '121m3/an', '121m3/an', '121m3/an', '121m3/an', '121m3/an', '121m3/an', '121m3/an', '121m3/an', '121m3/an', '121m3/an', '121m3/an', '121m3/an', '121m3/an', '121m3/an', '121m3/an', '121m3/an', '121m3/an', '121m3/an', '121m3/an', '121m3/an', '121m3/an', '121m3/an', '121m3/an', '121m3/an', '121m3/an', '121m3/an', '121m3/an', '121m3/an', '121m3/an', '121m3/an', '121m3/an', '121m3/an', '121m3/an', '121m3/an', '121m3/an', '121m3/an', '121m3/an', '121m3/an', '121m3/an', '121m3/an', '121m3/an', '121m3/an', '121m3/an', '121m3/an', '121m3/an', '121m3/an', '121m3/an', '121m3/an', '121m3/an', '121m3/an', '121m3/an', '121m3/an', '121m3/an', '121m3/an', '121m3/an', '121m3/an', '121m3/an', '121m3/an', '121m3/an', '121m3/an', '121m3/an', '121m3/an', '121m3/an', '121m3/an', '121m3/an', '121m3/an', '121m3/an', '121m3/an', '121m3/an', '121m3/an', '121m3/an', '121m3/an', '121m3/an', '121m3/an', '121m3/an', '121m3/an', '121m3/an', '121m3/an', '121m3/an', '121m3/an', '121m3/an', '121m3/an', '121m3/an', '121m3/an', '121m3/an', '121m3/an', '121m3/an', '121m3/an', '121m3/an', '121m3/an', '121m3/an', '121m3/an', '121m3/an', '121m3/an', '121m3/an', '121m3/an', '121m3/an', '121m3/an', '121m3/an', '121m3/an', '121m3/an', '121m3/an', '121m3/an', '121m3/an', '121m3/an', '121m3/an', '121m3/an', '121m3/an', '121m3/an', '121m3/an', '121m3/an', '121m3/an', '121m3/an', '121m3/an', '121m3/an', '121m3/an', '121m3/an', '121m3/an', '121m3/an', '121m3/an', '120m3/an', '120m3/an', '120m3/an', '120m3/an', '120m3/an', '120m3/an', '120m3/an', '120m3/an', '120m3/an', '120m3/an', '120m3/an', '120m3/an', '120m3/an', '120m3/an', '120m3/an', '120m3/an', '120m3/an', '120m3/an', '119m3/an', '119m3/an', '119m3/an', '119m3/an', '119m3/an', '119m3/an', '119m3/an', '119m3/an', '119m3/an', '119m3/an', '119m3/an', '119m3/an', '119m3/an', '119m3/an', '119m3/an', '119m3/an', '119m3/an', '119m3/an', '119m3/an', '119m3/an', '119m3/an', '119m3/an', '119m3/an', '119m3/an', '119m3/an', '119m3/an', '119m3/an', '119m3/an', '119m3/an', '119m3/an', '119m3/an', '119m3/an', '119m3/an', '119m3/an', '119m3/an', '119m3/an', '119m3/an', '119m3/an', '119m3/an', '119m3/an', '119m3/an', '119m3/an', '119m3/an', '119m3/an', '119m3/an', '119m3/an', '119m3/an', '119m3/an', '119m3/an', '119m3/an', '119m3/an', '119m3/an', '119m3/an', '119m3/an', '119m3/an', '119m3/an', '119m3/an', '119m3/an', '119m3/an', '119m3/an', '119m3/an', '119m3/an', '119m3/an', '119m3/an', '119m3/an', '119m3/an', '119m3/an', '119m3/an', '119m3/an', '119m3/an', '119m3/an', '119m3/an', '119m3/an', '119m3/an', '119m3/an', '119m3/an', '119m3/an', '119m3/an', '119m3/an', '119m3/an', '119m3/an', '119m3/an', '119m3/an', '119m3/an', '119m3/an', '119m3/an', '119m3/an', '119m3/an', '119m3/an', '119m3/an', '119m3/an', '119m3/an', '118m3/an', '118m3/an', '118m3/an', '118m3/an', '118m3/an', '118m3/an', '118m3/an', '118m3/an', '118m3/an', '118m3/an', '118m3/an', '118m3/an', '118m3/an', '118m3/an', '118m3/an', '118m3/an', '118m3/an', '118m3/an', '118m3/an', '118m3/an', '118m3/an', '118m3/an', '118m3/an', '118m3/an', '117m3/an', '117m3/an', '117m3/an', '117m3/an', '117m3/an', '117m3/an', '117m3/an', '117m3/an', '117m3/an', '117m3/an', '117m3/an', '117m3/an', '117m3/an', '117m3/an', '117m3/an', '117m3/an', '117m3/an', '117m3/an', '117m3/an', '117m3/an', '117m3/an', '117m3/an', '117m3/an', '117m3/an', '117m3/an', '117m3/an', '117m3/an', '117m3/an', '117m3/an', '117m3/an', '117m3/an', '117m3/an', '117m3/an', '117m3/an', '117m3/an', '117m3/an', '117m3/an', '117m3/an', '117m3/an', '117m3/an', '117m3/an', '117m3/an', '117m3/an', '117m3/an', '116m3/an', '116m3/an', '116m3/an', '116m3/an', '116m3/an', '116m3/an', '116m3/an', '116m3/an', '116m3/an', '116m3/an', '116m3/an', '116m3/an', '116m3/an', '116m3/an', '116m3/an', '116m3/an', '116m3/an', '116m3/an', '116m3/an', '116m3/an', '116m3/an', '116m3/an', '116m3/an', '116m3/an', '116m3/an', '116m3/an', '116m3/an', '116m3/an', '116m3/an', '116m3/an', '116m3/an', '116m3/an', '116m3/an', '116m3/an', '116m3/an', '116m3/an', '116m3/an', '116m3/an', '116m3/an', '116m3/an', '116m3/an', '116m3/an', '116m3/an', '116m3/an', '116m3/an', '116m3/an', '116m3/an', '116m3/an', '116m3/an', '116m3/an', '116m3/an', '116m3/an', '116m3/an', '116m3/an', '116m3/an', '116m3/an', '116m3/an', '116m3/an', '115m3/an', '115m3/an', '115m3/an', '115m3/an', '115m3/an', '115m3/an', '115m3/an', '115m3/an', '115m3/an', '115m3/an', '115m3/an', '115m3/an', '115m3/an', '115m3/an', '115m3/an', '115m3/an', '115m3/an', '115m3/an', '115m3/an', '115m3/an', '115m3/an', '115m3/an', '115m3/an', '115m3/an', '115m3/an', '115m3/an', '115m3/an', '115m3/an', '115m3/an', '115m3/an', '115m3/an', '115m3/an', '115m3/an', '115m3/an', '115m3/an', '115m3/an', '114m3/an', '114m3/an', '114m3/an', '114m3/an', '114m3/an', '114m3/an', '114m3/an', '114m3/an', '114m3/an', '114m3/an', '114m3/an', '114m3/an', '114m3/an', '114m3/an', '114m3/an', '114m3/an', '114m3/an', '114m3/an', '114m3/an', '114m3/an', '114m3/an', '113m3/an', '113m3/an', '113m3/an', '113m3/an', '113m3/an', '113m3/an', '113m3/an', '113m3/an', '113m3/an', '113m3/an', '113m3/an', '113m3/an', '113m3/an', '113m3/an', '113m3/an', '113m3/an', '113m3/an', '113m3/an', '113m3/an', '113m3/an', '113m3/an', '113m3/an', '113m3/an', '113m3/an', '113m3/an', '113m3/an', '113m3/an', '113m3/an', '113m3/an', '113m3/an', '113m3/an', '113m3/an', '113m3/an', '113m3/an', '113m3/an', '113m3/an', '113m3/an', '113m3/an', '113m3/an', '113m3/an', '113m3/an', '113m3/an', '113m3/an', '113m3/an', '113m3/an', '113m3/an', '113m3/an', '113m3/an', '113m3/an', '113m3/an', '113m3/an', '113m3/an', '113m3/an', '113m3/an', '113m3/an', '113m3/an', '113m3/an', '113m3/an', '113m3/an', '113m3/an', '113m3/an', '113m3/an', '113m3/an', '112m3/an', '112m3/an', '112m3/an', '112m3/an', '112m3/an', '112m3/an', '112m3/an', '112m3/an', '112m3/an', '112m3/an', '112m3/an', '112m3/an', '112m3/an', '112m3/an', '112m3/an', '112m3/an', '112m3/an', '112m3/an', '112m3/an', '112m3/an', '112m3/an', '112m3/an', '112m3/an', '112m3/an', '112m3/an', '112m3/an', '112m3/an', '112m3/an', '112m3/an', '112m3/an', '112m3/an', '112m3/an', '112m3/an', '112m3/an', '112m3/an', '112m3/an', '112m3/an', '112m3/an', '112m3/an', '112m3/an', '112m3/an', '112m3/an', '112m3/an', '112m3/an', '112m3/an', '112m3/an', '112m3/an', '112m3/an', '112m3/an', '112m3/an', '112m3/an', '112m3/an', '112m3/an', '112m3/an', '112m3/an', '112m3/an', '112m3/an', '112m3/an', '112m3/an', '112m3/an', '112m3/an', '111m3/an', '111m3/an', '111m3/an', '111m3/an', '111m3/an', '111m3/an', '111m3/an', '111m3/an', '111m3/an', '111m3/an', '111m3/an', '111m3/an', '111m3/an', '111m3/an', '111m3/an', '111m3/an', '111m3/an', '111m3/an', '111m3/an', '111m3/an', '111m3/an', '111m3/an', '111m3/an', '111m3/an', '111m3/an', '111m3/an', '111m3/an', '111m3/an', '111m3/an', '111m3/an', '111m3/an', '111m3/an', '111m3/an', '111m3/an', '111m3/an', '111m3/an', '111m3/an', '111m3/an', '111m3/an', '111m3/an', '111m3/an', '111m3/an', '111m3/an', '111m3/an', '111m3/an', '111m3/an', '111m3/an', '111m3/an', '111m3/an', '111m3/an', '111m3/an', '111m3/an', '111m3/an', '111m3/an', '111m3/an', '111m3/an', '111m3/an', '111m3/an', '111m3/an', '111m3/an', '111m3/an', '111m3/an', '111m3/an', '111m3/an', '111m3/an', '111m3/an', '111m3/an', '111m3/an', '111m3/an', '111m3/an', '111m3/an', '111m3/an', '111m3/an', '111m3/an', '111m3/an', '111m3/an', '111m3/an', '111m3/an', '111m3/an', '111m3/an', '111m3/an', '111m3/an', '111m3/an', '111m3/an', '111m3/an', '111m3/an', '111m3/an', '111m3/an', '111m3/an', '111m3/an', '111m3/an', '111m3/an', '111m3/an', '111m3/an', '111m3/an', '111m3/an', '111m3/an', '110m3/an', '110m3/an', '110m3/an', '110m3/an', '110m3/an', '110m3/an', '110m3/an', '110m3/an', '110m3/an', '110m3/an', '110m3/an', '110m3/an', '110m3/an', '110m3/an', '110m3/an', '110m3/an', '110m3/an', '110m3/an', '110m3/an', '110m3/an', '110m3/an', '110m3/an', '110m3/an', '110m3/an', '110m3/an', '110m3/an', '110m3/an', '110m3/an', '110m3/an', '110m3/an', '110m3/an', '110m3/an', '110m3/an', '110m3/an', '110m3/an', '110m3/an', '110m3/an', '110m3/an', '110m3/an', '110m3/an', '110m3/an', '110m3/an', '110m3/an', '110m3/an', '110m3/an', '110m3/an', '110m3/an', '110m3/an', '110m3/an', '110m3/an', '110m3/an', '110m3/an', '110m3/an', '110m3/an', '110m3/an', '110m3/an', '110m3/an', '110m3/an', '110m3/an', '110m3/an', '110m3/an', '110m3/an', '110m3/an', '110m3/an', '110m3/an', '110m3/an', '110m3/an', '110m3/an', '110m3/an', '110m3/an', '110m3/an', '110m3/an', '110m3/an', '110m3/an', '110m3/an', '110m3/an', '110m3/an', '110m3/an', '110m3/an', '110m3/an', '110m3/an', '110m3/an', '110m3/an', '110m3/an', '110m3/an', '110m3/an', '109m3/an', '109m3/an', '109m3/an', '109m3/an', '109m3/an', '109m3/an', '109m3/an', '109m3/an', '109m3/an', '109m3/an', '109m3/an', '109m3/an', '109m3/an', '109m3/an', '109m3/an', '109m3/an', '109m3/an', '109m3/an', '109m3/an', '109m3/an', '109m3/an', '109m3/an', '109m3/an', '109m3/an', '109m3/an', '109m3/an', '109m3/an', '109m3/an', '109m3/an', '109m3/an', '109m3/an', '109m3/an', '109m3/an', '109m3/an', '109m3/an', '109m3/an', '109m3/an', '109m3/an', '109m3/an', '109m3/an', '109m3/an', '109m3/an', '109m3/an', '109m3/an', '109m3/an', '109m3/an', '109m3/an', '109m3/an', '109m3/an', '109m3/an', '109m3/an', '108m3/an', '108m3/an', '108m3/an', '108m3/an', '108m3/an', '108m3/an', '108m3/an', '108m3/an', '108m3/an', '108m3/an', '108m3/an', '108m3/an', '108m3/an', '108m3/an', '108m3/an', '108m3/an', '108m3/an', '108m3/an', '108m3/an', '108m3/an', '108m3/an', '108m3/an', '108m3/an', '108m3/an', '108m3/an', '108m3/an', '108m3/an', '108m3/an', '108m3/an', '108m3/an', '108m3/an', '108m3/an', '108m3/an', '108m3/an', '108m3/an', '108m3/an', '108m3/an', '108m3/an', '108m3/an', '108m3/an', '108m3/an', '108m3/an', '108m3/an', '108m3/an', '108m3/an', '108m3/an', '108m3/an', '108m3/an', '108m3/an', '108m3/an', '108m3/an', '108m3/an', '108m3/an', '108m3/an', '108m3/an', '108m3/an', '108m3/an', '108m3/an', '108m3/an', '108m3/an', '107m3/an', '107m3/an', '107m3/an', '107m3/an', '107m3/an', '107m3/an', '107m3/an', '107m3/an', '107m3/an', '107m3/an', '107m3/an', '107m3/an', '107m3/an', '107m3/an', '107m3/an', '107m3/an', '107m3/an', '107m3/an', '107m3/an', '107m3/an', '107m3/an', '107m3/an', '107m3/an', '107m3/an', '107m3/an', '107m3/an', '107m3/an', '107m3/an', '107m3/an', '107m3/an', '107m3/an', '107m3/an', '107m3/an', '107m3/an', '107m3/an', '107m3/an', '107m3/an', '107m3/an', '107m3/an', '107m3/an', '107m3/an', '107m3/an', '107m3/an', '107m3/an', '107m3/an', '107m3/an', '107m3/an', '107m3/an', '107m3/an', '107m3/an', '106m3/an', '106m3/an', '106m3/an', '106m3/an', '106m3/an', '106m3/an', '106m3/an', '106m3/an', '106m3/an', '106m3/an', '106m3/an', '106m3/an', '106m3/an', '106m3/an', '106m3/an', '106m3/an', '106m3/an', '106m3/an', '106m3/an', '106m3/an', '106m3/an', '106m3/an', '106m3/an', '106m3/an', '106m3/an', '106m3/an', '106m3/an', '106m3/an', '106m3/an', '106m3/an', '106m3/an', '106m3/an', '106m3/an', '106m3/an', '106m3/an', '106m3/an', '106m3/an', '106m3/an', '106m3/an', '106m3/an', '106m3/an', '106m3/an', '106m3/an', '106m3/an', '106m3/an', '106m3/an', '106m3/an', '106m3/an', '106m3/an', '106m3/an', '106m3/an', '106m3/an', '106m3/an', '106m3/an', '105m3/an', '105m3/an', '105m3/an', '105m3/an', '105m3/an', '105m3/an', '105m3/an', '105m3/an', '105m3/an', '105m3/an', '105m3/an', '105m3/an', '105m3/an', '105m3/an', '105m3/an', '105m3/an', '105m3/an', '105m3/an', '105m3/an', '105m3/an', '105m3/an', '105m3/an', '105m3/an', '105m3/an', '105m3/an', '105m3/an', '105m3/an', '105m3/an', '105m3/an', '105m3/an', '105m3/an', '105m3/an', '105m3/an', '105m3/an', '105m3/an', '105m3/an', '105m3/an', '105m3/an', '105m3/an', '105m3/an', '105m3/an', '105m3/an', '105m3/an', '105m3/an', '105m3/an', '105m3/an', '105m3/an', '105m3/an', '105m3/an', '105m3/an', '105m3/an', '105m3/an', '105m3/an', '105m3/an', '105m3/an', '105m3/an', '105m3/an', '105m3/an', '105m3/an', '105m3/an', '105m3/an', '105m3/an', '105m3/an', '105m3/an', '105m3/an', '105m3/an', '105m3/an', '105m3/an', '105m3/an', '105m3/an', '105m3/an', '105m3/an', '105m3/an', '105m3/an', '105m3/an', '105m3/an', '105m3/an', '105m3/an', '105m3/an', '105m3/an', '105m3/an', '105m3/an', '105m3/an', '105m3/an', '105m3/an', '105m3/an', '105m3/an', '105m3/an', '105m3/an', '105m3/an', '105m3/an', '104m3/an', '104m3/an', '104m3/an', '104m3/an', '104m3/an', '104m3/an', '104m3/an', '104m3/an', '104m3/an', '104m3/an', '104m3/an', '104m3/an', '104m3/an', '104m3/an', '104m3/an', '104m3/an', '104m3/an', '104m3/an', '104m3/an', '104m3/an', '104m3/an', '104m3/an', '104m3/an', '104m3/an', '104m3/an', '104m3/an', '104m3/an', '104m3/an', '104m3/an', '104m3/an', '104m3/an', '104m3/an', '104m3/an', '104m3/an', '104m3/an', '104m3/an', '104m3/an', '104m3/an', '104m3/an', '104m3/an', '104m3/an', '104m3/an', '104m3/an', '104m3/an', '104m3/an', '104m3/an', '104m3/an', '104m3/an', '104m3/an', '104m3/an', '104m3/an', '104m3/an', '104m3/an', '104m3/an', '104m3/an', '103m3/an', '103m3/an', '103m3/an', '103m3/an', '103m3/an', '103m3/an', '103m3/an', '103m3/an', '103m3/an', '103m3/an', '103m3/an', '103m3/an', '103m3/an', '103m3/an', '103m3/an', '103m3/an', '103m3/an', '103m3/an', '103m3/an', '103m3/an', '103m3/an', '103m3/an', '103m3/an', '103m3/an', '103m3/an', '103m3/an', '103m3/an', '103m3/an', '103m3/an', '103m3/an', '103m3/an', '103m3/an', '103m3/an', '103m3/an', '103m3/an', '103m3/an', '103m3/an', '103m3/an', '103m3/an', '103m3/an', '103m3/an', '103m3/an', '103m3/an', '103m3/an', '103m3/an', '103m3/an', '103m3/an', '103m3/an', '103m3/an', '103m3/an', '103m3/an', '103m3/an', '103m3/an', '103m3/an', '103m3/an', '103m3/an', '102m3/an', '102m3/an', '102m3/an', '102m3/an', '102m3/an', '102m3/an', '102m3/an', '102m3/an', '102m3/an', '102m3/an', '102m3/an', '102m3/an', '102m3/an', '102m3/an', '102m3/an', '102m3/an', '102m3/an', '102m3/an', '102m3/an', '102m3/an', '102m3/an', '102m3/an', '102m3/an', '102m3/an', '102m3/an', '102m3/an', '102m3/an', '102m3/an', '102m3/an', '102m3/an', '102m3/an', '102m3/an', '102m3/an', '102m3/an', '102m3/an', '102m3/an', '102m3/an', '102m3/an', '102m3/an', '102m3/an', '102m3/an', '102m3/an', '102m3/an', '102m3/an', '102m3/an', '102m3/an', '102m3/an', '102m3/an', '101m3/an', '101m3/an', '101m3/an', '101m3/an', '101m3/an', '101m3/an', '101m3/an', '101m3/an', '101m3/an', '101m3/an', '101m3/an', '101m3/an', '101m3/an', '101m3/an', '101m3/an', '101m3/an', '101m3/an', '101m3/an', '101m3/an', '101m3/an', '101m3/an', '101m3/an', '101m3/an', '101m3/an', '101m3/an', '101m3/an', '101m3/an', '101m3/an', '101m3/an', '101m3/an', '101m3/an', '101m3/an', '101m3/an', '101m3/an', '101m3/an', '101m3/an', '101m3/an', '101m3/an', '101m3/an', '101m3/an', '101m3/an', '101m3/an', '101m3/an', '101m3/an', '101m3/an', '100m3/an', '100m3/an', '100m3/an', '100m3/an', '100m3/an', '100m3/an', '100m3/an', '100m3/an', '100m3/an', '100m3/an', '100m3/an', '100m3/an', '100m3/an', '100m3/an', '100m3/an', '100m3/an', '100m3/an', '100m3/an', '100m3/an', '100m3/an', '100m3/an', '100m3/an', '100m3/an', '100m3/an', '100m3/an', '100m3/an', '100m3/an', '100m3/an', '100m3/an', '100m3/an', '100m3/an', '100m3/an', '100m3/an', '100m3/an', '100m3/an', '100m3/an', '100m3/an', '100m3/an', '100m3/an', '100m3/an', '100m3/an', '100m3/an', '100m3/an', '100m3/an', '100m3/an', '100m3/an', '100m3/an', '100m3/an', '100m3/an', '100m3/an', '100m3/an', '100m3/an', '100m3/an', '100m3/an', '100m3/an', '100m3/an', '100m3/an', '99m3/an', '99m3/an', '99m3/an', '99m3/an', '99m3/an', '99m3/an', '99m3/an', '99m3/an', '99m3/an', '99m3/an', '99m3/an', '99m3/an', '99m3/an', '99m3/an', '99m3/an', '99m3/an', '99m3/an', '99m3/an', '99m3/an', '99m3/an', '99m3/an', '99m3/an', '99m3/an', '99m3/an', '99m3/an', '99m3/an', '99m3/an', '99m3/an', '99m3/an', '99m3/an', '99m3/an', '99m3/an', '99m3/an', '99m3/an', '99m3/an', '99m3/an', '99m3/an', '99m3/an', '99m3/an', '99m3/an', '99m3/an', '99m3/an', '99m3/an', '99m3/an', '99m3/an', '99m3/an', '99m3/an', '99m3/an', '99m3/an', '99m3/an', '99m3/an', '99m3/an', '99m3/an', '99m3/an', '99m3/an', '99m3/an', '99m3/an', '99m3/an', '99m3/an', '99m3/an', '99m3/an', '99m3/an', '99m3/an', '99m3/an', '99m3/an', '99m3/an', '99m3/an', '99m3/an', '99m3/an', '99m3/an', '99m3/an', '99m3/an', '99m3/an', '99m3/an', '99m3/an', '99m3/an', '99m3/an', '99m3/an', '99m3/an', '99m3/an', '99m3/an', '99m3/an', '99m3/an', '99m3/an', '99m3/an', '99m3/an', '99m3/an', '99m3/an', '99m3/an', '99m3/an', '99m3/an', '99m3/an', '99m3/an', '99m3/an', '99m3/an', '99m3/an', '99m3/an', '99m3/an', '99m3/an', '99m3/an', '99m3/an', '99m3/an', '99m3/an', '99m3/an', '99m3/an', '99m3/an', '99m3/an', '99m3/an', '99m3/an', '99m3/an', '99m3/an', '99m3/an', '99m3/an', '99m3/an', '99m3/an', '99m3/an', '98m3/an', '98m3/an', '98m3/an', '98m3/an', '98m3/an', '98m3/an', '98m3/an', '98m3/an', '98m3/an', '98m3/an', '98m3/an', '98m3/an', '98m3/an', '98m3/an', '98m3/an', '98m3/an', '98m3/an', '98m3/an', '98m3/an', '98m3/an', '98m3/an', '98m3/an', '98m3/an', '98m3/an', '98m3/an', '98m3/an', '98m3/an', '98m3/an', '98m3/an', '98m3/an', '98m3/an', '98m3/an', '98m3/an', '98m3/an', '98m3/an', '98m3/an', '98m3/an', '98m3/an', '98m3/an', '98m3/an', '98m3/an', '98m3/an', '98m3/an', '98m3/an', '98m3/an', '98m3/an', '98m3/an', '98m3/an', '98m3/an', '97m3/an', '97m3/an', '97m3/an', '97m3/an', '97m3/an', '97m3/an', '97m3/an', '97m3/an', '97m3/an', '97m3/an', '97m3/an', '97m3/an', '97m3/an', '97m3/an', '97m3/an', '97m3/an', '97m3/an', '97m3/an', '97m3/an', '97m3/an', '97m3/an', '97m3/an', '97m3/an', '97m3/an', '97m3/an', '97m3/an', '97m3/an', '97m3/an', '97m3/an', '97m3/an', '97m3/an', '97m3/an', '97m3/an', '97m3/an', '97m3/an', '97m3/an', '97m3/an', '97m3/an', '97m3/an', '97m3/an', '97m3/an', '97m3/an', '97m3/an', '96m3/an', '96m3/an', '96m3/an', '96m3/an', '96m3/an', '96m3/an', '96m3/an', '96m3/an', '96m3/an', '96m3/an', '96m3/an', '96m3/an', '96m3/an', '96m3/an', '96m3/an', '96m3/an', '96m3/an', '96m3/an', '96m3/an', '96m3/an', '96m3/an', '96m3/an', '96m3/an', '96m3/an', '96m3/an', '96m3/an', '96m3/an', '96m3/an', '96m3/an', '96m3/an', '96m3/an', '96m3/an', '96m3/an', '96m3/an', '96m3/an', '96m3/an', '96m3/an', '96m3/an', '96m3/an', '95m3/an', '95m3/an', '95m3/an', '95m3/an', '95m3/an', '95m3/an', '95m3/an', '95m3/an', '95m3/an', '95m3/an', '95m3/an', '95m3/an', '95m3/an', '95m3/an', '95m3/an', '95m3/an', '95m3/an', '95m3/an', '95m3/an', '95m3/an', '95m3/an', '95m3/an', '95m3/an', '95m3/an', '95m3/an', '95m3/an', '95m3/an', '95m3/an', '95m3/an', '95m3/an', '95m3/an', '95m3/an', '95m3/an', '95m3/an', '95m3/an', '95m3/an', '95m3/an', '95m3/an', '95m3/an', '95m3/an', '95m3/an', '95m3/an', '95m3/an', '95m3/an', '95m3/an', '95m3/an', '95m3/an', '95m3/an', '95m3/an', '95m3/an', '95m3/an', '95m3/an', '95m3/an', '95m3/an', '95m3/an', '95m3/an', '95m3/an', '95m3/an', '95m3/an', '95m3/an', '95m3/an', '95m3/an', '95m3/an', '95m3/an', '95m3/an', '95m3/an', '94m3/an', '94m3/an', '94m3/an', '94m3/an', '94m3/an', '94m3/an', '94m3/an', '94m3/an', '94m3/an', '94m3/an', '94m3/an', '94m3/an', '94m3/an', '94m3/an', '94m3/an', '94m3/an', '94m3/an', '94m3/an', '94m3/an', '94m3/an', '94m3/an', '94m3/an', '94m3/an', '94m3/an', '94m3/an', '94m3/an', '94m3/an', '94m3/an', '94m3/an', '94m3/an', '94m3/an', '94m3/an', '94m3/an', '94m3/an', '94m3/an', '94m3/an', '94m3/an', '94m3/an', '94m3/an', '94m3/an', '94m3/an', '94m3/an', '93m3/an', '93m3/an', '93m3/an', '93m3/an', '93m3/an', '93m3/an', '93m3/an', '93m3/an', '93m3/an', '93m3/an', '93m3/an', '93m3/an', '93m3/an', '93m3/an', '93m3/an', '93m3/an', '93m3/an', '93m3/an', '93m3/an', '93m3/an', '93m3/an', '93m3/an', '93m3/an', '93m3/an', '93m3/an', '93m3/an', '93m3/an', '93m3/an', '93m3/an', '93m3/an', '93m3/an', '93m3/an', '93m3/an', '93m3/an', '93m3/an', '93m3/an', '93m3/an', '93m3/an', '93m3/an', '93m3/an', '93m3/an', '93m3/an', '93m3/an', '93m3/an', '93m3/an', '93m3/an', '93m3/an', '93m3/an', '93m3/an', '93m3/an', '93m3/an', '93m3/an', '93m3/an', '92m3/an', '92m3/an', '92m3/an', '92m3/an', '92m3/an', '92m3/an', '92m3/an', '92m3/an', '92m3/an', '92m3/an', '92m3/an', '92m3/an', '92m3/an', '92m3/an', '92m3/an', '92m3/an', '92m3/an', '92m3/an', '92m3/an', '92m3/an', '92m3/an', '92m3/an', '92m3/an', '92m3/an', '92m3/an', '92m3/an', '92m3/an', '92m3/an', '92m3/an', '92m3/an', '92m3/an', '92m3/an', '92m3/an', '92m3/an', '92m3/an', '92m3/an', '92m3/an', '92m3/an', '92m3/an', '92m3/an', '92m3/an', '92m3/an', '92m3/an', '91m3/an', '91m3/an', '91m3/an', '91m3/an', '91m3/an', '91m3/an', '91m3/an', '91m3/an', '91m3/an', '91m3/an', '91m3/an', '91m3/an', '91m3/an', '91m3/an', '91m3/an', '91m3/an', '91m3/an', '91m3/an', '91m3/an', '91m3/an', '91m3/an', '91m3/an', '91m3/an', '91m3/an', '91m3/an', '91m3/an', '91m3/an', '91m3/an', '91m3/an', '91m3/an', '91m3/an', '91m3/an', '91m3/an', '91m3/an', '91m3/an', '91m3/an', '91m3/an', '91m3/an', '91m3/an', '91m3/an', '91m3/an', '91m3/an', '91m3/an', '91m3/an', '91m3/an', '91m3/an', '91m3/an', '91m3/an', '91m3/an', '91m3/an', '91m3/an', '91m3/an', '91m3/an', '91m3/an', '91m3/an', '91m3/an', '91m3/an', '91m3/an', '91m3/an', '91m3/an', '91m3/an', '91m3/an', '91m3/an', '91m3/an', '91m3/an', '91m3/an', '91m3/an', '91m3/an', '91m3/an', '91m3/an', '91m3/an', '91m3/an', '91m3/an', '91m3/an', '91m3/an', '91m3/an', '91m3/an', '91m3/an', '91m3/an', '91m3/an', '91m3/an', '91m3/an', '91m3/an', '91m3/an', '91m3/an', '91m3/an', '91m3/an', '91m3/an', '91m3/an', '91m3/an', '91m3/an', '91m3/an', '91m3/an', '91m3/an', '91m3/an', '91m3/an', '91m3/an', '91m3/an', '91m3/an', '91m3/an', '91m3/an', '91m3/an', '91m3/an', '91m3/an', '91m3/an', '91m3/an', '91m3/an', '91m3/an', '91m3/an', '91m3/an', '91m3/an', '91m3/an', '91m3/an', '91m3/an', '91m3/an', '91m3/an', '91m3/an', '91m3/an', '91m3/an', '90m3/an', '90m3/an', '90m3/an', '90m3/an', '90m3/an', '90m3/an', '90m3/an', '90m3/an', '90m3/an', '90m3/an', '90m3/an', '90m3/an', '90m3/an', '90m3/an', '90m3/an', '90m3/an', '90m3/an', '90m3/an', '90m3/an', '90m3/an', '90m3/an', '90m3/an', '90m3/an', '90m3/an', '90m3/an', '90m3/an', '90m3/an', '90m3/an', '90m3/an', '90m3/an', '90m3/an', '90m3/an', '90m3/an', '90m3/an', '90m3/an', '90m3/an', '90m3/an', '90m3/an', '90m3/an', '90m3/an', '90m3/an', '90m3/an', '90m3/an', '90m3/an', '90m3/an', '90m3/an', '90m3/an', '90m3/an', '90m3/an', '90m3/an', '90m3/an', '90m3/an', '90m3/an', '90m3/an', '90m3/an', '89m3/an', '89m3/an', '89m3/an', '89m3/an', '89m3/an', '89m3/an', '89m3/an', '89m3/an', '89m3/an', '89m3/an', '89m3/an', '89m3/an', '89m3/an', '89m3/an', '89m3/an', '89m3/an', '89m3/an', '89m3/an', '89m3/an', '89m3/an', '89m3/an', '89m3/an', '89m3/an', '89m3/an', '89m3/an', '89m3/an', '89m3/an', '89m3/an', '89m3/an', '88m3/an', '88m3/an', '88m3/an', '88m3/an', '88m3/an', '88m3/an', '88m3/an', '88m3/an', '88m3/an', '88m3/an', '88m3/an', '88m3/an', '88m3/an', '88m3/an', '88m3/an', '88m3/an', '88m3/an', '88m3/an', '88m3/an', '88m3/an', '88m3/an', '88m3/an', '88m3/an', '88m3/an', '88m3/an', '88m3/an', '88m3/an', '88m3/an', '88m3/an', '88m3/an', '88m3/an', '88m3/an', '87m3/an', '87m3/an', '87m3/an', '87m3/an', '87m3/an', '87m3/an', '87m3/an', '87m3/an', '87m3/an', '87m3/an', '87m3/an', '87m3/an', '87m3/an', '87m3/an', '87m3/an', '87m3/an', '87m3/an', '87m3/an', '87m3/an', '87m3/an', '87m3/an', '87m3/an', '87m3/an', '87m3/an', '87m3/an', '87m3/an', '87m3/an', '87m3/an', '87m3/an', '87m3/an', '87m3/an', '87m3/an', '87m3/an', '87m3/an', '87m3/an', '87m3/an', '87m3/an', '87m3/an', '87m3/an', '87m3/an', '87m3/an', '87m3/an', '87m3/an', '87m3/an', '87m3/an', '87m3/an', '87m3/an', '86m3/an', '86m3/an', '86m3/an', '86m3/an', '86m3/an', '86m3/an', '86m3/an', '86m3/an', '86m3/an', '86m3/an', '86m3/an', '86m3/an', '86m3/an', '86m3/an', '86m3/an', '86m3/an', '86m3/an', '86m3/an', '86m3/an', '86m3/an', '86m3/an', '86m3/an', '86m3/an', '86m3/an', '86m3/an', '86m3/an', '86m3/an', '86m3/an', '86m3/an', '86m3/an', '86m3/an', '86m3/an', '86m3/an', '86m3/an', '86m3/an', '86m3/an', '86m3/an', '86m3/an', '86m3/an', '86m3/an', '86m3/an', '86m3/an', '86m3/an', '86m3/an', '86m3/an', '86m3/an', '86m3/an', '86m3/an', '86m3/an', '86m3/an', '86m3/an', '86m3/an', '86m3/an', '86m3/an', '86m3/an', '86m3/an', '86m3/an', '86m3/an', '86m3/an', '86m3/an', '85m3/an', '85m3/an', '85m3/an', '85m3/an', '85m3/an', '85m3/an', '85m3/an', '85m3/an', '85m3/an', '85m3/an', '85m3/an', '85m3/an', '85m3/an', '85m3/an', '85m3/an', '85m3/an', '85m3/an', '85m3/an', '85m3/an', '85m3/an', '85m3/an', '85m3/an', '84m3/an', '84m3/an', '84m3/an', '84m3/an', '84m3/an', '84m3/an', '84m3/an', '84m3/an', '84m3/an', '84m3/an', '84m3/an', '84m3/an', '84m3/an', '84m3/an', '84m3/an', '84m3/an', '84m3/an', '84m3/an', '83m3/an', '83m3/an', '83m3/an', '83m3/an', '83m3/an', '83m3/an', '83m3/an', '83m3/an', '83m3/an', '83m3/an', '83m3/an', '83m3/an', '83m3/an', '83m3/an', '83m3/an', '83m3/an', '83m3/an', '83m3/an', '83m3/an', '83m3/an', '83m3/an', '83m3/an', '83m3/an', '83m3/an', '83m3/an', '83m3/an', '83m3/an', '82m3/an', '82m3/an', '82m3/an', '82m3/an', '82m3/an', '82m3/an', '82m3/an', '82m3/an', '82m3/an', '82m3/an', '82m3/an', '82m3/an', '82m3/an', '82m3/an', '82m3/an', '82m3/an', '82m3/an', '82m3/an', '82m3/an', '82m3/an', '82m3/an', '82m3/an', '82m3/an', '82m3/an', '82m3/an', '82m3/an', '82m3/an', '82m3/an', '82m3/an', '82m3/an', '82m3/an', '82m3/an', '82m3/an', '82m3/an', '82m3/an', '82m3/an', '82m3/an', '82m3/an', '82m3/an', '81m3/an', '81m3/an', '81m3/an', '81m3/an', '81m3/an', '81m3/an', '81m3/an', '81m3/an', '81m3/an', '81m3/an', '81m3/an', '81m3/an', '81m3/an', '81m3/an', '81m3/an', '81m3/an', '81m3/an', '81m3/an', '81m3/an', '81m3/an', '81m3/an', '81m3/an', '81m3/an', '81m3/an', '81m3/an', '81m3/an', '80m3/an', '80m3/an', '80m3/an', '80m3/an', '80m3/an', '80m3/an', '80m3/an', '80m3/an', '80m3/an', '80m3/an', '80m3/an', '80m3/an', '80m3/an', '80m3/an', '80m3/an', '80m3/an', '80m3/an', '80m3/an', '80m3/an', '80m3/an', '80m3/an', '80m3/an', '79m3/an', '79m3/an', '79m3/an', '79m3/an', '79m3/an', '79m3/an', '79m3/an', '79m3/an', '79m3/an', '79m3/an', '79m3/an', '79m3/an', '79m3/an', '79m3/an', '79m3/an', '79m3/an', '79m3/an', '79m3/an', '79m3/an', '79m3/an', '79m3/an', '79m3/an', '79m3/an', '79m3/an', '78m3/an', '78m3/an', '78m3/an', '78m3/an', '78m3/an', '78m3/an', '78m3/an', '78m3/an', '78m3/an', '78m3/an', '78m3/an', '78m3/an', '78m3/an', '78m3/an', '78m3/an', '78m3/an', '78m3/an', '78m3/an', '78m3/an', '78m3/an', '78m3/an', '78m3/an', '78m3/an', '77m3/an', '77m3/an', '77m3/an', '77m3/an', '77m3/an', '77m3/an', '77m3/an', '77m3/an', '77m3/an', '77m3/an', '77m3/an', '77m3/an', '77m3/an', '77m3/an', '77m3/an', '77m3/an', '77m3/an', '77m3/an', '77m3/an', '77m3/an', '77m3/an', '77m3/an', '77m3/an', '77m3/an', '77m3/an', '76m3/an', '76m3/an', '76m3/an', '76m3/an', '76m3/an', '76m3/an', '76m3/an', '76m3/an', '76m3/an', '76m3/an', '76m3/an', '76m3/an', '75m3/an', '75m3/an', '75m3/an', '75m3/an', '75m3/an', '75m3/an', '75m3/an', '75m3/an', '75m3/an', '75m3/an', '75m3/an', '75m3/an', '75m3/an', '75m3/an', '75m3/an', '75m3/an', '75m3/an', '75m3/an', '75m3/an', '75m3/an', '75m3/an', '75m3/an', '75m3/an', '75m3/an', '75m3/an', '75m3/an', '75m3/an', '75m3/an', '75m3/an', '75m3/an', '75m3/an', '75m3/an', '75m3/an', '75m3/an', '75m3/an', '75m3/an', '75m3/an', '75m3/an', '75m3/an', '75m3/an', '74m3/an', '74m3/an', '74m3/an', '74m3/an', '74m3/an', '74m3/an', '74m3/an', '74m3/an', '74m3/an', '74m3/an', '74m3/an', '74m3/an', '74m3/an', '74m3/an', '74m3/an', '74m3/an', '74m3/an', '74m3/an', '74m3/an', '74m3/an', '73m3/an', '73m3/an', '73m3/an', '73m3/an', '73m3/an', '73m3/an', '73m3/an', '73m3/an', '73m3/an', '73m3/an', '73m3/an', '73m3/an', '73m3/an', '73m3/an', '73m3/an', '73m3/an', '73m3/an', '73m3/an', '73m3/an', '73m3/an', '72m3/an', '72m3/an', '72m3/an', '72m3/an', '72m3/an', '72m3/an', '72m3/an', '72m3/an', '72m3/an', '71m3/an', '71m3/an', '71m3/an', '71m3/an', '71m3/an', '71m3/an', '71m3/an', '71m3/an', '71m3/an', '71m3/an', '71m3/an', '70m3/an', '70m3/an', '70m3/an', '70m3/an', '69m3/an', '69m3/an', '69m3/an', '69m3/an', '69m3/an', '69m3/an', '69m3/an', '69m3/an', '69m3/an', '69m3/an', '69m3/an', '69m3/an', '69m3/an', '69m3/an', '69m3/an', '68m3/an', '68m3/an', '68m3/an', '68m3/an', '68m3/an', '68m3/an', '68m3/an', '68m3/an', '68m3/an', '68m3/an', '68m3/an', '68m3/an', '68m3/an', '68m3/an', '68m3/an', '68m3/an', '68m3/an', '68m3/an', '68m3/an', '68m3/an', '68m3/an', '68m3/an', '68m3/an', '68m3/an', '68m3/an', '67m3/an', '67m3/an', '67m3/an', '67m3/an', '67m3/an', '67m3/an', '67m3/an', '67m3/an', '67m3/an', '67m3/an', '67m3/an', '67m3/an', '67m3/an', '67m3/an', '67m3/an', '67m3/an', '67m3/an', '67m3/an', '67m3/an', '67m3/an', '67m3/an', '67m3/an', '67m3/an', '67m3/an', '66m3/an', '66m3/an', '66m3/an', '65m3/an', '65m3/an', '65m3/an', '65m3/an', '65m3/an', '65m3/an', '65m3/an', '65m3/an', '65m3/an', '64m3/an', '64m3/an', '64m3/an', '64m3/an', '64m3/an', '64m3/an', '64m3/an', '64m3/an', '64m3/an', '64m3/an', '64m3/an', '64m3/an', '63m3/an', '63m3/an', '63m3/an', '63m3/an', '63m3/an', '62m3/an', '62m3/an', '62m3/an', '62m3/an', '61m3/an', '61m3/an', '61m3/an', '61m3/an', '61m3/an', '60m3/an', '60m3/an', '59m3/an', '59m3/an', '59m3/an', '59m3/an', '59m3/an', '59m3/an', '59m3/an', '59m3/an', '58m3/an', '58m3/an', '57m3/an', '56m3/an', '55m3/an', '55m3/an', '54m3/an', '54m3/an', '54m3/an', '54m3/an', '53m3/an', '53m3/an', '52m3/an', '52m3/an', '52m3/an', '52m3/an', '51m3/an', '50m3/an', '50m3/an', '50m3/an', '50m3/an', '49m3/an', '47m3/an', '47m3/an', '47m3/an', '46m3/an', '45m3/an', '44m3/an', '43m3/an', '42m3/an', '40m3/an', '40m3/an']\n"
          ]
        }
      ]
    },
    {
      "cell_type": "code",
      "source": [
        "#url2\n",
        "#Initialiser deux listes vides pour stocker les éléments scrapés (Départements, Hauteur des précipitations)\n",
        "\n",
        "ls_height = []\n",
        "ls_departement = []\n",
        "\n",
        "for link in getallpages(url2):\n",
        "    \n",
        "    new_response = requests.get(link)\n",
        "    new_soup = BeautifulSoup(new_response.text, \"html.parser\")\n",
        "\n",
        "    #Accéder à la balise où se trouve les villes et leurs consommations\n",
        "    container = new_soup.find('table', class_=\"odTable \").tbody\n",
        "    container = container.find_all('tr')\n",
        "\n",
        "    #Récupérer les villes et leurs consommations par an\n",
        "    for i in range (len(container)):\n",
        "\n",
        "      #Accéder aux balises html spécifiques pour scraper les départements et les hauteurs de précipitations\n",
        "      departement = container[i].find_all(\"td\")[1].a.text\n",
        "      height = container[i].find_all(\"td\")[2].text.replace(u'\\xa0', u' ')\n",
        "\n",
        "      #Rajout dans les listes préalablement initialisées\n",
        "      ls_departement.append(departement)\n",
        "      ls_height.append(height)\n",
        "\n",
        "\n",
        "#Afficher nos listes\n",
        "print(ls_departement)\n",
        "print(ls_height)"
      ],
      "metadata": {
        "colab": {
          "base_uri": "https://localhost:8080/"
        },
        "id": "6FHr-HuTBQOM",
        "outputId": "2ac3a1ba-d630-4d33-a988-5c4582b46324"
      },
      "execution_count": 39,
      "outputs": [
        {
          "output_type": "stream",
          "name": "stdout",
          "text": [
            "['Pyrénées-Atlantiques', 'Finistère', 'Hautes-Pyrénées', 'Landes', 'Tarn-et-Garonne', 'Haute-Vienne', 'Ariège', 'Manche', \"Côtes-d'Armor\", 'Cantal', 'Savoie', 'Jura', 'Cher', 'Haute-Marne', 'Doubs', 'Isère', 'Loire-Atlantique', 'Creuse', 'Morbihan', 'Gironde', 'Ain', 'Territoire de Belfort', 'Haute-Savoie', 'Dordogne', 'Haute-Garonne', 'Haute-Saône', 'Vosges', 'Corrèze', 'Ardennes', 'Vendée', 'Lozère', 'Ardèche', 'Gers', 'Deux-Sèvres', 'Lot', 'Charente-Maritime', 'Charente', 'Aveyron', 'Tarn', 'Calvados', 'Pas-de-Calais', 'Ille-et-Vilaine', 'Seine-Maritime', 'Maine-et-Loire', 'Lot-et-Garonne', 'Hautes-Alpes', 'Aude', 'Saône-et-Loire', 'Meuse', 'Gard', 'Mayenne', 'Haute-Corse', 'Somme', 'Meurthe-et-Moselle', 'Drôme', 'Alpes-Maritimes', 'Orne', 'Pyrénées-Orientales', 'Nord', \"Côte-d'Or\", 'Indre', 'Rhône', 'Moselle', 'Sarthe', 'Eure', 'Paris', 'Corse-du-Sud', 'Vienne', 'Val-de-Marne', 'Allier', 'Indre-et-Loire', 'Haute-Loire', 'Nièvre', 'Seine-et-Marne', 'Alpes-de-Haute-Provence', 'Aube', 'Hauts-de-Seine', 'Aisne', 'Marne', 'Essonne', 'Loire', 'Haut-Rhin', 'Oise', 'Seine-Saint-Denis', 'Hérault', 'Loir-et-Cher', 'Yvelines', \"Val-d'Oise\", 'Loiret', 'Yonne', 'Eure-et-Loir', 'Puy-de-Dôme', 'Bas-Rhin', 'Var', 'Vaucluse', 'Bouches-du-Rhône']\n",
            "['1 334 mm', '1 270 mm', '1 149 mm', '1 123 mm', '1 102 mm', '1 046 mm', '1 005 mm', '1 002 mm', '967 mm', '964 mm', '952 mm', '951 mm', '940 mm', '926 mm', '918 mm', '912 mm', '895 mm', '886 mm', '885 mm', '878 mm', '877 mm', '876 mm', '862 mm', '860 mm', '859 mm', '849 mm', '845 mm', '839 mm', '837 mm', '833 mm', '827 mm', '808 mm', '806 mm', '805 mm', '799 mm', '785 mm', '782 mm', '781 mm', '779 mm', '774 mm', '772 mm', '771 mm', '769 mm', '753 mm', '751 mm', '747 mm', '744 mm', '743 mm', '732 mm', '731 mm', '723 mm', '723 mm', '718 mm', '717 mm', '717 mm', '707 mm', '705 mm', '687 mm', '681 mm', '678 mm', '668 mm', '660 mm', '659 mm', '650 mm', '644 mm', '644 mm', '643 mm', '641 mm', '636 mm', '635 mm', '631 mm', '619 mm', '619 mm', '615 mm', '611 mm', '611 mm', '610 mm', '609 mm', '605 mm', '605 mm', '576 mm', '564 mm', '558 mm', '558 mm', '557 mm', '555 mm', '554 mm', '553 mm', '546 mm', '524 mm', '518 mm', '511 mm', '506 mm', '499 mm', '484 mm', '474 mm']\n"
          ]
        }
      ]
    },
    {
      "cell_type": "markdown",
      "source": [
        "# Création de DataFrames contenant nos variables (Villes, Consommations, Départements, Hauteur de précipitations) : "
      ],
      "metadata": {
        "id": "-CAwYL1OXQql"
      }
    },
    {
      "cell_type": "code",
      "source": [
        "#Création d'un DataFrame data1\n",
        "data1 = pd.DataFrame({'Villes':ls_cities, 'Consommation_m3/an': ls_conso_per_year})\n",
        "data1"
      ],
      "metadata": {
        "colab": {
          "base_uri": "https://localhost:8080/",
          "height": 419
        },
        "id": "y8_pqRFbTTqX",
        "outputId": "ff4da0cd-3820-48e2-c805-29e92c1aa531"
      },
      "execution_count": 79,
      "outputs": [
        {
          "output_type": "execute_result",
          "data": {
            "text/plain": [
              "                   Villes Consommation_m3/an\n",
              "0                   Malzy           246m3/an\n",
              "1     Neurey-lès-la-Demie           243m3/an\n",
              "2                  Troyes           243m3/an\n",
              "3             Cricquebœuf           243m3/an\n",
              "4     Brunstatt-Didenheim           242m3/an\n",
              "...                   ...                ...\n",
              "3956             Valjouze            44m3/an\n",
              "3957           Argentenay            43m3/an\n",
              "3958        Gourdon-Murat            42m3/an\n",
              "3959               Vialas            40m3/an\n",
              "3960              Molezon            40m3/an\n",
              "\n",
              "[3961 rows x 2 columns]"
            ],
            "text/html": [
              "\n",
              "  <div id=\"df-81096c22-62ed-450a-be0e-ad1fe876af2e\">\n",
              "    <div class=\"colab-df-container\">\n",
              "      <div>\n",
              "<style scoped>\n",
              "    .dataframe tbody tr th:only-of-type {\n",
              "        vertical-align: middle;\n",
              "    }\n",
              "\n",
              "    .dataframe tbody tr th {\n",
              "        vertical-align: top;\n",
              "    }\n",
              "\n",
              "    .dataframe thead th {\n",
              "        text-align: right;\n",
              "    }\n",
              "</style>\n",
              "<table border=\"1\" class=\"dataframe\">\n",
              "  <thead>\n",
              "    <tr style=\"text-align: right;\">\n",
              "      <th></th>\n",
              "      <th>Villes</th>\n",
              "      <th>Consommation_m3/an</th>\n",
              "    </tr>\n",
              "  </thead>\n",
              "  <tbody>\n",
              "    <tr>\n",
              "      <th>0</th>\n",
              "      <td>Malzy</td>\n",
              "      <td>246m3/an</td>\n",
              "    </tr>\n",
              "    <tr>\n",
              "      <th>1</th>\n",
              "      <td>Neurey-lès-la-Demie</td>\n",
              "      <td>243m3/an</td>\n",
              "    </tr>\n",
              "    <tr>\n",
              "      <th>2</th>\n",
              "      <td>Troyes</td>\n",
              "      <td>243m3/an</td>\n",
              "    </tr>\n",
              "    <tr>\n",
              "      <th>3</th>\n",
              "      <td>Cricquebœuf</td>\n",
              "      <td>243m3/an</td>\n",
              "    </tr>\n",
              "    <tr>\n",
              "      <th>4</th>\n",
              "      <td>Brunstatt-Didenheim</td>\n",
              "      <td>242m3/an</td>\n",
              "    </tr>\n",
              "    <tr>\n",
              "      <th>...</th>\n",
              "      <td>...</td>\n",
              "      <td>...</td>\n",
              "    </tr>\n",
              "    <tr>\n",
              "      <th>3956</th>\n",
              "      <td>Valjouze</td>\n",
              "      <td>44m3/an</td>\n",
              "    </tr>\n",
              "    <tr>\n",
              "      <th>3957</th>\n",
              "      <td>Argentenay</td>\n",
              "      <td>43m3/an</td>\n",
              "    </tr>\n",
              "    <tr>\n",
              "      <th>3958</th>\n",
              "      <td>Gourdon-Murat</td>\n",
              "      <td>42m3/an</td>\n",
              "    </tr>\n",
              "    <tr>\n",
              "      <th>3959</th>\n",
              "      <td>Vialas</td>\n",
              "      <td>40m3/an</td>\n",
              "    </tr>\n",
              "    <tr>\n",
              "      <th>3960</th>\n",
              "      <td>Molezon</td>\n",
              "      <td>40m3/an</td>\n",
              "    </tr>\n",
              "  </tbody>\n",
              "</table>\n",
              "<p>3961 rows × 2 columns</p>\n",
              "</div>\n",
              "      <button class=\"colab-df-convert\" onclick=\"convertToInteractive('df-81096c22-62ed-450a-be0e-ad1fe876af2e')\"\n",
              "              title=\"Convert this dataframe to an interactive table.\"\n",
              "              style=\"display:none;\">\n",
              "        \n",
              "  <svg xmlns=\"http://www.w3.org/2000/svg\" height=\"24px\"viewBox=\"0 0 24 24\"\n",
              "       width=\"24px\">\n",
              "    <path d=\"M0 0h24v24H0V0z\" fill=\"none\"/>\n",
              "    <path d=\"M18.56 5.44l.94 2.06.94-2.06 2.06-.94-2.06-.94-.94-2.06-.94 2.06-2.06.94zm-11 1L8.5 8.5l.94-2.06 2.06-.94-2.06-.94L8.5 2.5l-.94 2.06-2.06.94zm10 10l.94 2.06.94-2.06 2.06-.94-2.06-.94-.94-2.06-.94 2.06-2.06.94z\"/><path d=\"M17.41 7.96l-1.37-1.37c-.4-.4-.92-.59-1.43-.59-.52 0-1.04.2-1.43.59L10.3 9.45l-7.72 7.72c-.78.78-.78 2.05 0 2.83L4 21.41c.39.39.9.59 1.41.59.51 0 1.02-.2 1.41-.59l7.78-7.78 2.81-2.81c.8-.78.8-2.07 0-2.86zM5.41 20L4 18.59l7.72-7.72 1.47 1.35L5.41 20z\"/>\n",
              "  </svg>\n",
              "      </button>\n",
              "      \n",
              "  <style>\n",
              "    .colab-df-container {\n",
              "      display:flex;\n",
              "      flex-wrap:wrap;\n",
              "      gap: 12px;\n",
              "    }\n",
              "\n",
              "    .colab-df-convert {\n",
              "      background-color: #E8F0FE;\n",
              "      border: none;\n",
              "      border-radius: 50%;\n",
              "      cursor: pointer;\n",
              "      display: none;\n",
              "      fill: #1967D2;\n",
              "      height: 32px;\n",
              "      padding: 0 0 0 0;\n",
              "      width: 32px;\n",
              "    }\n",
              "\n",
              "    .colab-df-convert:hover {\n",
              "      background-color: #E2EBFA;\n",
              "      box-shadow: 0px 1px 2px rgba(60, 64, 67, 0.3), 0px 1px 3px 1px rgba(60, 64, 67, 0.15);\n",
              "      fill: #174EA6;\n",
              "    }\n",
              "\n",
              "    [theme=dark] .colab-df-convert {\n",
              "      background-color: #3B4455;\n",
              "      fill: #D2E3FC;\n",
              "    }\n",
              "\n",
              "    [theme=dark] .colab-df-convert:hover {\n",
              "      background-color: #434B5C;\n",
              "      box-shadow: 0px 1px 3px 1px rgba(0, 0, 0, 0.15);\n",
              "      filter: drop-shadow(0px 1px 2px rgba(0, 0, 0, 0.3));\n",
              "      fill: #FFFFFF;\n",
              "    }\n",
              "  </style>\n",
              "\n",
              "      <script>\n",
              "        const buttonEl =\n",
              "          document.querySelector('#df-81096c22-62ed-450a-be0e-ad1fe876af2e button.colab-df-convert');\n",
              "        buttonEl.style.display =\n",
              "          google.colab.kernel.accessAllowed ? 'block' : 'none';\n",
              "\n",
              "        async function convertToInteractive(key) {\n",
              "          const element = document.querySelector('#df-81096c22-62ed-450a-be0e-ad1fe876af2e');\n",
              "          const dataTable =\n",
              "            await google.colab.kernel.invokeFunction('convertToInteractive',\n",
              "                                                     [key], {});\n",
              "          if (!dataTable) return;\n",
              "\n",
              "          const docLinkHtml = 'Like what you see? Visit the ' +\n",
              "            '<a target=\"_blank\" href=https://colab.research.google.com/notebooks/data_table.ipynb>data table notebook</a>'\n",
              "            + ' to learn more about interactive tables.';\n",
              "          element.innerHTML = '';\n",
              "          dataTable['output_type'] = 'display_data';\n",
              "          await google.colab.output.renderOutput(dataTable, element);\n",
              "          const docLink = document.createElement('div');\n",
              "          docLink.innerHTML = docLinkHtml;\n",
              "          element.appendChild(docLink);\n",
              "        }\n",
              "      </script>\n",
              "    </div>\n",
              "  </div>\n",
              "  "
            ]
          },
          "metadata": {},
          "execution_count": 79
        }
      ]
    },
    {
      "cell_type": "code",
      "source": [
        "##Nettoyage du DataFrame data1\n",
        "for elt in data1['Consommation_m3/an']:\n",
        "  data1['Consommation_m3/an'] = elt.replace('m3/an', '')\n",
        "\n",
        "data1['Consommation_m3/an'] = data1['Consommation_m3/an'].astype(int)\n",
        "data1.head(10)"
      ],
      "metadata": {
        "colab": {
          "base_uri": "https://localhost:8080/",
          "height": 359
        },
        "id": "qhBzNroMJd6-",
        "outputId": "ccda9944-61fd-498e-f170-fbc924b166c8"
      },
      "execution_count": 83,
      "outputs": [
        {
          "output_type": "execute_result",
          "data": {
            "text/plain": [
              "                Villes  Consommation_m3/an\n",
              "0                Malzy                 246\n",
              "1  Neurey-lès-la-Demie                 246\n",
              "2               Troyes                 246\n",
              "3          Cricquebœuf                 246\n",
              "4  Brunstatt-Didenheim                 246\n",
              "5       Eschentzwiller                 246\n",
              "6             Habsheim                 246\n",
              "7              Illzach                 246\n",
              "8           Lutterbach                 246\n",
              "9  Morschwiller-le-Bas                 246"
            ],
            "text/html": [
              "\n",
              "  <div id=\"df-d04c85de-03fd-4caa-ad7f-483124d7e621\">\n",
              "    <div class=\"colab-df-container\">\n",
              "      <div>\n",
              "<style scoped>\n",
              "    .dataframe tbody tr th:only-of-type {\n",
              "        vertical-align: middle;\n",
              "    }\n",
              "\n",
              "    .dataframe tbody tr th {\n",
              "        vertical-align: top;\n",
              "    }\n",
              "\n",
              "    .dataframe thead th {\n",
              "        text-align: right;\n",
              "    }\n",
              "</style>\n",
              "<table border=\"1\" class=\"dataframe\">\n",
              "  <thead>\n",
              "    <tr style=\"text-align: right;\">\n",
              "      <th></th>\n",
              "      <th>Villes</th>\n",
              "      <th>Consommation_m3/an</th>\n",
              "    </tr>\n",
              "  </thead>\n",
              "  <tbody>\n",
              "    <tr>\n",
              "      <th>0</th>\n",
              "      <td>Malzy</td>\n",
              "      <td>246</td>\n",
              "    </tr>\n",
              "    <tr>\n",
              "      <th>1</th>\n",
              "      <td>Neurey-lès-la-Demie</td>\n",
              "      <td>246</td>\n",
              "    </tr>\n",
              "    <tr>\n",
              "      <th>2</th>\n",
              "      <td>Troyes</td>\n",
              "      <td>246</td>\n",
              "    </tr>\n",
              "    <tr>\n",
              "      <th>3</th>\n",
              "      <td>Cricquebœuf</td>\n",
              "      <td>246</td>\n",
              "    </tr>\n",
              "    <tr>\n",
              "      <th>4</th>\n",
              "      <td>Brunstatt-Didenheim</td>\n",
              "      <td>246</td>\n",
              "    </tr>\n",
              "    <tr>\n",
              "      <th>5</th>\n",
              "      <td>Eschentzwiller</td>\n",
              "      <td>246</td>\n",
              "    </tr>\n",
              "    <tr>\n",
              "      <th>6</th>\n",
              "      <td>Habsheim</td>\n",
              "      <td>246</td>\n",
              "    </tr>\n",
              "    <tr>\n",
              "      <th>7</th>\n",
              "      <td>Illzach</td>\n",
              "      <td>246</td>\n",
              "    </tr>\n",
              "    <tr>\n",
              "      <th>8</th>\n",
              "      <td>Lutterbach</td>\n",
              "      <td>246</td>\n",
              "    </tr>\n",
              "    <tr>\n",
              "      <th>9</th>\n",
              "      <td>Morschwiller-le-Bas</td>\n",
              "      <td>246</td>\n",
              "    </tr>\n",
              "  </tbody>\n",
              "</table>\n",
              "</div>\n",
              "      <button class=\"colab-df-convert\" onclick=\"convertToInteractive('df-d04c85de-03fd-4caa-ad7f-483124d7e621')\"\n",
              "              title=\"Convert this dataframe to an interactive table.\"\n",
              "              style=\"display:none;\">\n",
              "        \n",
              "  <svg xmlns=\"http://www.w3.org/2000/svg\" height=\"24px\"viewBox=\"0 0 24 24\"\n",
              "       width=\"24px\">\n",
              "    <path d=\"M0 0h24v24H0V0z\" fill=\"none\"/>\n",
              "    <path d=\"M18.56 5.44l.94 2.06.94-2.06 2.06-.94-2.06-.94-.94-2.06-.94 2.06-2.06.94zm-11 1L8.5 8.5l.94-2.06 2.06-.94-2.06-.94L8.5 2.5l-.94 2.06-2.06.94zm10 10l.94 2.06.94-2.06 2.06-.94-2.06-.94-.94-2.06-.94 2.06-2.06.94z\"/><path d=\"M17.41 7.96l-1.37-1.37c-.4-.4-.92-.59-1.43-.59-.52 0-1.04.2-1.43.59L10.3 9.45l-7.72 7.72c-.78.78-.78 2.05 0 2.83L4 21.41c.39.39.9.59 1.41.59.51 0 1.02-.2 1.41-.59l7.78-7.78 2.81-2.81c.8-.78.8-2.07 0-2.86zM5.41 20L4 18.59l7.72-7.72 1.47 1.35L5.41 20z\"/>\n",
              "  </svg>\n",
              "      </button>\n",
              "      \n",
              "  <style>\n",
              "    .colab-df-container {\n",
              "      display:flex;\n",
              "      flex-wrap:wrap;\n",
              "      gap: 12px;\n",
              "    }\n",
              "\n",
              "    .colab-df-convert {\n",
              "      background-color: #E8F0FE;\n",
              "      border: none;\n",
              "      border-radius: 50%;\n",
              "      cursor: pointer;\n",
              "      display: none;\n",
              "      fill: #1967D2;\n",
              "      height: 32px;\n",
              "      padding: 0 0 0 0;\n",
              "      width: 32px;\n",
              "    }\n",
              "\n",
              "    .colab-df-convert:hover {\n",
              "      background-color: #E2EBFA;\n",
              "      box-shadow: 0px 1px 2px rgba(60, 64, 67, 0.3), 0px 1px 3px 1px rgba(60, 64, 67, 0.15);\n",
              "      fill: #174EA6;\n",
              "    }\n",
              "\n",
              "    [theme=dark] .colab-df-convert {\n",
              "      background-color: #3B4455;\n",
              "      fill: #D2E3FC;\n",
              "    }\n",
              "\n",
              "    [theme=dark] .colab-df-convert:hover {\n",
              "      background-color: #434B5C;\n",
              "      box-shadow: 0px 1px 3px 1px rgba(0, 0, 0, 0.15);\n",
              "      filter: drop-shadow(0px 1px 2px rgba(0, 0, 0, 0.3));\n",
              "      fill: #FFFFFF;\n",
              "    }\n",
              "  </style>\n",
              "\n",
              "      <script>\n",
              "        const buttonEl =\n",
              "          document.querySelector('#df-d04c85de-03fd-4caa-ad7f-483124d7e621 button.colab-df-convert');\n",
              "        buttonEl.style.display =\n",
              "          google.colab.kernel.accessAllowed ? 'block' : 'none';\n",
              "\n",
              "        async function convertToInteractive(key) {\n",
              "          const element = document.querySelector('#df-d04c85de-03fd-4caa-ad7f-483124d7e621');\n",
              "          const dataTable =\n",
              "            await google.colab.kernel.invokeFunction('convertToInteractive',\n",
              "                                                     [key], {});\n",
              "          if (!dataTable) return;\n",
              "\n",
              "          const docLinkHtml = 'Like what you see? Visit the ' +\n",
              "            '<a target=\"_blank\" href=https://colab.research.google.com/notebooks/data_table.ipynb>data table notebook</a>'\n",
              "            + ' to learn more about interactive tables.';\n",
              "          element.innerHTML = '';\n",
              "          dataTable['output_type'] = 'display_data';\n",
              "          await google.colab.output.renderOutput(dataTable, element);\n",
              "          const docLink = document.createElement('div');\n",
              "          docLink.innerHTML = docLinkHtml;\n",
              "          element.appendChild(docLink);\n",
              "        }\n",
              "      </script>\n",
              "    </div>\n",
              "  </div>\n",
              "  "
            ]
          },
          "metadata": {},
          "execution_count": 83
        }
      ]
    },
    {
      "cell_type": "code",
      "source": [
        "data1.info()"
      ],
      "metadata": {
        "colab": {
          "base_uri": "https://localhost:8080/"
        },
        "id": "1PZ0tElBKDfG",
        "outputId": "ce71acd4-3f53-455e-8391-02852b86bb6c"
      },
      "execution_count": 84,
      "outputs": [
        {
          "output_type": "stream",
          "name": "stdout",
          "text": [
            "<class 'pandas.core.frame.DataFrame'>\n",
            "RangeIndex: 3961 entries, 0 to 3960\n",
            "Data columns (total 2 columns):\n",
            " #   Column              Non-Null Count  Dtype \n",
            "---  ------              --------------  ----- \n",
            " 0   Villes              3961 non-null   object\n",
            " 1   Consommation_m3/an  3961 non-null   int64 \n",
            "dtypes: int64(1), object(1)\n",
            "memory usage: 62.0+ KB\n"
          ]
        }
      ]
    },
    {
      "cell_type": "code",
      "source": [
        "#Création d'un DataFrame data2\n",
        "data2 = pd.DataFrame({'Departements' : ls_departement, 'Precipitations_mm' : ls_height})\n",
        "data2"
      ],
      "metadata": {
        "colab": {
          "base_uri": "https://localhost:8080/",
          "height": 419
        },
        "id": "lxIP-jsdDDWl",
        "outputId": "62795b93-6120-49b9-9a7a-b2360f3ab44c"
      },
      "execution_count": 71,
      "outputs": [
        {
          "output_type": "execute_result",
          "data": {
            "text/plain": [
              "            Departements Precipitations_mm\n",
              "0   Pyrénées-Atlantiques          1 334 mm\n",
              "1              Finistère          1 270 mm\n",
              "2        Hautes-Pyrénées          1 149 mm\n",
              "3                 Landes          1 123 mm\n",
              "4        Tarn-et-Garonne          1 102 mm\n",
              "..                   ...               ...\n",
              "91           Puy-de-Dôme            511 mm\n",
              "92              Bas-Rhin            506 mm\n",
              "93                   Var            499 mm\n",
              "94              Vaucluse            484 mm\n",
              "95      Bouches-du-Rhône            474 mm\n",
              "\n",
              "[96 rows x 2 columns]"
            ],
            "text/html": [
              "\n",
              "  <div id=\"df-f6f585c4-69b7-4949-ba16-34d9437e86f6\">\n",
              "    <div class=\"colab-df-container\">\n",
              "      <div>\n",
              "<style scoped>\n",
              "    .dataframe tbody tr th:only-of-type {\n",
              "        vertical-align: middle;\n",
              "    }\n",
              "\n",
              "    .dataframe tbody tr th {\n",
              "        vertical-align: top;\n",
              "    }\n",
              "\n",
              "    .dataframe thead th {\n",
              "        text-align: right;\n",
              "    }\n",
              "</style>\n",
              "<table border=\"1\" class=\"dataframe\">\n",
              "  <thead>\n",
              "    <tr style=\"text-align: right;\">\n",
              "      <th></th>\n",
              "      <th>Departements</th>\n",
              "      <th>Precipitations_mm</th>\n",
              "    </tr>\n",
              "  </thead>\n",
              "  <tbody>\n",
              "    <tr>\n",
              "      <th>0</th>\n",
              "      <td>Pyrénées-Atlantiques</td>\n",
              "      <td>1 334 mm</td>\n",
              "    </tr>\n",
              "    <tr>\n",
              "      <th>1</th>\n",
              "      <td>Finistère</td>\n",
              "      <td>1 270 mm</td>\n",
              "    </tr>\n",
              "    <tr>\n",
              "      <th>2</th>\n",
              "      <td>Hautes-Pyrénées</td>\n",
              "      <td>1 149 mm</td>\n",
              "    </tr>\n",
              "    <tr>\n",
              "      <th>3</th>\n",
              "      <td>Landes</td>\n",
              "      <td>1 123 mm</td>\n",
              "    </tr>\n",
              "    <tr>\n",
              "      <th>4</th>\n",
              "      <td>Tarn-et-Garonne</td>\n",
              "      <td>1 102 mm</td>\n",
              "    </tr>\n",
              "    <tr>\n",
              "      <th>...</th>\n",
              "      <td>...</td>\n",
              "      <td>...</td>\n",
              "    </tr>\n",
              "    <tr>\n",
              "      <th>91</th>\n",
              "      <td>Puy-de-Dôme</td>\n",
              "      <td>511 mm</td>\n",
              "    </tr>\n",
              "    <tr>\n",
              "      <th>92</th>\n",
              "      <td>Bas-Rhin</td>\n",
              "      <td>506 mm</td>\n",
              "    </tr>\n",
              "    <tr>\n",
              "      <th>93</th>\n",
              "      <td>Var</td>\n",
              "      <td>499 mm</td>\n",
              "    </tr>\n",
              "    <tr>\n",
              "      <th>94</th>\n",
              "      <td>Vaucluse</td>\n",
              "      <td>484 mm</td>\n",
              "    </tr>\n",
              "    <tr>\n",
              "      <th>95</th>\n",
              "      <td>Bouches-du-Rhône</td>\n",
              "      <td>474 mm</td>\n",
              "    </tr>\n",
              "  </tbody>\n",
              "</table>\n",
              "<p>96 rows × 2 columns</p>\n",
              "</div>\n",
              "      <button class=\"colab-df-convert\" onclick=\"convertToInteractive('df-f6f585c4-69b7-4949-ba16-34d9437e86f6')\"\n",
              "              title=\"Convert this dataframe to an interactive table.\"\n",
              "              style=\"display:none;\">\n",
              "        \n",
              "  <svg xmlns=\"http://www.w3.org/2000/svg\" height=\"24px\"viewBox=\"0 0 24 24\"\n",
              "       width=\"24px\">\n",
              "    <path d=\"M0 0h24v24H0V0z\" fill=\"none\"/>\n",
              "    <path d=\"M18.56 5.44l.94 2.06.94-2.06 2.06-.94-2.06-.94-.94-2.06-.94 2.06-2.06.94zm-11 1L8.5 8.5l.94-2.06 2.06-.94-2.06-.94L8.5 2.5l-.94 2.06-2.06.94zm10 10l.94 2.06.94-2.06 2.06-.94-2.06-.94-.94-2.06-.94 2.06-2.06.94z\"/><path d=\"M17.41 7.96l-1.37-1.37c-.4-.4-.92-.59-1.43-.59-.52 0-1.04.2-1.43.59L10.3 9.45l-7.72 7.72c-.78.78-.78 2.05 0 2.83L4 21.41c.39.39.9.59 1.41.59.51 0 1.02-.2 1.41-.59l7.78-7.78 2.81-2.81c.8-.78.8-2.07 0-2.86zM5.41 20L4 18.59l7.72-7.72 1.47 1.35L5.41 20z\"/>\n",
              "  </svg>\n",
              "      </button>\n",
              "      \n",
              "  <style>\n",
              "    .colab-df-container {\n",
              "      display:flex;\n",
              "      flex-wrap:wrap;\n",
              "      gap: 12px;\n",
              "    }\n",
              "\n",
              "    .colab-df-convert {\n",
              "      background-color: #E8F0FE;\n",
              "      border: none;\n",
              "      border-radius: 50%;\n",
              "      cursor: pointer;\n",
              "      display: none;\n",
              "      fill: #1967D2;\n",
              "      height: 32px;\n",
              "      padding: 0 0 0 0;\n",
              "      width: 32px;\n",
              "    }\n",
              "\n",
              "    .colab-df-convert:hover {\n",
              "      background-color: #E2EBFA;\n",
              "      box-shadow: 0px 1px 2px rgba(60, 64, 67, 0.3), 0px 1px 3px 1px rgba(60, 64, 67, 0.15);\n",
              "      fill: #174EA6;\n",
              "    }\n",
              "\n",
              "    [theme=dark] .colab-df-convert {\n",
              "      background-color: #3B4455;\n",
              "      fill: #D2E3FC;\n",
              "    }\n",
              "\n",
              "    [theme=dark] .colab-df-convert:hover {\n",
              "      background-color: #434B5C;\n",
              "      box-shadow: 0px 1px 3px 1px rgba(0, 0, 0, 0.15);\n",
              "      filter: drop-shadow(0px 1px 2px rgba(0, 0, 0, 0.3));\n",
              "      fill: #FFFFFF;\n",
              "    }\n",
              "  </style>\n",
              "\n",
              "      <script>\n",
              "        const buttonEl =\n",
              "          document.querySelector('#df-f6f585c4-69b7-4949-ba16-34d9437e86f6 button.colab-df-convert');\n",
              "        buttonEl.style.display =\n",
              "          google.colab.kernel.accessAllowed ? 'block' : 'none';\n",
              "\n",
              "        async function convertToInteractive(key) {\n",
              "          const element = document.querySelector('#df-f6f585c4-69b7-4949-ba16-34d9437e86f6');\n",
              "          const dataTable =\n",
              "            await google.colab.kernel.invokeFunction('convertToInteractive',\n",
              "                                                     [key], {});\n",
              "          if (!dataTable) return;\n",
              "\n",
              "          const docLinkHtml = 'Like what you see? Visit the ' +\n",
              "            '<a target=\"_blank\" href=https://colab.research.google.com/notebooks/data_table.ipynb>data table notebook</a>'\n",
              "            + ' to learn more about interactive tables.';\n",
              "          element.innerHTML = '';\n",
              "          dataTable['output_type'] = 'display_data';\n",
              "          await google.colab.output.renderOutput(dataTable, element);\n",
              "          const docLink = document.createElement('div');\n",
              "          docLink.innerHTML = docLinkHtml;\n",
              "          element.appendChild(docLink);\n",
              "        }\n",
              "      </script>\n",
              "    </div>\n",
              "  </div>\n",
              "  "
            ]
          },
          "metadata": {},
          "execution_count": 71
        }
      ]
    },
    {
      "cell_type": "code",
      "source": [
        "##Nettoyage du DataFrame data2\n",
        "for elt in data2['Precipitations_mm']:\n",
        "  data2['Precipitations_mm'] = elt.replace(' ','').replace('mm', '')\n",
        "\n",
        "data2['Precipitations_mm'] = data2['Precipitations_mm'].astype(int)\n",
        "data2.head(10)"
      ],
      "metadata": {
        "colab": {
          "base_uri": "https://localhost:8080/",
          "height": 359
        },
        "id": "D_uNjdYkFYNX",
        "outputId": "bd3845f1-af29-4d92-92ba-ed3fbef0cbfc"
      },
      "execution_count": 77,
      "outputs": [
        {
          "output_type": "execute_result",
          "data": {
            "text/plain": [
              "           Departements  Precipitations_mm\n",
              "0  Pyrénées-Atlantiques               1334\n",
              "1             Finistère               1334\n",
              "2       Hautes-Pyrénées               1334\n",
              "3                Landes               1334\n",
              "4       Tarn-et-Garonne               1334\n",
              "5          Haute-Vienne               1334\n",
              "6                Ariège               1334\n",
              "7                Manche               1334\n",
              "8         Côtes-d'Armor               1334\n",
              "9                Cantal               1334"
            ],
            "text/html": [
              "\n",
              "  <div id=\"df-9097ec6a-6bda-4bee-b155-d8a6c7dad22b\">\n",
              "    <div class=\"colab-df-container\">\n",
              "      <div>\n",
              "<style scoped>\n",
              "    .dataframe tbody tr th:only-of-type {\n",
              "        vertical-align: middle;\n",
              "    }\n",
              "\n",
              "    .dataframe tbody tr th {\n",
              "        vertical-align: top;\n",
              "    }\n",
              "\n",
              "    .dataframe thead th {\n",
              "        text-align: right;\n",
              "    }\n",
              "</style>\n",
              "<table border=\"1\" class=\"dataframe\">\n",
              "  <thead>\n",
              "    <tr style=\"text-align: right;\">\n",
              "      <th></th>\n",
              "      <th>Departements</th>\n",
              "      <th>Precipitations_mm</th>\n",
              "    </tr>\n",
              "  </thead>\n",
              "  <tbody>\n",
              "    <tr>\n",
              "      <th>0</th>\n",
              "      <td>Pyrénées-Atlantiques</td>\n",
              "      <td>1334</td>\n",
              "    </tr>\n",
              "    <tr>\n",
              "      <th>1</th>\n",
              "      <td>Finistère</td>\n",
              "      <td>1334</td>\n",
              "    </tr>\n",
              "    <tr>\n",
              "      <th>2</th>\n",
              "      <td>Hautes-Pyrénées</td>\n",
              "      <td>1334</td>\n",
              "    </tr>\n",
              "    <tr>\n",
              "      <th>3</th>\n",
              "      <td>Landes</td>\n",
              "      <td>1334</td>\n",
              "    </tr>\n",
              "    <tr>\n",
              "      <th>4</th>\n",
              "      <td>Tarn-et-Garonne</td>\n",
              "      <td>1334</td>\n",
              "    </tr>\n",
              "    <tr>\n",
              "      <th>5</th>\n",
              "      <td>Haute-Vienne</td>\n",
              "      <td>1334</td>\n",
              "    </tr>\n",
              "    <tr>\n",
              "      <th>6</th>\n",
              "      <td>Ariège</td>\n",
              "      <td>1334</td>\n",
              "    </tr>\n",
              "    <tr>\n",
              "      <th>7</th>\n",
              "      <td>Manche</td>\n",
              "      <td>1334</td>\n",
              "    </tr>\n",
              "    <tr>\n",
              "      <th>8</th>\n",
              "      <td>Côtes-d'Armor</td>\n",
              "      <td>1334</td>\n",
              "    </tr>\n",
              "    <tr>\n",
              "      <th>9</th>\n",
              "      <td>Cantal</td>\n",
              "      <td>1334</td>\n",
              "    </tr>\n",
              "  </tbody>\n",
              "</table>\n",
              "</div>\n",
              "      <button class=\"colab-df-convert\" onclick=\"convertToInteractive('df-9097ec6a-6bda-4bee-b155-d8a6c7dad22b')\"\n",
              "              title=\"Convert this dataframe to an interactive table.\"\n",
              "              style=\"display:none;\">\n",
              "        \n",
              "  <svg xmlns=\"http://www.w3.org/2000/svg\" height=\"24px\"viewBox=\"0 0 24 24\"\n",
              "       width=\"24px\">\n",
              "    <path d=\"M0 0h24v24H0V0z\" fill=\"none\"/>\n",
              "    <path d=\"M18.56 5.44l.94 2.06.94-2.06 2.06-.94-2.06-.94-.94-2.06-.94 2.06-2.06.94zm-11 1L8.5 8.5l.94-2.06 2.06-.94-2.06-.94L8.5 2.5l-.94 2.06-2.06.94zm10 10l.94 2.06.94-2.06 2.06-.94-2.06-.94-.94-2.06-.94 2.06-2.06.94z\"/><path d=\"M17.41 7.96l-1.37-1.37c-.4-.4-.92-.59-1.43-.59-.52 0-1.04.2-1.43.59L10.3 9.45l-7.72 7.72c-.78.78-.78 2.05 0 2.83L4 21.41c.39.39.9.59 1.41.59.51 0 1.02-.2 1.41-.59l7.78-7.78 2.81-2.81c.8-.78.8-2.07 0-2.86zM5.41 20L4 18.59l7.72-7.72 1.47 1.35L5.41 20z\"/>\n",
              "  </svg>\n",
              "      </button>\n",
              "      \n",
              "  <style>\n",
              "    .colab-df-container {\n",
              "      display:flex;\n",
              "      flex-wrap:wrap;\n",
              "      gap: 12px;\n",
              "    }\n",
              "\n",
              "    .colab-df-convert {\n",
              "      background-color: #E8F0FE;\n",
              "      border: none;\n",
              "      border-radius: 50%;\n",
              "      cursor: pointer;\n",
              "      display: none;\n",
              "      fill: #1967D2;\n",
              "      height: 32px;\n",
              "      padding: 0 0 0 0;\n",
              "      width: 32px;\n",
              "    }\n",
              "\n",
              "    .colab-df-convert:hover {\n",
              "      background-color: #E2EBFA;\n",
              "      box-shadow: 0px 1px 2px rgba(60, 64, 67, 0.3), 0px 1px 3px 1px rgba(60, 64, 67, 0.15);\n",
              "      fill: #174EA6;\n",
              "    }\n",
              "\n",
              "    [theme=dark] .colab-df-convert {\n",
              "      background-color: #3B4455;\n",
              "      fill: #D2E3FC;\n",
              "    }\n",
              "\n",
              "    [theme=dark] .colab-df-convert:hover {\n",
              "      background-color: #434B5C;\n",
              "      box-shadow: 0px 1px 3px 1px rgba(0, 0, 0, 0.15);\n",
              "      filter: drop-shadow(0px 1px 2px rgba(0, 0, 0, 0.3));\n",
              "      fill: #FFFFFF;\n",
              "    }\n",
              "  </style>\n",
              "\n",
              "      <script>\n",
              "        const buttonEl =\n",
              "          document.querySelector('#df-9097ec6a-6bda-4bee-b155-d8a6c7dad22b button.colab-df-convert');\n",
              "        buttonEl.style.display =\n",
              "          google.colab.kernel.accessAllowed ? 'block' : 'none';\n",
              "\n",
              "        async function convertToInteractive(key) {\n",
              "          const element = document.querySelector('#df-9097ec6a-6bda-4bee-b155-d8a6c7dad22b');\n",
              "          const dataTable =\n",
              "            await google.colab.kernel.invokeFunction('convertToInteractive',\n",
              "                                                     [key], {});\n",
              "          if (!dataTable) return;\n",
              "\n",
              "          const docLinkHtml = 'Like what you see? Visit the ' +\n",
              "            '<a target=\"_blank\" href=https://colab.research.google.com/notebooks/data_table.ipynb>data table notebook</a>'\n",
              "            + ' to learn more about interactive tables.';\n",
              "          element.innerHTML = '';\n",
              "          dataTable['output_type'] = 'display_data';\n",
              "          await google.colab.output.renderOutput(dataTable, element);\n",
              "          const docLink = document.createElement('div');\n",
              "          docLink.innerHTML = docLinkHtml;\n",
              "          element.appendChild(docLink);\n",
              "        }\n",
              "      </script>\n",
              "    </div>\n",
              "  </div>\n",
              "  "
            ]
          },
          "metadata": {},
          "execution_count": 77
        }
      ]
    },
    {
      "cell_type": "code",
      "source": [
        "data2.info()"
      ],
      "metadata": {
        "colab": {
          "base_uri": "https://localhost:8080/"
        },
        "id": "TZfoUyzTJBbV",
        "outputId": "4bf2d948-9c5f-484f-fa65-2db5dadd28ef"
      },
      "execution_count": 78,
      "outputs": [
        {
          "output_type": "stream",
          "name": "stdout",
          "text": [
            "<class 'pandas.core.frame.DataFrame'>\n",
            "RangeIndex: 96 entries, 0 to 95\n",
            "Data columns (total 2 columns):\n",
            " #   Column             Non-Null Count  Dtype \n",
            "---  ------             --------------  ----- \n",
            " 0   Departements       96 non-null     object\n",
            " 1   Precipitations_mm  96 non-null     int64 \n",
            "dtypes: int64(1), object(1)\n",
            "memory usage: 1.6+ KB\n"
          ]
        }
      ]
    },
    {
      "cell_type": "code",
      "source": [
        "#Création d'un fichier .csv\n",
        "data1.to_csv(\"Consommation_EauPotable2020.csv\")"
      ],
      "metadata": {
        "id": "7Pw-0ovPXMD1"
      },
      "execution_count": 89,
      "outputs": []
    },
    {
      "cell_type": "code",
      "source": [
        "#Création d'un fichier .csv\n",
        "data2.to_xls(\"Precipitations2020.csv\")"
      ],
      "metadata": {
        "id": "NgioX_5oYA6V"
      },
      "execution_count": 86,
      "outputs": []
    }
  ]
}